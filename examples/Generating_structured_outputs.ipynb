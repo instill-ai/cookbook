{
 "cells": [
  {
   "cell_type": "markdown",
   "metadata": {},
   "source": [
    "<img src=\"https://raw.githubusercontent.com/instill-ai/cookbook/main/images/Logo.png\" alt=\"Instill Logo\" width=\"300\"/>"
   ]
  },
  {
   "cell_type": "markdown",
   "metadata": {},
   "source": [
    "# Generating Structured Output from LLMs\n",
    "\n",
    "In this notebook, we will explore the performance of OpenAI's new [Structured Outputs in the\n",
    "API](https://openai.com/index/introducing-structured-outputs-in-the-api/) feature, alongside multiple existing tools for generating structured outputs from LLMs. As well as providing a concise demonstration of how to use all of these tools, we will also evaluate them with respect to a task that involves both **reasoning** and **structuring outputs**, inspired by the recent publication titled [Let Me Speak Freely? A Study on the Impact of Format Restrictions on Performance of Large Language Models](https://arxiv.org/abs/2408.02442v1).\n",
    "\n",
    "This illuminates an important problem raised in the paper: **LLMs struggle with reasoning tasks when they're placed under format restrictions**.\n",
    "\n",
    "Besides OpenAI's new structured outputs in the API, the existing tools and libraries that we will demonstrate and test are:\n",
    "\n",
    "1. [**Instructor**](https://python.useinstructor.com) - a Python library, built on top of Pydantic, that lets you generate structured output from LLMs\n",
    "2. [**Marvin**](https://www.askmarvin.ai) - a Python library for building reliable natural language interfaces\n",
    "3. [**BAML**](https://www.boundaryml.com) - a domain specific language to write and test LLM functions\n",
    "4. [**TypeChat**](https://microsoft.github.io/TypeChat/) - a tool from Microsoft for getting well-typed responses from language models\n",
    "5. [**LangChain**](https://www.langchain.com) - a Python library that simplifies building apps with language models by integrating them with data and APIs\n",
    "\n",
    "[Outlines](https://outlines-dev.github.io/outlines/), [JSONformer](https://github.com/1rgs/jsonformer) and [Guidance](https://github.com/guidance-ai/guidance/tree/main) were also considered, however they were left out of this experiment as they had limited support for remote API calls and failed when integrating with the OpenAI API.\n",
    "\n",
    "Finally, we will demonstrate a multi-step approach using Instill VDP, where we separate reasoning from output structuring in a two-step process that allows us to achieve strong reasoning performance from LLMs whilst also producing robust structured outputs.\n",
    "\n",
    "### Setup\n",
    "\n",
    "To execute all of the code in this notebook, you’ll need to create a free Instill Cloud account and setup an API Token. To create your account, please refer to our [quickstart guide](https://www.instill.tech/docs/quickstart). For generating your API Token, consult the [API Token Management](https://www.instill.tech/docs/core/token) page.\n",
    "\n",
    "**This will give you access to 10,000 free credits per month that you can use to make API calls with third-party AI vendors. Please see our [documentation](https://www.instill.tech/docs/cloud/credit) for further details.**\n",
    "\n",
    "Whilst you can run all Instill VDP pipelines using your 10,000 free monthly credits, please note that you will need a valid OpenAI API key to run the structured LLM output evaluations (e.g. for Instructor, Marvin, BAML, TypeChat). Once you have created one via the OpenAI website, please set it as an environment variable by running the following line, but replacing `*********` for your OpenAI API key."
   ]
  },
  {
   "cell_type": "code",
   "execution_count": null,
   "metadata": {},
   "outputs": [],
   "source": [
    "!export OPENAI_API_KEY='**********'"
   ]
  },
  {
   "cell_type": "markdown",
   "metadata": {},
   "source": [
    "We will now install the latest Instill Python SDK, import the required libraries, and configure the SDK with a valid API token."
   ]
  },
  {
   "cell_type": "code",
   "execution_count": 1,
   "metadata": {},
   "outputs": [],
   "source": [
    "!pip install instill-sdk --quiet"
   ]
  },
  {
   "cell_type": "code",
   "execution_count": 2,
   "metadata": {},
   "outputs": [],
   "source": [
    "from instill.clients import InstillClient\n",
    "from instill.configuration import global_config\n",
    "from google.protobuf.json_format import MessageToDict\n",
    "from IPython.display import IFrame\n",
    "import os\n",
    "import seaborn as sns\n",
    "import matplotlib.pyplot as plt\n",
    "\n",
    "global_config.set_default(\n",
    "    url=\"api.instill.tech\",\n",
    "    token=\"YOUR_INSTILL_API_TOKEN\", # <-- Insert your Instill API token here\n",
    "    secure=True,\n",
    ")\n",
    "\n",
    "client = InstillClient(async_enabled=False)"
   ]
  },
  {
   "cell_type": "markdown",
   "metadata": {},
   "source": [
    "### Benchmark Task\n",
    "\n",
    "The task we will use to test, compare and evaluate the performance of these tools is directly inspired from Figure 1 of the aforementioned [paper](https://arxiv.org/abs/2408.02442v1), which poses the question:\n",
    "\n",
    "> Eliza's rate per hour for the first 40 hours she works each week is $10. She also receives an overtime pay of 1.2 times her regular hourly rate. If Eliza worked for 45 hours this week, how much are her earnings for this week?\n",
    "\n",
    "In our task, we increase the complexity by combining an analogous reasoning problem with an additional text summarization task. More precisely, we ask the LLM/output structuring tool to summarize the contents of a resume into the following data model:\n",
    "```Python\n",
    "name: str\n",
    "email: str\n",
    "cost: float\n",
    "reasoning: str\n",
    "experience: list[str]\n",
    "skills: list[str]\n",
    "```\n",
    "where `cost` represents the answer to the question:\n",
    "> John Doe is a freelance software engineer. He charges a \n",
    "        base rate of $50 per hour for the first 29 hours of work \n",
    "        each week. For any additional hours, he charges 1.7 \n",
    "        times his base hourly rate. This week, John worked on a \n",
    "        project for 38 hours. How much will John Doe charge his \n",
    "        client for the project this week?\n",
    "\n",
    "and `reasoning` contains the rationale and steps behind the calculated cost. See below for the example resume we will use, as well as the correct `cost` response."
   ]
  },
  {
   "cell_type": "code",
   "execution_count": 3,
   "metadata": {},
   "outputs": [],
   "source": [
    "resume = \"\"\"\n",
    "    John Doe\n",
    "    1234 Elm Street \n",
    "    Springfield, IL 62701\n",
    "    (123) 456-7890\n",
    "    Email: john.doe@gmail.com\n",
    "\n",
    "    Objective: To obtain a position as a software engineer.\n",
    "\n",
    "    Education:\n",
    "    Bachelor of Science in Computer Science\n",
    "    University of Illinois at Urbana-Champaign\n",
    "    May 2020 - May 2024\n",
    "\n",
    "    Experience:\n",
    "    Software Engineer Intern\n",
    "    Google\n",
    "    May 2022 - August 2022\n",
    "    - Worked on the Google Search team\n",
    "    - Developed new features for the search engine\n",
    "    - Wrote code in Python and C++\n",
    "\n",
    "    Software Engineer Intern\n",
    "    Facebook\n",
    "    May 2021 - August 2021\n",
    "    - Worked on the Facebook Messenger team\n",
    "    - Developed new features for the messenger app\n",
    "    - Wrote code in Python and Java\n",
    "    \"\"\"\n",
    "\n",
    "question = \"\"\"\n",
    "    Question:\n",
    "    John Doe is a freelance software engineer. He charges a \n",
    "    base rate of $50 per hour for the first 29 hours of work \n",
    "    each week. For any additional hours, he charges 1.7 \n",
    "    times his base hourly rate. This week, John worked on a \n",
    "    project for 38 hours. How much will John Doe charge his \n",
    "    client for the project this week?\n",
    "    \"\"\"\n",
    "\n",
    "context = resume + question"
   ]
  },
  {
   "cell_type": "code",
   "execution_count": 4,
   "metadata": {},
   "outputs": [
    {
     "name": "stdout",
     "output_type": "stream",
     "text": [
      "Correct Answer: $2215.0\n"
     ]
    }
   ],
   "source": [
    "true_answer = (50*29) + (1.7*50*9)\n",
    "print(f'Correct Answer: ${true_answer}')"
   ]
  },
  {
   "cell_type": "markdown",
   "metadata": {},
   "source": [
    "### OpenAI GPT-4o Performance Baseline\n",
    "\n",
    "Before we take a look at various libraries and frameworks that aim to produce structured outputs from LLMs, we will first test and evaluate the performance of GPT-4o on this task, with and without enforcing structured output, by making use of the new OpenAI structured output API that is now supported in Instill VDP."
   ]
  },
  {
   "cell_type": "markdown",
   "metadata": {},
   "source": [
    "#### Unstructured Output\n",
    "\n",
    "Here we call the [`unstructured-output`](https://instill.tech/george_strong/pipelines/unstructured-output/playground) Instill VDP pipeline to test the performance of OpenAI's GPT4o model on this task without any restriction on the output structure. It achieves the correct result."
   ]
  },
  {
   "cell_type": "code",
   "execution_count": 5,
   "metadata": {},
   "outputs": [
    {
     "name": "stdout",
     "output_type": "stream",
     "text": [
      "To calculate how much John Doe will charge his client for the project this week:\n",
      "\n",
      "1. **Base Rate Calculation:**\n",
      "   - John charges $50 per hour for the first 29 hours.\n",
      "   - Total for 29 hours = 29 hours * $50/hour = $1,450.\n",
      "\n",
      "2. **Overtime Rate Calculation:**\n",
      "   - John worked a total of 38 hours, which means he worked 38 - 29 = 9 additional hours.\n",
      "   - His overtime rate is 1.7 times his base rate: 1.7 * $50 = $85 per hour.\n",
      "   - Total for 9 additional hours = 9 hours * $85/hour = $765.\n",
      "\n",
      "3. **Total Charge:**\n",
      "   - Total charge = $1,450 (base) + $765 (overtime) = $2,215.\n",
      "\n",
      "John Doe will charge his client $2,215 for the project this week.\n",
      "\n",
      "Additional details regarding the candidate:\n",
      "\n",
      "1. **Name:** John Doe\n",
      "2. **Email:** john.doe@gmail.com\n",
      "3. **Experience:**\n",
      "   - Software Engineer Intern at Google (May 2022 - August 2022)\n",
      "     - Worked on the Google Search team\n",
      "     - Developed new features for the search engine\n",
      "     - Wrote code in Python and C++\n",
      "   - Software Engineer Intern at Facebook (May 2021 - August 2021)\n",
      "     - Worked on the Facebook Messenger team\n",
      "     - Developed new features for the messenger app\n",
      "     - Wrote code in Python and Java\n",
      "4. **Skills:**\n",
      "   - Programming in Python, C++, and Java\n",
      "   - Software development\n",
      "   - Feature development for large-scale applications\n"
     ]
    }
   ],
   "source": [
    "openai_unstructured = client.pipeline_service.trigger_pipeline(\n",
    "    'unstructured-output', [],\n",
    "    [{\"context\": context,\n",
    "      \"question\": question}])\n",
    "\n",
    "openai_unstructured_dict = MessageToDict(openai_unstructured)['outputs'][0]['answer']\n",
    "print(openai_unstructured_dict)"
   ]
  },
  {
   "cell_type": "markdown",
   "metadata": {},
   "source": [
    "#### Structured Output\n",
    "\n",
    "Here we call the [`structured-output`](https://instill.tech/george_strong/pipelines/structured-output/playground) Instill VDP pipeline, which makes use of the new Structured Outputs in the API feature. Although the same model was able to calculate the correct result when generating unstructured text output, by restricting the output format to our structured data model, we can observe that the `cost` result is incorrect."
   ]
  },
  {
   "cell_type": "code",
   "execution_count": 6,
   "metadata": {},
   "outputs": [
    {
     "data": {
      "text/plain": [
       "{'cost': 2225.0,\n",
       " 'email': 'john.doe@gmail.com',\n",
       " 'skills': ['Python', 'C++', 'Java'],\n",
       " 'experience': ['Software Engineer Intern at Google (May 2022 - August 2022)',\n",
       "  'Software Engineer Intern at Facebook (May 2021 - August 2021)'],\n",
       " 'name': 'John Doe'}"
      ]
     },
     "execution_count": 6,
     "metadata": {},
     "output_type": "execute_result"
    }
   ],
   "source": [
    "openai_structured = client.pipeline_service.trigger_pipeline(\n",
    "    'structured-output', [],\n",
    "    [{\"context\": context,\n",
    "      \"question\": question}])\n",
    "\n",
    "openai_structured_dict = MessageToDict(openai_structured)['outputs'][0]['answer']\n",
    "openai_structured_dict"
   ]
  },
  {
   "cell_type": "code",
   "execution_count": 7,
   "metadata": {},
   "outputs": [
    {
     "name": "stdout",
     "output_type": "stream",
     "text": [
      "Cost calculation error: $10.0\n"
     ]
    }
   ],
   "source": [
    "structured_output_error = abs(openai_structured_dict[\"cost\"]-true_answer)\n",
    "print(f'Cost calculation error: ${structured_output_error}')"
   ]
  },
  {
   "cell_type": "markdown",
   "metadata": {},
   "source": [
    "### 1. Instructor\n",
    "\n",
    "[Instructor](https://python.useinstructor.com) is a Python library, built on top of Pydantic, that lets you generate structured output from LLMs. Here is how you can easily get started with it, and test its performance on the benchmark task."
   ]
  },
  {
   "cell_type": "code",
   "execution_count": 8,
   "metadata": {},
   "outputs": [],
   "source": [
    "!pip install -U instructor --quiet\n",
    "import instructor\n",
    "from pydantic import BaseModel\n",
    "from openai import OpenAI"
   ]
  },
  {
   "cell_type": "code",
   "execution_count": 9,
   "metadata": {},
   "outputs": [
    {
     "name": "stderr",
     "output_type": "stream",
     "text": [
      "2024-08-26 16:20:50,714.714 INFO     HTTP Request: POST https://api.openai.com/v1/chat/completions \"HTTP/1.1 200 OK\"\n"
     ]
    },
    {
     "data": {
      "text/plain": [
       "{'name': 'John Doe',\n",
       " 'email': 'john.doe@gmail.com',\n",
       " 'cost': 2139.0,\n",
       " 'experience': ['Software Engineer Intern at Google (May 2022 - August 2022)',\n",
       "  'Software Engineer Intern at Facebook (May 2021 - August 2021)'],\n",
       " 'skills': ['Python', 'C++', 'Java']}"
      ]
     },
     "execution_count": 9,
     "metadata": {},
     "output_type": "execute_result"
    }
   ],
   "source": [
    "class DataModel(BaseModel):\n",
    "    name: str\n",
    "    email: str\n",
    "    cost: float\n",
    "    experience: list[str]\n",
    "    skills: list[str]\n",
    "\n",
    "\n",
    "instructor_client = instructor.from_openai(OpenAI())\n",
    "\n",
    "template = \"\"\"\n",
    "    Extract from this content:\n",
    "    {resume}\n",
    "    Answer the question, storing the result in cost.\n",
    "    \"\"\"\n",
    "\n",
    "prompt = template.format(resume=context)\n",
    "\n",
    "instructor_response = instructor_client.chat.completions.create(\n",
    "    model=\"gpt-4o\",\n",
    "    response_model=DataModel,\n",
    "    messages=[{\"role\": \"user\", \"content\": prompt}],\n",
    ")\n",
    "\n",
    "instructor_dict = instructor_response.model_dump()\n",
    "instructor_dict"
   ]
  },
  {
   "cell_type": "code",
   "execution_count": 10,
   "metadata": {},
   "outputs": [
    {
     "name": "stdout",
     "output_type": "stream",
     "text": [
      "Cost calculation error: $76.0\n"
     ]
    }
   ],
   "source": [
    "instructor_error = abs(instructor_dict[\"cost\"]-true_answer)\n",
    "print(f'Cost calculation error: ${instructor_error}')"
   ]
  },
  {
   "cell_type": "markdown",
   "metadata": {},
   "source": [
    "### 2. Marvin\n",
    "\n",
    "[Marvin](https://www.askmarvin.ai) is a Python library for building reliable natural language interfaces. Here is how you can easily get started with it, and test its performance on the benchmark task."
   ]
  },
  {
   "cell_type": "code",
   "execution_count": 11,
   "metadata": {},
   "outputs": [],
   "source": [
    "!pip install marvin --quiet\n",
    "import marvin"
   ]
  },
  {
   "cell_type": "code",
   "execution_count": 12,
   "metadata": {},
   "outputs": [
    {
     "name": "stderr",
     "output_type": "stream",
     "text": [
      "2024-08-26 16:20:54,872.872 INFO     HTTP Request: POST https://api.openai.com/v1/chat/completions \"HTTP/1.1 200 OK\"\n"
     ]
    },
    {
     "data": {
      "text/plain": [
       "{'name': 'John Doe',\n",
       " 'email': 'john.doe@gmail.com',\n",
       " 'cost': 2183.0,\n",
       " 'experience': ['Software Engineer Intern at Google (May 2022 - August 2022)',\n",
       "  'Software Engineer Intern at Facebook (May 2021 - August 2021)'],\n",
       " 'skills': ['Python', 'C++', 'Java']}"
      ]
     },
     "execution_count": 12,
     "metadata": {},
     "output_type": "execute_result"
    }
   ],
   "source": [
    "@marvin.fn\n",
    "def process(\n",
    "    resume:str = resume,\n",
    "    question: str = question,\n",
    ") -> DataModel:\n",
    "    \"\"\"\n",
    "    Extract content from `resume`.\n",
    "    Answer the `question`, storing the result in cost.\n",
    "    \"\"\"\n",
    "\n",
    "\n",
    "marvin_response = process(resume, question)\n",
    "\n",
    "marvin_dict = marvin_response.model_dump()\n",
    "marvin_dict"
   ]
  },
  {
   "cell_type": "code",
   "execution_count": 13,
   "metadata": {},
   "outputs": [
    {
     "name": "stdout",
     "output_type": "stream",
     "text": [
      "Cost calculation error: $32.0\n"
     ]
    }
   ],
   "source": [
    "marvin_error = abs(marvin_dict[\"cost\"]-true_answer)\n",
    "print(f'Cost calculation error: ${marvin_error}')"
   ]
  },
  {
   "cell_type": "markdown",
   "metadata": {},
   "source": [
    "### 3. BAML\n",
    "\n",
    "[BAML](https://www.boundaryml.com) is a domain specific language to write and test LLM functions developed by Boundary. Here is how you can easily get started with it, and test its performance on the benchmark task."
   ]
  },
  {
   "cell_type": "code",
   "execution_count": 14,
   "metadata": {},
   "outputs": [
    {
     "name": "stdout",
     "output_type": "stream",
     "text": [
      "Requirement already satisfied: baml-py in /opt/miniconda3/envs/instill/lib/python3.11/site-packages (0.53.1)\n"
     ]
    }
   ],
   "source": [
    "!pip install baml-py\n",
    "!baml-cli init"
   ]
  },
  {
   "cell_type": "code",
   "execution_count": 15,
   "metadata": {},
   "outputs": [],
   "source": [
    "file_path = 'baml_src/resume.baml'\n",
    "\n",
    "with open(file_path, 'r') as file:\n",
    "    file_data = file.read()\n",
    "\n",
    "updated_file_data = file_data.replace(\n",
    "    '// Defining a data model.\\nclass Resume {\\n  name string\\n  email string\\n  experience string[]\\n  skills string[]\\n}',\n",
    "    '// Defining a data model.\\nclass Resume {\\n  name string\\n  email string\\n  cost float\\n  experience string[]\\n  skills string[]\\n}'\n",
    "    ).replace(\n",
    "    'Extract from this content:\\n    {{ resume }}\\n\\n',\n",
    "    'Extract from this content:\\n    {{ resume }}\\n    Answer the question, storing the result in cost.\\n\\n'\n",
    "    )\n",
    "\n",
    "with open(file_path, 'w') as file:\n",
    "    file.write(updated_file_data)"
   ]
  },
  {
   "cell_type": "code",
   "execution_count": 16,
   "metadata": {},
   "outputs": [
    {
     "name": "stdout",
     "output_type": "stream",
     "text": [
      "Generated 1 baml_client\n"
     ]
    }
   ],
   "source": [
    "!baml-cli generate\n",
    "from baml_client.sync_client import b"
   ]
  },
  {
   "cell_type": "code",
   "execution_count": 17,
   "metadata": {},
   "outputs": [
    {
     "data": {
      "text/plain": [
       "{'name': 'John Doe',\n",
       " 'email': 'john.doe@gmail.com',\n",
       " 'cost': 680.0,\n",
       " 'experience': ['Software Engineer Intern at Google',\n",
       "  'Software Engineer Intern at Facebook'],\n",
       " 'skills': ['Python', 'C++', 'Java']}"
      ]
     },
     "execution_count": 17,
     "metadata": {},
     "output_type": "execute_result"
    }
   ],
   "source": [
    "baml_response = b.ExtractResume(context)\n",
    "\n",
    "baml_dict = baml_response.model_dump()\n",
    "baml_dict"
   ]
  },
  {
   "cell_type": "code",
   "execution_count": 18,
   "metadata": {},
   "outputs": [
    {
     "name": "stdout",
     "output_type": "stream",
     "text": [
      "Cost calculation error: $1535.0\n"
     ]
    }
   ],
   "source": [
    "baml_error = abs(baml_dict[\"cost\"]-true_answer)\n",
    "print(f'Cost calculation error: ${baml_error}')"
   ]
  },
  {
   "cell_type": "markdown",
   "metadata": {},
   "source": [
    "### 4. TypeChat\n",
    "\n",
    "[TypeChat](https://microsoft.github.io/TypeChat/) is a tool from Microsoft for getting well-typed responses from language models. Here is how you can easily get started with it, and test its performance on the benchmark task."
   ]
  },
  {
   "cell_type": "code",
   "execution_count": 19,
   "metadata": {},
   "outputs": [],
   "source": [
    "!pip install \"typechat @ git+https://github.com/microsoft/TypeChat#subdirectory=python\" --quiet\n",
    "from dataclasses import dataclass\n",
    "from typing_extensions import Annotated, Doc\n",
    "from typing import Dict, Any\n",
    "from typechat import TypeChatJsonTranslator, TypeChatValidator, create_language_model"
   ]
  },
  {
   "cell_type": "code",
   "execution_count": 20,
   "metadata": {},
   "outputs": [
    {
     "name": "stderr",
     "output_type": "stream",
     "text": [
      "2024-08-26 16:21:06,968.968 INFO     HTTP Request: POST https://api.openai.com/v1/chat/completions \"HTTP/1.1 200 OK\"\n"
     ]
    },
    {
     "data": {
      "text/plain": [
       "{'name': 'John Doe',\n",
       " 'email': 'john.doe@gmail.com',\n",
       " 'cost': 1915.0,\n",
       " 'experience': ['Software Engineer Intern at Google (May 2022 - August 2022)',\n",
       "  'Software Engineer Intern at Facebook (May 2021 - August 2021)'],\n",
       " 'skills': ['Python', 'C++', 'Java']}"
      ]
     },
     "execution_count": 20,
     "metadata": {},
     "output_type": "execute_result"
    }
   ],
   "source": [
    "@dataclass\n",
    "class TypeChatDataModel:\n",
    "    name: Annotated[str, Doc(\"The name of the candidate\")]\n",
    "    email: Annotated[str, Doc(\"The email address of the candidate\")]\n",
    "    cost: Annotated[float, Doc(\"The cost of hiring the candidate for the project\")]\n",
    "    experience: Annotated[list[str], Doc(\"A list of experiences the candidate has\")]\n",
    "    skills: Annotated[list[str], Doc(\"A list of skills the candidate possesses\")]\n",
    "\n",
    "    def to_dict(self) -> Dict[str, Any]:\n",
    "        return {\n",
    "            \"name\": self.name,\n",
    "            \"email\": self.email,\n",
    "            \"cost\": self.cost,\n",
    "            \"experience\": self.experience,\n",
    "            \"skills\": self.skills,\n",
    "        }\n",
    "\n",
    "\n",
    "env_vars = {'OPENAI_API_KEY': os.getenv('OPENAI_API_KEY'), 'OPENAI_MODEL': 'gpt-4o'}\n",
    "\n",
    "model = create_language_model(env_vars)\n",
    "validator = TypeChatValidator(TypeChatDataModel)\n",
    "translator = TypeChatJsonTranslator(model, validator, TypeChatDataModel)\n",
    "\n",
    "# TypeChat needed a little more help in the prompt to generate the output as numeric value!\n",
    "typechat_response = await translator.translate(prompt + \"The value stored in cost must be a single number of type float.\")\n",
    "\n",
    "typechat_dict = typechat_response.value.to_dict()\n",
    "typechat_dict"
   ]
  },
  {
   "cell_type": "code",
   "execution_count": 21,
   "metadata": {},
   "outputs": [
    {
     "name": "stdout",
     "output_type": "stream",
     "text": [
      "TypeChat error: $300.0\n"
     ]
    }
   ],
   "source": [
    "typechat_error = abs(typechat_dict[\"cost\"]-true_answer)\n",
    "print(f'TypeChat error: ${typechat_error}')"
   ]
  },
  {
   "cell_type": "markdown",
   "metadata": {},
   "source": [
    "### 5. LangChain\n",
    "\n",
    "LangChain simplifies building apps with language models by integrating them with data and APIs. Here is how you can easily get started with it, and test its performance on the benchmark task."
   ]
  },
  {
   "cell_type": "code",
   "execution_count": 22,
   "metadata": {},
   "outputs": [],
   "source": [
    "!pip install langchain --quiet\n",
    "!pip install langchain-openai --quiet\n",
    "from langchain_core.pydantic_v1 import BaseModel, Field\n",
    "from langchain_openai import ChatOpenAI"
   ]
  },
  {
   "cell_type": "code",
   "execution_count": 23,
   "metadata": {},
   "outputs": [
    {
     "name": "stderr",
     "output_type": "stream",
     "text": [
      "2024-08-26 16:21:12,077.077 INFO     HTTP Request: POST https://api.openai.com/v1/chat/completions \"HTTP/1.1 200 OK\"\n"
     ]
    },
    {
     "data": {
      "text/plain": [
       "{'name': 'John Doe',\n",
       " 'email': 'john.doe@gmail.com',\n",
       " 'cost': 2115.0,\n",
       " 'experience': ['Software Engineer Intern at Google (May 2022 - August 2022)',\n",
       "  'Software Engineer Intern at Facebook (May 2021 - August 2021)'],\n",
       " 'skills': ['Python', 'C++', 'Java']}"
      ]
     },
     "execution_count": 23,
     "metadata": {},
     "output_type": "execute_result"
    }
   ],
   "source": [
    "class DataModel(BaseModel):\n",
    "    name: str = Field(description=\"The name of the candidate\")\n",
    "    email: str = Field(description=\"The email address of the candidate\")\n",
    "    cost: float = Field(description=\"The cost of hiring the candidate for the project\")\n",
    "    experience: list[str] = Field(description=\"A list of experiences the candidate has\")\n",
    "    skills: list[str] = Field(description=\"A list of skills the candidate possesses\")\n",
    "\n",
    "\n",
    "model = ChatOpenAI(model=\"gpt-4o\", temperature=0)\n",
    "structured_llm = model.with_structured_output(DataModel)\n",
    "\n",
    "langchain_response = structured_llm.invoke(prompt + \"The value stored in cost must be a single number of type float.\")\n",
    "\n",
    "langchain_dict = langchain_response.dict()\n",
    "langchain_dict"
   ]
  },
  {
   "cell_type": "code",
   "execution_count": 24,
   "metadata": {},
   "outputs": [
    {
     "name": "stdout",
     "output_type": "stream",
     "text": [
      "LangChain error: $100.0\n"
     ]
    }
   ],
   "source": [
    "langchain_error = abs(langchain_dict[\"cost\"]-true_answer)\n",
    "print(f'LangChain error: ${langchain_error}')"
   ]
  },
  {
   "cell_type": "markdown",
   "metadata": {},
   "source": [
    "### Evaluation\n",
    "\n",
    "As illustrated in the below plot, the different blends of prompt engineering, output parsing and error handling used by each tool produce different reasoning errors when enforcing structured outputs. Despite variation in the error per tool used, it is important to note that _all_ methods failed on this task and would unusable in any realistic production setting where reasoning of a similar complexity is required."
   ]
  },
  {
   "cell_type": "code",
   "execution_count": 25,
   "metadata": {},
   "outputs": [
    {
     "data": {
      "image/png": "[encoded data removed]",
      "text/plain": [
       "<Figure size 640x480 with 1 Axes>"
      ]
     },
     "metadata": {},
     "output_type": "display_data"
    }
   ],
   "source": [
    "results = [structured_output_error, instructor_error, marvin_error, baml_error, typechat_error, langchain_error]\n",
    "titles = ['OpenAI', 'Instructor', 'Marvin', 'BAML', 'TypeChat', 'LangChain']\n",
    "\n",
    "sns.barplot(x=titles, y=results)\n",
    "\n",
    "plt.title('Structured Output Error by Tool')\n",
    "plt.ylabel('Calculation Error (in $)')\n",
    "\n",
    "sns.despine()\n",
    "\n",
    "plt.show()"
   ]
  },
  {
   "cell_type": "markdown",
   "metadata": {},
   "source": [
    "### The Solution: Multi-Step Approach Using **💧 Instill VDP**\n",
    "\n",
    "This problem is easily solved using an Instill VDP pipeline that separates reasoning and structuring tasks into a two-step process. It first generates an unstructured reasoning response which is then passed to a second component which is solely responsible for structuring the reasoning response into the desired data model. The final output is delivered as a JSON object.\n",
    "\n",
    "Please view and explore the components and structure of the [`multistep-structured-output`](https://instill.tech/george_strong/pipelines/multistep-structured-output/playground) pipeline in the no-code editor window shown below. Note that you can expand the components in the pipeline by selecting the `+` icon."
   ]
  },
  {
   "cell_type": "code",
   "execution_count": 26,
   "metadata": {},
   "outputs": [
    {
     "data": {
      "text/html": [
       "\n",
       "        <iframe\n",
       "            width=\"1000\"\n",
       "            height=\"800\"\n",
       "            src=\"https://instill.tech/george_strong/pipelines/multistep-structured-output/preview\"\n",
       "            frameborder=\"0\"\n",
       "            allowfullscreen\n",
       "            \n",
       "        ></iframe>\n",
       "        "
      ],
      "text/plain": [
       "<IPython.lib.display.IFrame at 0x341f49450>"
      ]
     },
     "execution_count": 26,
     "metadata": {},
     "output_type": "execute_result"
    }
   ],
   "source": [
    "IFrame('https://instill.tech/george_strong/pipelines/multistep-structured-output/preview', width=1000, height=800)"
   ]
  },
  {
   "cell_type": "code",
   "execution_count": 27,
   "metadata": {},
   "outputs": [
    {
     "data": {
      "text/plain": [
       "{'name': 'John Doe',\n",
       " 'email': 'john.doe@gmail.com',\n",
       " 'experience': ['Software Engineer Intern at Google (May 2022 - August 2022)',\n",
       "  'Software Engineer Intern at Facebook (May 2021 - August 2021)'],\n",
       " 'skills': ['Python', 'C++', 'Java'],\n",
       " 'cost': 2215.0}"
      ]
     },
     "execution_count": 27,
     "metadata": {},
     "output_type": "execute_result"
    }
   ],
   "source": [
    "openai_multi_structured = client.pipeline_service.trigger_pipeline(\n",
    "    'multistep-structured-output', [],\n",
    "    [{\"context\": context,\n",
    "      \"question\": question}])\n",
    "\n",
    "openai_multi_structured_dict = MessageToDict(openai_multi_structured)['outputs'][0]['answer']\n",
    "openai_multi_structured_dict"
   ]
  },
  {
   "cell_type": "code",
   "execution_count": 28,
   "metadata": {},
   "outputs": [
    {
     "name": "stdout",
     "output_type": "stream",
     "text": [
      "Cost calculation error: $0.0\n"
     ]
    }
   ],
   "source": [
    "multi_structured_output_error = abs(openai_multi_structured_dict[\"cost\"]-true_answer)\n",
    "print(f'Cost calculation error: ${multi_structured_output_error}')"
   ]
  },
  {
   "cell_type": "markdown",
   "metadata": {},
   "source": [
    "Despite using two LLM inferences, it is important to note that the cost will likely still be less than many of the structuring output tools that have been considered, as these sometimes rely on making repeat API calls with modified prompts until the output can be successfully parsed into the required data model."
   ]
  },
  {
   "cell_type": "markdown",
   "metadata": {},
   "source": []
  },
  {
   "cell_type": "markdown",
   "metadata": {},
   "source": []
  }
 ],
 "metadata": {
  "kernelspec": {
   "display_name": "dl",
   "language": "python",
   "name": "python3"
  },
  "language_info": {
   "codemirror_mode": {
    "name": "ipython",
    "version": 3
   },
   "file_extension": ".py",
   "mimetype": "text/x-python",
   "name": "python",
   "nbconvert_exporter": "python",
   "pygments_lexer": "ipython3",
   "version": "3.11.9"
  }
 },
 "nbformat": 4,
 "nbformat_minor": 2
}
