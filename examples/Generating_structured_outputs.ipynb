{
 "cells": [
  {
   "cell_type": "markdown",
   "metadata": {},
   "source": [
    "<img src=\"https://raw.githubusercontent.com/instill-ai/cookbook/main/images/Logo.png\" alt=\"Instill Logo\" width=\"300\"/>"
   ]
  },
  {
   "cell_type": "markdown",
   "metadata": {},
   "source": [
    "# Generating Structured Output from LLMs\n",
    "\n",
    "In this notebook, we will explore the performance of OpenAI's new [Structured Outputs in the\n",
    "API](https://openai.com/index/introducing-structured-outputs-in-the-api/) feature, alongside multiple existing tools for generating structured outputs from LLMs. As well as providing a concise demonstration of how to use all of these tools, we will also evaluate them with respect to a task that involves both **reasoning** and **structuring outputs**, inspired by the recent publication titled [Let Me Speak Freely? A Study on the Impact of Format Restrictions on Performance of Large Language Models](https://arxiv.org/abs/2408.02442v1).\n",
    "\n",
    "This illuminates an important problem raised in the paper: **LLMs struggle with reasoning tasks when they're placed under format restrictions**.\n",
    "\n",
    "Besides OpenAI's new structured outputs in the API, the existing tools and libraries that we will demonstrate and test are:\n",
    "\n",
    "1. [**Instructor**](https://python.useinstructor.com) - a Python library, built on top of Pydantic, that lets you generate structured output from LLMs\n",
    "2. [**Marvin**](https://www.askmarvin.ai) - a Python library for building reliable natural language interfaces\n",
    "3. [**BAML**](https://www.boundaryml.com) - a domain specific language to write and test LLM functions\n",
    "4. [**TypeChat**](https://microsoft.github.io/TypeChat/) - a tool from Microsoft for getting well-typed responses from language models\n",
    "5. [**LangChain**](https://www.langchain.com) - a Python library that simplifies building apps with language models by integrating them with data and APIs\n",
    "\n",
    "[Outlines](https://outlines-dev.github.io/outlines/), [JSONformer](https://github.com/1rgs/jsonformer) and [Guidance](https://github.com/guidance-ai/guidance/tree/main) were also considered, however they were left out of this experiment as they had limited support for remote API calls and failed when integrating with the OpenAI API.\n",
    "\n",
    "Finally, we will demonstrate a multi-step approach using Instill VDP, where we separate reasoning from output structuring in a two-step process that allows us to achieve strong reasoning performance from LLMs whilst also producing robust structured outputs."
   ]
  },
  {
   "cell_type": "markdown",
   "metadata": {},
   "source": [
    "### Setup\n",
    "\n",
    "To execute all of the code in this notebook, you’ll need to create a free Instill Cloud account and setup an API Token. To create your account, please refer to our [quickstart guide](https://www.instill.tech/docs/quickstart). For generating your API Token, consult the [API Token Management](https://www.instill.tech/docs/core/token) page.\n",
    "\n",
    "**This will give you access to 10,000 free credits per month that you can use to make API calls with third-party AI vendors. Please see our [documentation](https://www.instill.tech/docs/cloud/credit) for further details.**\n",
    "\n",
    "Whilst you can run all Instill VDP pipelines using your 10,000 free monthly credits, please note that you will need a valid OpenAI API key to run the structured LLM output evaluations (e.g. for Instructor, Marvin, BAML, TypeChat). Once you have created one via the OpenAI website, please set it as an environment variable by running the following line, but replacing `*********` for your OpenAI API key."
   ]
  },
  {
   "cell_type": "code",
   "execution_count": null,
   "metadata": {},
   "outputs": [],
   "source": [
    "!export OPENAI_API_KEY='**********'"
   ]
  },
  {
   "cell_type": "markdown",
   "metadata": {},
   "source": [
    "We will now install the latest Instill Python SDK, import the required libraries, and configure the SDK with a valid API token."
   ]
  },
  {
   "cell_type": "code",
   "execution_count": 1,
   "metadata": {},
   "outputs": [],
   "source": [
    "!pip install instill-sdk --quiet"
   ]
  },
  {
   "cell_type": "code",
   "execution_count": 2,
   "metadata": {},
   "outputs": [],
   "source": [
    "from instill.clients import InstillClient\n",
    "from instill.configuration import global_config\n",
    "from google.protobuf.json_format import MessageToDict\n",
    "from IPython.display import IFrame\n",
    "import os\n",
    "import seaborn as sns\n",
    "import matplotlib.pyplot as plt\n",
    "import pandas as pd\n",
    "\n",
    "global_config.set_default(\n",
    "    url=\"api.instill.tech\",\n",
    "    token=\"YOUR_INSTILL_API_TOKEN\", # <-- Insert your Instill API token here\n",
    "    secure=True,\n",
    ")\n",
    "\n",
    "client = InstillClient(async_enabled=False)"
   ]
  },
  {
   "cell_type": "markdown",
   "metadata": {},
   "source": [
    "### Benchmark Task\n",
    "\n",
    "The task we will use to test, compare and evaluate the performance of these tools is directly inspired from Figure 1 of the aforementioned [paper](https://arxiv.org/abs/2408.02442v1), which poses the question:\n",
    "\n",
    "> Eliza's rate per hour for the first 40 hours she works each week is $10. She also receives an overtime pay of 1.2 times her regular hourly rate. If Eliza worked for 45 hours this week, how much are her earnings for this week?\n",
    "\n",
    "In our task, we increase the complexity by combining an analogous reasoning problem with an additional text summarization task. More precisely, we ask the LLM/output structuring tool to summarize the contents of a resume into the following data model:\n",
    "```Python\n",
    "name: str\n",
    "email: str\n",
    "cost: float\n",
    "experience: list[str]\n",
    "skills: list[str]\n",
    "```\n",
    "where `cost` represents the answer to the question:\n",
    "> John Doe is a freelance software engineer. He charges a \n",
    "        base rate of $50 per hour for the first 29 hours of work \n",
    "        each week. For any additional hours, he charges 1.7 \n",
    "        times his base hourly rate. This week, John worked on a \n",
    "        project for 38 hours. How much will John Doe charge his \n",
    "        client for the project this week?\n",
    "\n",
    "and `reasoning` contains the rationale and steps behind the calculated cost. See below for the example resume we will use, as well as the correct `cost` response."
   ]
  },
  {
   "cell_type": "code",
   "execution_count": 3,
   "metadata": {},
   "outputs": [],
   "source": [
    "resume = \"\"\"\n",
    "    John Doe\n",
    "    1234 Elm Street \n",
    "    Springfield, IL 62701\n",
    "    (123) 456-7890\n",
    "    Email: john.doe@gmail.com\n",
    "\n",
    "    Objective: To obtain a position as a software engineer.\n",
    "\n",
    "    Education:\n",
    "    Bachelor of Science in Computer Science\n",
    "    University of Illinois at Urbana-Champaign\n",
    "    May 2020 - May 2024\n",
    "\n",
    "    Experience:\n",
    "    Software Engineer Intern\n",
    "    Google\n",
    "    May 2022 - August 2022\n",
    "    - Worked on the Google Search team\n",
    "    - Developed new features for the search engine\n",
    "    - Wrote code in Python and C++\n",
    "\n",
    "    Software Engineer Intern\n",
    "    Facebook\n",
    "    May 2021 - August 2021\n",
    "    - Worked on the Facebook Messenger team\n",
    "    - Developed new features for the messenger app\n",
    "    - Wrote code in Python and Java\n",
    "    \"\"\"\n",
    "\n",
    "question = \"\"\"\n",
    "    Question:\n",
    "    John Doe is a freelance software engineer. He charges a \n",
    "    base rate of $50 per hour for the first 29 hours of work \n",
    "    each week. For any additional hours, he charges 1.7 \n",
    "    times his base hourly rate. This week, John worked on a \n",
    "    project for 38 hours. How much will John Doe charge his \n",
    "    client for the project this week?\n",
    "    \"\"\"\n",
    "\n",
    "context = resume + question"
   ]
  },
  {
   "cell_type": "markdown",
   "metadata": {},
   "source": [
    "#### Correct Answer"
   ]
  },
  {
   "cell_type": "code",
   "execution_count": 4,
   "metadata": {},
   "outputs": [
    {
     "name": "stdout",
     "output_type": "stream",
     "text": [
      "Correct Answer: $2215.0\n"
     ]
    }
   ],
   "source": [
    "true_answer = (50*29) + (1.7*50*9)\n",
    "print(f'Correct Answer: ${true_answer}')"
   ]
  },
  {
   "cell_type": "markdown",
   "metadata": {},
   "source": [
    "### OpenAI GPT-4o Performance Baseline\n",
    "\n",
    "Before we take a look at various libraries and frameworks that aim to produce structured outputs from LLMs, we will first test and evaluate the performance of GPT-4o on this task, with and without enforcing structured output, by making use of the new OpenAI structured output API that is now supported in Instill VDP."
   ]
  },
  {
   "cell_type": "markdown",
   "metadata": {},
   "source": [
    "#### Unstructured Output\n",
    "\n",
    "Here we call the [`unstructured-output`](https://instill.tech/george_strong/pipelines/unstructured-output/playground) Instill VDP pipeline to test the performance of OpenAI's GPT4o model on this task without any restriction on the output structure. It achieves the correct result."
   ]
  },
  {
   "cell_type": "code",
   "execution_count": 5,
   "metadata": {},
   "outputs": [
    {
     "name": "stdout",
     "output_type": "stream",
     "text": [
      "To calculate how much John Doe will charge for working 38 hours this week:\n",
      "\n",
      "1. For the first 29 hours, John charges his base rate of $50 per hour.\n",
      "   \\[\n",
      "   29 \\times 50 = 1450 \\text{ dollars}\n",
      "   \\]\n",
      "\n",
      "2. For any additional hours (38 - 29 = 9 hours), John charges 1.7 times his base rate.\n",
      "   \\[\n",
      "   9 \\times (50 \\times 1.7) = 9 \\times 85 = 765 \\text{ dollars}\n",
      "   \\]\n",
      "\n",
      "3. Total charge for 38 hours is:\n",
      "   \\[\n",
      "   1450 + 765 = 2215 \\text{ dollars}\n",
      "   \\]\n",
      "\n",
      "John Doe will charge his client $2,215 for the project this week.\n",
      "\n",
      "Additional details regarding the candidate:\n",
      "\n",
      "1. **Name**: John Doe  \n",
      "2. **Email**: john.doe@gmail.com  \n",
      "3. **Experience**:\n",
      "   - Software Engineer Intern at Google (May 2022 - August 2022)\n",
      "     - Worked on the Google Search team\n",
      "     - Developed new features for the search engine\n",
      "     - Wrote code in Python and C++\n",
      "   - Software Engineer Intern at Facebook (May 2021 - August 2021)\n",
      "     - Worked on the Facebook Messenger team\n",
      "     - Developed new features for the messenger app\n",
      "     - Wrote code in Python and Java\n",
      "4. **Skills**: Python, C++, Java, software development, feature development for search engines and messenger apps.\n"
     ]
    }
   ],
   "source": [
    "openai_unstructured = client.pipeline_service.trigger_pipeline(\n",
    "    'unstructured-output', [],\n",
    "    [{\"context\": context,\n",
    "      \"question\": question}])\n",
    "\n",
    "openai_unstructured_dict = MessageToDict(openai_unstructured)['outputs'][0]['answer']\n",
    "print(openai_unstructured_dict)"
   ]
  },
  {
   "cell_type": "markdown",
   "metadata": {},
   "source": [
    "#### Structured Output\n",
    "\n",
    "Here we call the [`structured-output`](https://instill.tech/george_strong/pipelines/structured-output/playground) Instill VDP pipeline, which makes use of the new Structured Outputs in the API feature. Although the same model was able to calculate the correct result when generating unstructured text output, by restricting the output format to our structured data model, we can observe that the `cost` result is incorrect."
   ]
  },
  {
   "cell_type": "code",
   "execution_count": 6,
   "metadata": {},
   "outputs": [
    {
     "data": {
      "text/plain": [
       "{'cost': 2120.0,\n",
       " 'email': 'john.doe@gmail.com',\n",
       " 'skills': ['Python', 'C++', 'Java'],\n",
       " 'experience': ['Software Engineer Intern at Google (May 2022 - August 2022)',\n",
       "  'Software Engineer Intern at Facebook (May 2021 - August 2021)'],\n",
       " 'name': 'John Doe'}"
      ]
     },
     "execution_count": 6,
     "metadata": {},
     "output_type": "execute_result"
    }
   ],
   "source": [
    "openai_structured = client.pipeline_service.trigger_pipeline(\n",
    "    'structured-output', [],\n",
    "    [{\"context\": context,\n",
    "      \"question\": question}])\n",
    "\n",
    "openai_structured_dict = MessageToDict(openai_structured)['outputs'][0]['answer']\n",
    "openai_structured_dict"
   ]
  },
  {
   "cell_type": "code",
   "execution_count": 7,
   "metadata": {},
   "outputs": [
    {
     "name": "stdout",
     "output_type": "stream",
     "text": [
      "Cost calculation error: $95.0\n"
     ]
    }
   ],
   "source": [
    "structured_output_error = abs(openai_structured_dict[\"cost\"]-true_answer)\n",
    "print(f'Cost calculation error: ${structured_output_error}')"
   ]
  },
  {
   "cell_type": "markdown",
   "metadata": {},
   "source": [
    "### 1. Instructor\n",
    "\n",
    "[Instructor](https://python.useinstructor.com) is a Python library, built on top of Pydantic, that lets you generate structured output from LLMs. Here is how you can easily get started with it, and test its performance on the benchmark task."
   ]
  },
  {
   "cell_type": "code",
   "execution_count": 8,
   "metadata": {},
   "outputs": [],
   "source": [
    "!pip install -U instructor --quiet\n",
    "import instructor\n",
    "from pydantic import BaseModel\n",
    "from openai import OpenAI"
   ]
  },
  {
   "cell_type": "code",
   "execution_count": 9,
   "metadata": {},
   "outputs": [
    {
     "name": "stderr",
     "output_type": "stream",
     "text": [
      "2024-08-28 22:46:00,147.147 INFO     HTTP Request: POST https://api.openai.com/v1/chat/completions \"HTTP/1.1 200 OK\"\n"
     ]
    },
    {
     "data": {
      "text/plain": [
       "{'name': 'John Doe',\n",
       " 'email': 'john.doe@gmail.com',\n",
       " 'cost': 1965.0,\n",
       " 'experience': ['Software Engineer Intern at Google (May 2022 - August 2022)',\n",
       "  'Software Engineer Intern at Facebook (May 2021 - August 2021)'],\n",
       " 'skills': ['Python', 'C++', 'Java']}"
      ]
     },
     "execution_count": 9,
     "metadata": {},
     "output_type": "execute_result"
    }
   ],
   "source": [
    "class DataModel(BaseModel):\n",
    "    name: str\n",
    "    email: str\n",
    "    cost: float\n",
    "    experience: list[str]\n",
    "    skills: list[str]\n",
    "\n",
    "\n",
    "instructor_client = instructor.from_openai(OpenAI())\n",
    "\n",
    "template = \"\"\"\n",
    "    Extract from this content:\n",
    "    {resume}\n",
    "    Answer the question, storing the result in cost.\n",
    "    \"\"\"\n",
    "\n",
    "prompt = template.format(resume=context)\n",
    "\n",
    "instructor_response = instructor_client.chat.completions.create(\n",
    "    model=\"gpt-4o\",\n",
    "    response_model=DataModel,\n",
    "    messages=[{\"role\": \"user\", \"content\": prompt}],\n",
    "    temperature=1,\n",
    ")\n",
    "\n",
    "instructor_dict = instructor_response.model_dump()\n",
    "instructor_dict"
   ]
  },
  {
   "cell_type": "code",
   "execution_count": 10,
   "metadata": {},
   "outputs": [
    {
     "name": "stdout",
     "output_type": "stream",
     "text": [
      "Cost calculation error: $250.0\n"
     ]
    }
   ],
   "source": [
    "instructor_error = abs(instructor_dict[\"cost\"]-true_answer)\n",
    "print(f'Cost calculation error: ${instructor_error}')"
   ]
  },
  {
   "cell_type": "markdown",
   "metadata": {},
   "source": [
    "### 2. Marvin\n",
    "\n",
    "[Marvin](https://www.askmarvin.ai) is a Python library for building reliable natural language interfaces. Here is how you can easily get started with it, and test its performance on the benchmark task."
   ]
  },
  {
   "cell_type": "code",
   "execution_count": 11,
   "metadata": {},
   "outputs": [],
   "source": [
    "!pip install marvin --quiet\n",
    "import marvin"
   ]
  },
  {
   "cell_type": "code",
   "execution_count": 12,
   "metadata": {},
   "outputs": [
    {
     "name": "stderr",
     "output_type": "stream",
     "text": [
      "2024-08-28 22:46:08,455.455 INFO     HTTP Request: POST https://api.openai.com/v1/chat/completions \"HTTP/1.1 200 OK\"\n"
     ]
    },
    {
     "data": {
      "text/plain": [
       "{'name': 'John Doe',\n",
       " 'email': 'john.doe@gmail.com',\n",
       " 'cost': 2146.5,\n",
       " 'experience': ['Software Engineer Intern at Google',\n",
       "  'Software Engineer Intern at Facebook'],\n",
       " 'skills': ['Python', 'C++', 'Java']}"
      ]
     },
     "execution_count": 12,
     "metadata": {},
     "output_type": "execute_result"
    }
   ],
   "source": [
    "marvin.settings.openai.chat.completions.model = 'gpt-4o'\n",
    "\n",
    "\n",
    "@marvin.fn\n",
    "def process(\n",
    "    resume:str = resume,\n",
    "    question: str = question,\n",
    ") -> DataModel:\n",
    "    \"\"\"\n",
    "    Extract content from `resume`.\n",
    "    Answer the `question`, storing the result in cost.\n",
    "    \"\"\"\n",
    "\n",
    "\n",
    "marvin_response = process(resume, question)\n",
    "\n",
    "marvin_dict = marvin_response.model_dump()\n",
    "marvin_dict"
   ]
  },
  {
   "cell_type": "code",
   "execution_count": 13,
   "metadata": {},
   "outputs": [
    {
     "name": "stdout",
     "output_type": "stream",
     "text": [
      "Cost calculation error: $68.5\n"
     ]
    }
   ],
   "source": [
    "marvin_error = abs(marvin_dict[\"cost\"]-true_answer)\n",
    "print(f'Cost calculation error: ${marvin_error}')"
   ]
  },
  {
   "cell_type": "markdown",
   "metadata": {},
   "source": [
    "### 3. BAML\n",
    "\n",
    "[BAML](https://www.boundaryml.com) is a domain specific language to write and test LLM functions developed by Boundary. Here is how you can easily get started with it, and test its performance on the benchmark task."
   ]
  },
  {
   "cell_type": "code",
   "execution_count": 14,
   "metadata": {},
   "outputs": [
    {
     "name": "stdout",
     "output_type": "stream",
     "text": [
      "Requirement already satisfied: baml-py in /opt/miniconda3/envs/instill/lib/python3.11/site-packages (0.53.1)\n"
     ]
    }
   ],
   "source": [
    "!pip install baml-py\n",
    "!baml-cli init"
   ]
  },
  {
   "cell_type": "code",
   "execution_count": 15,
   "metadata": {},
   "outputs": [],
   "source": [
    "file_path = 'baml_src/clients.baml'\n",
    "\n",
    "with open(file_path, 'r') as file:\n",
    "    file_data = file.read()\n",
    "\n",
    "updated_file_data = file_data.replace(\n",
    "    'client<llm> GPT4 {\\n  provider openai\\n  options {\\n    model \"gpt-4\"\\n    api_key env.OPENAI_API_KEY\\n  }\\n}',\n",
    "    'client<llm> GPT4o {\\n  provider openai\\n  options {\\n    model \"gpt-4o\"\\n    api_key env.OPENAI_API_KEY\\n  }\\n}'\n",
    ")\n",
    "\n",
    "with open(file_path, 'w') as file:\n",
    "    file.write(updated_file_data)"
   ]
  },
  {
   "cell_type": "code",
   "execution_count": 16,
   "metadata": {},
   "outputs": [],
   "source": [
    "file_path = 'baml_src/resume.baml'\n",
    "\n",
    "with open(file_path, 'r') as file:\n",
    "    file_data = file.read()\n",
    "\n",
    "updated_file_data = file_data.replace(\n",
    "    '// Defining a data model.\\nclass Resume {\\n  name string\\n  email string\\n  experience string[]\\n  skills string[]\\n}',\n",
    "    '// Defining a data model.\\nclass Resume {\\n  name string\\n  email string\\n  cost float\\n  experience string[]\\n  skills string[]\\n}'\n",
    "    ).replace(\n",
    "    'Extract from this content:\\n    {{ resume }}\\n\\n',\n",
    "    'Extract from this content:\\n    {{ resume }}\\n    Answer the question, storing the result in cost.\\n\\n'\n",
    "    ).replace(\n",
    "    'client GPT4',\n",
    "    'client GPT4o'\n",
    "    )\n",
    "\n",
    "with open(file_path, 'w') as file:\n",
    "    file.write(updated_file_data)"
   ]
  },
  {
   "cell_type": "code",
   "execution_count": 17,
   "metadata": {},
   "outputs": [
    {
     "name": "stdout",
     "output_type": "stream",
     "text": [
      "Generated 1 baml_client\n"
     ]
    }
   ],
   "source": [
    "!baml-cli generate\n",
    "from baml_client.sync_client import b"
   ]
  },
  {
   "cell_type": "code",
   "execution_count": 18,
   "metadata": {},
   "outputs": [
    {
     "data": {
      "text/plain": [
       "{'name': 'John Doe',\n",
       " 'email': 'john.doe@gmail.com',\n",
       " 'cost': 2125.0,\n",
       " 'experience': ['Software Engineer Intern at Google',\n",
       "  'Software Engineer Intern at Facebook'],\n",
       " 'skills': ['Python', 'C++', 'Java']}"
      ]
     },
     "execution_count": 18,
     "metadata": {},
     "output_type": "execute_result"
    }
   ],
   "source": [
    "baml_response = b.ExtractResume(context)\n",
    "\n",
    "baml_dict = baml_response.model_dump()\n",
    "baml_dict"
   ]
  },
  {
   "cell_type": "code",
   "execution_count": 19,
   "metadata": {},
   "outputs": [
    {
     "name": "stdout",
     "output_type": "stream",
     "text": [
      "Cost calculation error: $90.0\n"
     ]
    }
   ],
   "source": [
    "baml_error = abs(baml_dict[\"cost\"]-true_answer)\n",
    "print(f'Cost calculation error: ${baml_error}')"
   ]
  },
  {
   "cell_type": "markdown",
   "metadata": {},
   "source": [
    "### 4. TypeChat\n",
    "\n",
    "[TypeChat](https://microsoft.github.io/TypeChat/) is a tool from Microsoft for getting well-typed responses from language models. Here is how you can easily get started with it, and test its performance on the benchmark task."
   ]
  },
  {
   "cell_type": "code",
   "execution_count": 20,
   "metadata": {},
   "outputs": [],
   "source": [
    "!pip install \"typechat @ git+https://github.com/microsoft/TypeChat#subdirectory=python\" --quiet\n",
    "from dataclasses import dataclass\n",
    "from typing_extensions import Annotated, Doc\n",
    "from typing import Dict, Any\n",
    "from typechat import TypeChatJsonTranslator, TypeChatValidator, create_language_model"
   ]
  },
  {
   "cell_type": "code",
   "execution_count": 21,
   "metadata": {},
   "outputs": [
    {
     "name": "stderr",
     "output_type": "stream",
     "text": [
      "2024-08-28 22:46:23,161.161 INFO     HTTP Request: POST https://api.openai.com/v1/chat/completions \"HTTP/1.1 200 OK\"\n"
     ]
    },
    {
     "data": {
      "text/plain": [
       "{'name': 'John Doe',\n",
       " 'email': 'john.doe@gmail.com',\n",
       " 'cost': 2115.0,\n",
       " 'experience': ['Software Engineer Intern at Google (May 2022 - August 2022)',\n",
       "  'Software Engineer Intern at Facebook (May 2021 - August 2021)'],\n",
       " 'skills': ['Python', 'C++', 'Java']}"
      ]
     },
     "execution_count": 21,
     "metadata": {},
     "output_type": "execute_result"
    }
   ],
   "source": [
    "@dataclass\n",
    "class TypeChatDataModel:\n",
    "    name: Annotated[str, Doc(\"The name of the candidate\")]\n",
    "    email: Annotated[str, Doc(\"The email address of the candidate\")]\n",
    "    cost: Annotated[float, Doc(\"The cost of hiring the candidate for the project\")]\n",
    "    experience: Annotated[list[str], Doc(\"A list of experiences the candidate has\")]\n",
    "    skills: Annotated[list[str], Doc(\"A list of skills the candidate possesses\")]\n",
    "\n",
    "    def to_dict(self) -> Dict[str, Any]:\n",
    "        return {\n",
    "            \"name\": self.name,\n",
    "            \"email\": self.email,\n",
    "            \"cost\": self.cost,\n",
    "            \"experience\": self.experience,\n",
    "            \"skills\": self.skills,\n",
    "        }\n",
    "\n",
    "\n",
    "env_vars = {'OPENAI_API_KEY': os.getenv('OPENAI_API_KEY'), 'OPENAI_MODEL': 'gpt-4o'}\n",
    "\n",
    "model = create_language_model(env_vars)\n",
    "validator = TypeChatValidator(TypeChatDataModel)\n",
    "translator = TypeChatJsonTranslator(model, validator, TypeChatDataModel)\n",
    "\n",
    "# TypeChat needed a little more help in the prompt to generate the output as numeric value!\n",
    "typechat_response = await translator.translate(prompt)\n",
    "\n",
    "typechat_dict = typechat_response.value.to_dict()\n",
    "typechat_dict"
   ]
  },
  {
   "cell_type": "code",
   "execution_count": 22,
   "metadata": {},
   "outputs": [
    {
     "name": "stdout",
     "output_type": "stream",
     "text": [
      "TypeChat error: $100.0\n"
     ]
    }
   ],
   "source": [
    "typechat_error = abs(typechat_dict[\"cost\"]-true_answer)\n",
    "print(f'TypeChat error: ${typechat_error}')"
   ]
  },
  {
   "cell_type": "markdown",
   "metadata": {},
   "source": [
    "### 5. LangChain\n",
    "\n",
    "LangChain simplifies building apps with language models by integrating them with data and APIs. Here is how you can easily get started with it, and test its performance on the benchmark task."
   ]
  },
  {
   "cell_type": "code",
   "execution_count": 23,
   "metadata": {},
   "outputs": [],
   "source": [
    "!pip install langchain --quiet\n",
    "!pip install langchain-openai --quiet\n",
    "from langchain_core.pydantic_v1 import BaseModel, Field\n",
    "from langchain_openai import ChatOpenAI"
   ]
  },
  {
   "cell_type": "code",
   "execution_count": 24,
   "metadata": {},
   "outputs": [
    {
     "name": "stderr",
     "output_type": "stream",
     "text": [
      "2024-08-28 22:46:27,014.014 INFO     HTTP Request: POST https://api.openai.com/v1/chat/completions \"HTTP/1.1 200 OK\"\n"
     ]
    },
    {
     "data": {
      "text/plain": [
       "{'name': 'John Doe',\n",
       " 'email': 'john.doe@gmail.com',\n",
       " 'cost': 2176.5,\n",
       " 'experience': ['Software Engineer Intern at Google (May 2022 - August 2022)',\n",
       "  'Software Engineer Intern at Facebook (May 2021 - August 2021)'],\n",
       " 'skills': ['Python', 'C++', 'Java']}"
      ]
     },
     "execution_count": 24,
     "metadata": {},
     "output_type": "execute_result"
    }
   ],
   "source": [
    "class LangChainDataModel(BaseModel):\n",
    "    name: str = Field(description=\"The name of the candidate\")\n",
    "    email: str = Field(description=\"The email address of the candidate\")\n",
    "    cost: float = Field(description=\"The cost of hiring the candidate for the project\")\n",
    "    experience: list[str] = Field(description=\"A list of experiences the candidate has\")\n",
    "    skills: list[str] = Field(description=\"A list of skills the candidate possesses\")\n",
    "\n",
    "\n",
    "model = ChatOpenAI(model=\"gpt-4o\", temperature=1)\n",
    "structured_llm = model.with_structured_output(LangChainDataModel)\n",
    "\n",
    "langchain_response = structured_llm.invoke(prompt)\n",
    "\n",
    "langchain_dict = langchain_response.dict()\n",
    "langchain_dict"
   ]
  },
  {
   "cell_type": "code",
   "execution_count": 25,
   "metadata": {},
   "outputs": [
    {
     "name": "stdout",
     "output_type": "stream",
     "text": [
      "LangChain error: $38.5\n"
     ]
    }
   ],
   "source": [
    "langchain_error = abs(langchain_dict[\"cost\"]-true_answer)\n",
    "print(f'LangChain error: ${langchain_error}')"
   ]
  },
  {
   "cell_type": "markdown",
   "metadata": {},
   "source": [
    "### Initial Evaluation\n",
    "\n",
    "As illustrated in the below plot, the different blends of prompt engineering, output parsing and error handling used by each tool produce different reasoning errors when enforcing structured outputs. Despite variation in the error per tool used, it is important to note that _all_ methods failed on this task and would be unusable in any realistic production setting where reasoning of a similar complexity is required."
   ]
  },
  {
   "cell_type": "code",
   "execution_count": 26,
   "metadata": {},
   "outputs": [
    {
     "data": {
      "image/png": "[encoded data removed]",
      "text/plain": [
       "<Figure size 640x480 with 1 Axes>"
      ]
     },
     "metadata": {},
     "output_type": "display_data"
    }
   ],
   "source": [
    "results = [structured_output_error, instructor_error, marvin_error, baml_error, typechat_error, langchain_error]\n",
    "titles = ['OpenAI', 'Instructor', 'Marvin', 'BAML', 'TypeChat', 'LangChain']\n",
    "\n",
    "sns.barplot(x=titles, y=results)\n",
    "\n",
    "plt.title('Structured Output Error by Tool')\n",
    "plt.ylabel('Calculation Error (in $)')\n",
    "\n",
    "sns.despine()\n",
    "\n",
    "plt.show()"
   ]
  },
  {
   "cell_type": "markdown",
   "metadata": {},
   "source": [
    "### The Solution: Multi-Step Approach Using **💧 Instill VDP**\n",
    "\n",
    "This problem is easily solved using an Instill VDP pipeline that separates reasoning and structuring tasks into a two-step process. It first generates an unstructured reasoning response which is then passed to a second component which is solely responsible for structuring the reasoning response into the desired data model. The final output is delivered as a JSON object.\n",
    "\n",
    "Please view and explore the components and structure of the [`multistep-structured-output`](https://instill.tech/george_strong/pipelines/multistep-structured-output/playground) pipeline in the no-code editor window shown below. Note that you can expand the components in the pipeline by selecting the `+` icon."
   ]
  },
  {
   "cell_type": "code",
   "execution_count": 27,
   "metadata": {},
   "outputs": [
    {
     "data": {
      "text/html": [
       "\n",
       "        <iframe\n",
       "            width=\"1000\"\n",
       "            height=\"800\"\n",
       "            src=\"https://instill.tech/george_strong/pipelines/multistep-structured-output/preview\"\n",
       "            frameborder=\"0\"\n",
       "            allowfullscreen\n",
       "            \n",
       "        ></iframe>\n",
       "        "
      ],
      "text/plain": [
       "<IPython.lib.display.IFrame at 0x3468d1950>"
      ]
     },
     "execution_count": 27,
     "metadata": {},
     "output_type": "execute_result"
    }
   ],
   "source": [
    "IFrame('https://instill.tech/george_strong/pipelines/multistep-structured-output/preview', width=1000, height=800)"
   ]
  },
  {
   "cell_type": "code",
   "execution_count": 28,
   "metadata": {},
   "outputs": [
    {
     "data": {
      "text/plain": [
       "{'cost': 2215.0,\n",
       " 'email': 'john.doe@gmail.com',\n",
       " 'experience': ['Software Engineer Intern at Google (May 2022 - August 2022)',\n",
       "  'Software Engineer Intern at Facebook (May 2021 - August 2021)'],\n",
       " 'skills': ['Python', 'C++', 'Java'],\n",
       " 'name': 'John Doe'}"
      ]
     },
     "execution_count": 28,
     "metadata": {},
     "output_type": "execute_result"
    }
   ],
   "source": [
    "openai_multi_structured = client.pipeline_service.trigger_pipeline(\n",
    "    'multistep-structured-output', [],\n",
    "    [{\"context\": context,\n",
    "      \"question\": question}])\n",
    "\n",
    "openai_multi_structured_dict = MessageToDict(openai_multi_structured)['outputs'][0]['answer']\n",
    "openai_multi_structured_dict"
   ]
  },
  {
   "cell_type": "code",
   "execution_count": 29,
   "metadata": {},
   "outputs": [
    {
     "name": "stdout",
     "output_type": "stream",
     "text": [
      "Cost calculation error: $0.0\n"
     ]
    }
   ],
   "source": [
    "multi_structured_output_error = abs(openai_multi_structured_dict[\"cost\"]-true_answer)\n",
    "print(f'Cost calculation error: ${multi_structured_output_error}')"
   ]
  },
  {
   "cell_type": "markdown",
   "metadata": {},
   "source": [
    "Despite using two LLM inferences involved in this multi-step pipeline, it is worth noting that the cost will likely still be less than many of the structuring output tools that have been considered, as these often rely on making repeat API calls with modified prompts until the output can be successfully parsed into the required data model."
   ]
  },
  {
   "cell_type": "markdown",
   "metadata": {},
   "source": [
    "### Benchmarking Structured Outputs\n",
    "\n",
    "⚠️ **Warning** - This section involves running multiple API calls using your configured OpenAI and Instill AI API tokens. If you do not want to be charged for re-running this benchmark, please do not run this cell.\n",
    "\n",
    "Here, we benchmark the performance of each output structuring method by running multiple inferences with each. We then visualize the distributions of errors with respect to true cost value ($2215), calculate performance metrics, and conduct statistical tests to determine if the observed deviations are statistically significant."
   ]
  },
  {
   "cell_type": "code",
   "execution_count": 30,
   "metadata": {},
   "outputs": [],
   "source": [
    "from functools import wraps\n",
    "\n",
    "def handle_errors(func):\n",
    "    @wraps(func)\n",
    "    def wrapper(*args, **kwargs):\n",
    "        try:\n",
    "            return func(*args, **kwargs)\n",
    "        except Exception as e:\n",
    "            print(f'Error in {func.__name__}:', e)\n",
    "            return None\n",
    "    return wrapper"
   ]
  },
  {
   "cell_type": "code",
   "execution_count": 31,
   "metadata": {},
   "outputs": [],
   "source": [
    "@handle_errors\n",
    "def get_structured_output() -> float:\n",
    "    openai_structured = client.pipeline_service.trigger_pipeline(\n",
    "        'structured-output', [],\n",
    "        [{\"context\": context,\n",
    "          \"question\": question}])\n",
    "\n",
    "    openai_structured_dict = MessageToDict(openai_structured)['outputs'][0]['answer']\n",
    "    cost = openai_structured_dict['cost']\n",
    "    print('   Structured Cost:', cost)\n",
    "    return cost\n",
    "\n",
    "\n",
    "@handle_errors\n",
    "def get_multistep_structured_output() -> float:\n",
    "    openai_multi_structured = client.pipeline_service.trigger_pipeline(\n",
    "        'multistep-structured-output', [],\n",
    "        [{\"context\": context,\n",
    "          \"question\": question}])\n",
    "    openai_multi_structured_dict = MessageToDict(openai_multi_structured)['outputs'][0]['answer']\n",
    "    cost = openai_multi_structured_dict['cost']\n",
    "    print('   Multi-Step Structured Cost:', cost)\n",
    "    return cost\n",
    "\n",
    "\n",
    "@handle_errors\n",
    "def get_instructor_output() -> float:\n",
    "    instructor_response = instructor_client.chat.completions.create(\n",
    "        model=\"gpt-4o\",\n",
    "        response_model=DataModel,\n",
    "        messages=[{\"role\": \"user\", \"content\": prompt}],\n",
    "        temperature=1,\n",
    "    )\n",
    "    instructor_dict = instructor_response.model_dump()\n",
    "    cost = instructor_dict['cost']\n",
    "    print('   Instructor Cost:', cost)\n",
    "    return cost\n",
    "\n",
    "\n",
    "@handle_errors\n",
    "def get_marvin_output() -> float:\n",
    "    marvin_response = process(resume, question)\n",
    "    marvin_dict = marvin_response.model_dump()\n",
    "    cost = marvin_dict['cost']\n",
    "    print('   Marvin Cost:', cost)\n",
    "    return cost\n",
    "\n",
    "\n",
    "@handle_errors\n",
    "def get_baml_output() -> float:\n",
    "    baml_response = b.ExtractResume(context)\n",
    "    baml_dict = baml_response.model_dump()\n",
    "    cost = baml_dict['cost']\n",
    "    print('   BAML Cost:', cost)\n",
    "    return cost\n",
    "\n",
    "\n",
    "@handle_errors\n",
    "def get_langchain_output() -> float:\n",
    "    langchain_response = structured_llm.invoke(prompt)\n",
    "    langchain_dict = langchain_response.dict()\n",
    "    cost = langchain_dict['cost']\n",
    "    print('   LangChain Cost:', cost)\n",
    "    return cost"
   ]
  },
  {
   "cell_type": "code",
   "execution_count": 32,
   "metadata": {},
   "outputs": [
    {
     "name": "stdout",
     "output_type": "stream",
     "text": [
      "Iteration 1 of 50\n",
      "   Structured Cost: 2445.0\n",
      "   Multi-Step Structured Cost: 2215.0\n"
     ]
    },
    {
     "name": "stderr",
     "output_type": "stream",
     "text": [
      "2024-08-28 22:46:55,276.276 INFO     HTTP Request: POST https://api.openai.com/v1/chat/completions \"HTTP/1.1 200 OK\"\n"
     ]
    },
    {
     "name": "stdout",
     "output_type": "stream",
     "text": [
      "   Instructor Cost: 1975.0\n"
     ]
    },
    {
     "name": "stderr",
     "output_type": "stream",
     "text": [
      "2024-08-28 22:46:58,286.286 INFO     HTTP Request: POST https://api.openai.com/v1/chat/completions \"HTTP/1.1 200 OK\"\n"
     ]
    },
    {
     "name": "stdout",
     "output_type": "stream",
     "text": [
      "   Marvin Cost: 2239.0\n",
      "   BAML Cost: 2345.0\n"
     ]
    },
    {
     "name": "stderr",
     "output_type": "stream",
     "text": [
      "2024-08-28 22:47:00,907.907 INFO     HTTP Request: POST https://api.openai.com/v1/chat/completions \"HTTP/1.1 200 OK\"\n"
     ]
    },
    {
     "name": "stdout",
     "output_type": "stream",
     "text": [
      "   LangChain Cost: 2065.0\n",
      "Iteration 2 of 50\n",
      "   Structured Cost: 2365.0\n",
      "   Multi-Step Structured Cost: 2215.0\n"
     ]
    },
    {
     "name": "stderr",
     "output_type": "stream",
     "text": [
      "2024-08-28 22:47:11,762.762 INFO     HTTP Request: POST https://api.openai.com/v1/chat/completions \"HTTP/1.1 200 OK\"\n"
     ]
    },
    {
     "name": "stdout",
     "output_type": "stream",
     "text": [
      "   Instructor Cost: 2125.0\n"
     ]
    },
    {
     "name": "stderr",
     "output_type": "stream",
     "text": [
      "2024-08-28 22:47:13,197.197 INFO     HTTP Request: POST https://api.openai.com/v1/chat/completions \"HTTP/1.1 200 OK\"\n"
     ]
    },
    {
     "name": "stdout",
     "output_type": "stream",
     "text": [
      "   Marvin Cost: 2335.0\n",
      "   BAML Cost: 2209.5\n"
     ]
    },
    {
     "name": "stderr",
     "output_type": "stream",
     "text": [
      "2024-08-28 22:47:16,370.370 INFO     HTTP Request: POST https://api.openai.com/v1/chat/completions \"HTTP/1.1 200 OK\"\n"
     ]
    },
    {
     "name": "stdout",
     "output_type": "stream",
     "text": [
      "   LangChain Cost: 2320.0\n",
      "Iteration 3 of 50\n",
      "   Structured Cost: 2165.0\n",
      "   Multi-Step Structured Cost: 2215.0\n"
     ]
    },
    {
     "name": "stderr",
     "output_type": "stream",
     "text": [
      "2024-08-28 22:47:27,326.326 INFO     HTTP Request: POST https://api.openai.com/v1/chat/completions \"HTTP/1.1 200 OK\"\n"
     ]
    },
    {
     "name": "stdout",
     "output_type": "stream",
     "text": [
      "   Instructor Cost: 2050.0\n"
     ]
    },
    {
     "name": "stderr",
     "output_type": "stream",
     "text": [
      "2024-08-28 22:47:29,067.067 INFO     HTTP Request: POST https://api.openai.com/v1/chat/completions \"HTTP/1.1 200 OK\"\n"
     ]
    },
    {
     "name": "stdout",
     "output_type": "stream",
     "text": [
      "   Marvin Cost: 2227.0\n",
      "   BAML Cost: 2156.5\n"
     ]
    },
    {
     "name": "stderr",
     "output_type": "stream",
     "text": [
      "2024-08-28 22:47:34,765.765 INFO     HTTP Request: POST https://api.openai.com/v1/chat/completions \"HTTP/1.1 200 OK\"\n"
     ]
    },
    {
     "name": "stdout",
     "output_type": "stream",
     "text": [
      "   LangChain Cost: 2115.0\n",
      "Iteration 4 of 50\n",
      "   Structured Cost: 2239.0\n",
      "   Multi-Step Structured Cost: 2215.0\n"
     ]
    },
    {
     "name": "stderr",
     "output_type": "stream",
     "text": [
      "2024-08-28 22:47:44,150.150 INFO     HTTP Request: POST https://api.openai.com/v1/chat/completions \"HTTP/1.1 200 OK\"\n"
     ]
    },
    {
     "name": "stdout",
     "output_type": "stream",
     "text": [
      "   Instructor Cost: 2125.0\n"
     ]
    },
    {
     "name": "stderr",
     "output_type": "stream",
     "text": [
      "2024-08-28 22:47:45,708.708 INFO     HTTP Request: POST https://api.openai.com/v1/chat/completions \"HTTP/1.1 200 OK\"\n"
     ]
    },
    {
     "name": "stdout",
     "output_type": "stream",
     "text": [
      "   Marvin Cost: 2320.0\n",
      "   BAML Cost: 2119.0\n"
     ]
    },
    {
     "name": "stderr",
     "output_type": "stream",
     "text": [
      "2024-08-28 22:47:48,933.933 INFO     HTTP Request: POST https://api.openai.com/v1/chat/completions \"HTTP/1.1 200 OK\"\n"
     ]
    },
    {
     "name": "stdout",
     "output_type": "stream",
     "text": [
      "   LangChain Cost: 2065.0\n",
      "Iteration 5 of 50\n",
      "   Structured Cost: 2065.0\n",
      "   Multi-Step Structured Cost: 2215.0\n"
     ]
    },
    {
     "name": "stderr",
     "output_type": "stream",
     "text": [
      "2024-08-28 22:47:58,869.869 INFO     HTTP Request: POST https://api.openai.com/v1/chat/completions \"HTTP/1.1 200 OK\"\n"
     ]
    },
    {
     "name": "stdout",
     "output_type": "stream",
     "text": [
      "   Instructor Cost: 2115.0\n"
     ]
    },
    {
     "name": "stderr",
     "output_type": "stream",
     "text": [
      "2024-08-28 22:48:00,324.324 INFO     HTTP Request: POST https://api.openai.com/v1/chat/completions \"HTTP/1.1 200 OK\"\n"
     ]
    },
    {
     "name": "stdout",
     "output_type": "stream",
     "text": [
      "   Marvin Cost: 2065.0\n",
      "   BAML Cost: 2155.0\n"
     ]
    },
    {
     "name": "stderr",
     "output_type": "stream",
     "text": [
      "2024-08-28 22:48:04,191.191 INFO     HTTP Request: POST https://api.openai.com/v1/chat/completions \"HTTP/1.1 200 OK\"\n"
     ]
    },
    {
     "name": "stdout",
     "output_type": "stream",
     "text": [
      "   LangChain Cost: 2195.0\n",
      "Iteration 6 of 50\n",
      "   Structured Cost: 2335.0\n",
      "   Multi-Step Structured Cost: 2215.0\n"
     ]
    },
    {
     "name": "stderr",
     "output_type": "stream",
     "text": [
      "2024-08-28 22:48:16,082.082 INFO     HTTP Request: POST https://api.openai.com/v1/chat/completions \"HTTP/1.1 200 OK\"\n"
     ]
    },
    {
     "name": "stdout",
     "output_type": "stream",
     "text": [
      "   Instructor Cost: 2204.5\n"
     ]
    },
    {
     "name": "stderr",
     "output_type": "stream",
     "text": [
      "2024-08-28 22:48:17,303.303 INFO     HTTP Request: POST https://api.openai.com/v1/chat/completions \"HTTP/1.1 200 OK\"\n"
     ]
    },
    {
     "name": "stdout",
     "output_type": "stream",
     "text": [
      "   Marvin Cost: 2225.0\n",
      "   BAML Cost: 2210.0\n"
     ]
    },
    {
     "name": "stderr",
     "output_type": "stream",
     "text": [
      "2024-08-28 22:48:20,676.676 INFO     HTTP Request: POST https://api.openai.com/v1/chat/completions \"HTTP/1.1 200 OK\"\n"
     ]
    },
    {
     "name": "stdout",
     "output_type": "stream",
     "text": [
      "   LangChain Cost: 2115.0\n",
      "Iteration 7 of 50\n",
      "   Structured Cost: 2440.0\n",
      "   Multi-Step Structured Cost: 2215.0\n"
     ]
    },
    {
     "name": "stderr",
     "output_type": "stream",
     "text": [
      "2024-08-28 22:48:35,139.139 INFO     HTTP Request: POST https://api.openai.com/v1/chat/completions \"HTTP/1.1 200 OK\"\n"
     ]
    },
    {
     "name": "stdout",
     "output_type": "stream",
     "text": [
      "   Instructor Cost: 2101.0\n"
     ]
    },
    {
     "name": "stderr",
     "output_type": "stream",
     "text": [
      "2024-08-28 22:48:36,243.243 INFO     HTTP Request: POST https://api.openai.com/v1/chat/completions \"HTTP/1.1 200 OK\"\n"
     ]
    },
    {
     "name": "stdout",
     "output_type": "stream",
     "text": [
      "   Marvin Cost: 2239.0\n",
      "   BAML Cost: 2215.0\n"
     ]
    },
    {
     "name": "stderr",
     "output_type": "stream",
     "text": [
      "2024-08-28 22:48:39,622.622 INFO     HTTP Request: POST https://api.openai.com/v1/chat/completions \"HTTP/1.1 200 OK\"\n"
     ]
    },
    {
     "name": "stdout",
     "output_type": "stream",
     "text": [
      "   LangChain Cost: 2115.0\n",
      "Iteration 8 of 50\n",
      "   Structured Cost: 2265.0\n",
      "   Multi-Step Structured Cost: 2215.0\n"
     ]
    },
    {
     "name": "stderr",
     "output_type": "stream",
     "text": [
      "2024-08-28 22:48:49,475.475 INFO     HTTP Request: POST https://api.openai.com/v1/chat/completions \"HTTP/1.1 200 OK\"\n"
     ]
    },
    {
     "name": "stdout",
     "output_type": "stream",
     "text": [
      "   Instructor Cost: 2115.0\n"
     ]
    },
    {
     "name": "stderr",
     "output_type": "stream",
     "text": [
      "2024-08-28 22:48:50,788.788 INFO     HTTP Request: POST https://api.openai.com/v1/chat/completions \"HTTP/1.1 200 OK\"\n"
     ]
    },
    {
     "name": "stdout",
     "output_type": "stream",
     "text": [
      "   Marvin Cost: 2185.0\n",
      "   BAML Cost: 2131.0\n"
     ]
    },
    {
     "name": "stderr",
     "output_type": "stream",
     "text": [
      "2024-08-28 22:48:53,040.040 INFO     HTTP Request: POST https://api.openai.com/v1/chat/completions \"HTTP/1.1 200 OK\"\n"
     ]
    },
    {
     "name": "stdout",
     "output_type": "stream",
     "text": [
      "   LangChain Cost: 2122.5\n",
      "Iteration 9 of 50\n",
      "   Structured Cost: 2095.0\n",
      "   Multi-Step Structured Cost: 2215.0\n"
     ]
    },
    {
     "name": "stderr",
     "output_type": "stream",
     "text": [
      "2024-08-28 22:49:06,858.858 INFO     HTTP Request: POST https://api.openai.com/v1/chat/completions \"HTTP/1.1 200 OK\"\n"
     ]
    },
    {
     "name": "stdout",
     "output_type": "stream",
     "text": [
      "   Instructor Cost: 2135.0\n"
     ]
    },
    {
     "name": "stderr",
     "output_type": "stream",
     "text": [
      "2024-08-28 22:49:08,088.088 INFO     HTTP Request: POST https://api.openai.com/v1/chat/completions \"HTTP/1.1 200 OK\"\n"
     ]
    },
    {
     "name": "stdout",
     "output_type": "stream",
     "text": [
      "   Marvin Cost: 2165.0\n",
      "   BAML Cost: 2245.0\n"
     ]
    },
    {
     "name": "stderr",
     "output_type": "stream",
     "text": [
      "2024-08-28 22:49:12,287.287 INFO     HTTP Request: POST https://api.openai.com/v1/chat/completions \"HTTP/1.1 200 OK\"\n"
     ]
    },
    {
     "name": "stdout",
     "output_type": "stream",
     "text": [
      "   LangChain Cost: 2125.0\n",
      "Iteration 10 of 50\n",
      "   Structured Cost: 2165.0\n",
      "   Multi-Step Structured Cost: 2215.0\n"
     ]
    },
    {
     "name": "stderr",
     "output_type": "stream",
     "text": [
      "2024-08-28 22:49:23,857.857 INFO     HTTP Request: POST https://api.openai.com/v1/chat/completions \"HTTP/1.1 200 OK\"\n"
     ]
    },
    {
     "name": "stdout",
     "output_type": "stream",
     "text": [
      "   Instructor Cost: 2115.0\n"
     ]
    },
    {
     "name": "stderr",
     "output_type": "stream",
     "text": [
      "2024-08-28 22:49:25,086.086 INFO     HTTP Request: POST https://api.openai.com/v1/chat/completions \"HTTP/1.1 200 OK\"\n"
     ]
    },
    {
     "name": "stdout",
     "output_type": "stream",
     "text": [
      "   Marvin Cost: 2135.0\n",
      "   BAML Cost: 2115.0\n"
     ]
    },
    {
     "name": "stderr",
     "output_type": "stream",
     "text": [
      "2024-08-28 22:49:27,645.645 INFO     HTTP Request: POST https://api.openai.com/v1/chat/completions \"HTTP/1.1 200 OK\"\n"
     ]
    },
    {
     "name": "stdout",
     "output_type": "stream",
     "text": [
      "   LangChain Cost: 2239.0\n",
      "Iteration 11 of 50\n",
      "   Structured Cost: 2435.0\n",
      "   Multi-Step Structured Cost: 2215.0\n"
     ]
    },
    {
     "name": "stderr",
     "output_type": "stream",
     "text": [
      "2024-08-28 22:49:41,915.915 INFO     HTTP Request: POST https://api.openai.com/v1/chat/completions \"HTTP/1.1 200 OK\"\n"
     ]
    },
    {
     "name": "stdout",
     "output_type": "stream",
     "text": [
      "   Instructor Cost: 2135.0\n"
     ]
    },
    {
     "name": "stderr",
     "output_type": "stream",
     "text": [
      "2024-08-28 22:49:43,195.195 INFO     HTTP Request: POST https://api.openai.com/v1/chat/completions \"HTTP/1.1 200 OK\"\n"
     ]
    },
    {
     "name": "stdout",
     "output_type": "stream",
     "text": [
      "   Marvin Cost: 2239.0\n",
      "   BAML Cost: 2205.0\n"
     ]
    },
    {
     "name": "stderr",
     "output_type": "stream",
     "text": [
      "2024-08-28 22:49:45,699.699 INFO     HTTP Request: POST https://api.openai.com/v1/chat/completions \"HTTP/1.1 200 OK\"\n"
     ]
    },
    {
     "name": "stdout",
     "output_type": "stream",
     "text": [
      "   LangChain Cost: 2239.0\n",
      "Iteration 12 of 50\n",
      "   Structured Cost: 2350.0\n",
      "   Multi-Step Structured Cost: 2215.0\n"
     ]
    },
    {
     "name": "stderr",
     "output_type": "stream",
     "text": [
      "2024-08-28 22:49:55,805.805 INFO     HTTP Request: POST https://api.openai.com/v1/chat/completions \"HTTP/1.1 200 OK\"\n"
     ]
    },
    {
     "name": "stdout",
     "output_type": "stream",
     "text": [
      "   Instructor Cost: 2099.0\n"
     ]
    },
    {
     "name": "stderr",
     "output_type": "stream",
     "text": [
      "2024-08-28 22:49:56,833.833 INFO     HTTP Request: POST https://api.openai.com/v1/chat/completions \"HTTP/1.1 200 OK\"\n"
     ]
    },
    {
     "name": "stdout",
     "output_type": "stream",
     "text": [
      "   Marvin Cost: 2155.0\n",
      "   BAML Cost: 2275.0\n"
     ]
    },
    {
     "name": "stderr",
     "output_type": "stream",
     "text": [
      "2024-08-28 22:50:03,486.486 INFO     HTTP Request: POST https://api.openai.com/v1/chat/completions \"HTTP/1.1 200 OK\"\n"
     ]
    },
    {
     "name": "stdout",
     "output_type": "stream",
     "text": [
      "   LangChain Cost: 2030.0\n",
      "Iteration 13 of 50\n",
      "   Structured Cost: 2345.0\n",
      "   Multi-Step Structured Cost: 2215.0\n"
     ]
    },
    {
     "name": "stderr",
     "output_type": "stream",
     "text": [
      "2024-08-28 22:50:14,749.749 INFO     HTTP Request: POST https://api.openai.com/v1/chat/completions \"HTTP/1.1 200 OK\"\n"
     ]
    },
    {
     "name": "stdout",
     "output_type": "stream",
     "text": [
      "   Instructor Cost: 2030.0\n"
     ]
    },
    {
     "name": "stderr",
     "output_type": "stream",
     "text": [
      "2024-08-28 22:50:15,979.979 INFO     HTTP Request: POST https://api.openai.com/v1/chat/completions \"HTTP/1.1 200 OK\"\n"
     ]
    },
    {
     "name": "stdout",
     "output_type": "stream",
     "text": [
      "   Marvin Cost: 2405.0\n",
      "   BAML Cost: 2199.5\n"
     ]
    },
    {
     "name": "stderr",
     "output_type": "stream",
     "text": [
      "2024-08-28 22:50:18,351.351 INFO     HTTP Request: POST https://api.openai.com/v1/chat/completions \"HTTP/1.1 200 OK\"\n"
     ]
    },
    {
     "name": "stdout",
     "output_type": "stream",
     "text": [
      "   LangChain Cost: 2075.0\n",
      "Iteration 14 of 50\n",
      "   Structured Cost: 2165.0\n",
      "   Multi-Step Structured Cost: 2215.0\n"
     ]
    },
    {
     "name": "stderr",
     "output_type": "stream",
     "text": [
      "2024-08-28 22:50:29,664.664 INFO     HTTP Request: POST https://api.openai.com/v1/chat/completions \"HTTP/1.1 200 OK\"\n"
     ]
    },
    {
     "name": "stdout",
     "output_type": "stream",
     "text": [
      "   Instructor Cost: 2275.0\n"
     ]
    },
    {
     "name": "stderr",
     "output_type": "stream",
     "text": [
      "2024-08-28 22:50:30,827.827 INFO     HTTP Request: POST https://api.openai.com/v1/chat/completions \"HTTP/1.1 200 OK\"\n"
     ]
    },
    {
     "name": "stdout",
     "output_type": "stream",
     "text": [
      "   Marvin Cost: 2035.0\n",
      "   BAML Cost: 2108.5\n"
     ]
    },
    {
     "name": "stderr",
     "output_type": "stream",
     "text": [
      "2024-08-28 22:50:33,903.903 INFO     HTTP Request: POST https://api.openai.com/v1/chat/completions \"HTTP/1.1 200 OK\"\n"
     ]
    },
    {
     "name": "stdout",
     "output_type": "stream",
     "text": [
      "   LangChain Cost: 2165.0\n",
      "Iteration 15 of 50\n",
      "   Structured Cost: 2225.0\n",
      "   Multi-Step Structured Cost: 2215.0\n"
     ]
    },
    {
     "name": "stderr",
     "output_type": "stream",
     "text": [
      "2024-08-28 22:50:44,343.343 INFO     HTTP Request: POST https://api.openai.com/v1/chat/completions \"HTTP/1.1 200 OK\"\n"
     ]
    },
    {
     "name": "stdout",
     "output_type": "stream",
     "text": [
      "   Instructor Cost: 2165.0\n"
     ]
    },
    {
     "name": "stderr",
     "output_type": "stream",
     "text": [
      "2024-08-28 22:50:45,469.469 INFO     HTTP Request: POST https://api.openai.com/v1/chat/completions \"HTTP/1.1 200 OK\"\n"
     ]
    },
    {
     "name": "stdout",
     "output_type": "stream",
     "text": [
      "   Marvin Cost: 2129.0\n",
      "   BAML Cost: 2239.5\n"
     ]
    },
    {
     "name": "stderr",
     "output_type": "stream",
     "text": [
      "2024-08-28 22:50:47,828.828 INFO     HTTP Request: POST https://api.openai.com/v1/chat/completions \"HTTP/1.1 200 OK\"\n"
     ]
    },
    {
     "name": "stdout",
     "output_type": "stream",
     "text": [
      "   LangChain Cost: 2090.0\n",
      "Iteration 16 of 50\n",
      "   Structured Cost: 2201.5\n",
      "   Multi-Step Structured Cost: 2215.0\n"
     ]
    },
    {
     "name": "stderr",
     "output_type": "stream",
     "text": [
      "2024-08-28 22:50:59,805.805 INFO     HTTP Request: POST https://api.openai.com/v1/chat/completions \"HTTP/1.1 200 OK\"\n"
     ]
    },
    {
     "name": "stdout",
     "output_type": "stream",
     "text": [
      "   Instructor Cost: 2115.0\n"
     ]
    },
    {
     "name": "stderr",
     "output_type": "stream",
     "text": [
      "2024-08-28 22:51:00,799.799 INFO     HTTP Request: POST https://api.openai.com/v1/chat/completions \"HTTP/1.1 200 OK\"\n"
     ]
    },
    {
     "name": "stdout",
     "output_type": "stream",
     "text": [
      "   Marvin Cost: 2351.0\n",
      "   BAML Cost: 2176.5\n"
     ]
    },
    {
     "name": "stderr",
     "output_type": "stream",
     "text": [
      "2024-08-28 22:51:04,415.415 INFO     HTTP Request: POST https://api.openai.com/v1/chat/completions \"HTTP/1.1 200 OK\"\n"
     ]
    },
    {
     "name": "stdout",
     "output_type": "stream",
     "text": [
      "   LangChain Cost: 2115.0\n",
      "Iteration 17 of 50\n",
      "   Structured Cost: 2235.0\n",
      "   Multi-Step Structured Cost: 2215.0\n"
     ]
    },
    {
     "name": "stderr",
     "output_type": "stream",
     "text": [
      "2024-08-28 22:51:23,223.223 INFO     HTTP Request: POST https://api.openai.com/v1/chat/completions \"HTTP/1.1 200 OK\"\n"
     ]
    },
    {
     "name": "stdout",
     "output_type": "stream",
     "text": [
      "   Instructor Cost: 2115.0\n"
     ]
    },
    {
     "name": "stderr",
     "output_type": "stream",
     "text": [
      "2024-08-28 22:51:24,345.345 INFO     HTTP Request: POST https://api.openai.com/v1/chat/completions \"HTTP/1.1 200 OK\"\n"
     ]
    },
    {
     "name": "stdout",
     "output_type": "stream",
     "text": [
      "   Marvin Cost: 2215.0\n",
      "   BAML Cost: 2335.0\n"
     ]
    },
    {
     "name": "stderr",
     "output_type": "stream",
     "text": [
      "2024-08-28 22:51:27,642.642 INFO     HTTP Request: POST https://api.openai.com/v1/chat/completions \"HTTP/1.1 200 OK\"\n"
     ]
    },
    {
     "name": "stdout",
     "output_type": "stream",
     "text": [
      "   LangChain Cost: 1997.0\n",
      "Iteration 18 of 50\n",
      "   Structured Cost: 2265.0\n",
      "   Multi-Step Structured Cost: 2215.0\n"
     ]
    },
    {
     "name": "stderr",
     "output_type": "stream",
     "text": [
      "2024-08-28 22:51:38,410.410 INFO     HTTP Request: POST https://api.openai.com/v1/chat/completions \"HTTP/1.1 200 OK\"\n"
     ]
    },
    {
     "name": "stdout",
     "output_type": "stream",
     "text": [
      "   Instructor Cost: 2070.0\n"
     ]
    },
    {
     "name": "stderr",
     "output_type": "stream",
     "text": [
      "2024-08-28 22:51:40,158.158 INFO     HTTP Request: POST https://api.openai.com/v1/chat/completions \"HTTP/1.1 200 OK\"\n"
     ]
    },
    {
     "name": "stdout",
     "output_type": "stream",
     "text": [
      "   Marvin Cost: 2115.0\n",
      "   BAML Cost: 2076.5\n"
     ]
    },
    {
     "name": "stderr",
     "output_type": "stream",
     "text": [
      "2024-08-28 22:51:43,633.633 INFO     HTTP Request: POST https://api.openai.com/v1/chat/completions \"HTTP/1.1 200 OK\"\n"
     ]
    },
    {
     "name": "stdout",
     "output_type": "stream",
     "text": [
      "   LangChain Cost: 2115.0\n",
      "Iteration 19 of 50\n",
      "   Structured Cost: 2183.0\n",
      "   Multi-Step Structured Cost: 2215.0\n"
     ]
    },
    {
     "name": "stderr",
     "output_type": "stream",
     "text": [
      "2024-08-28 22:51:53,157.157 INFO     HTTP Request: POST https://api.openai.com/v1/chat/completions \"HTTP/1.1 200 OK\"\n"
     ]
    },
    {
     "name": "stdout",
     "output_type": "stream",
     "text": [
      "   Instructor Cost: 2035.0\n"
     ]
    },
    {
     "name": "stderr",
     "output_type": "stream",
     "text": [
      "2024-08-28 22:51:54,111.111 INFO     HTTP Request: POST https://api.openai.com/v1/chat/completions \"HTTP/1.1 200 OK\"\n"
     ]
    },
    {
     "name": "stdout",
     "output_type": "stream",
     "text": [
      "   Marvin Cost: 2145.0\n",
      "   BAML Cost: 1975.0\n"
     ]
    },
    {
     "name": "stderr",
     "output_type": "stream",
     "text": [
      "2024-08-28 22:52:00,702.702 INFO     HTTP Request: POST https://api.openai.com/v1/chat/completions \"HTTP/1.1 200 OK\"\n"
     ]
    },
    {
     "name": "stdout",
     "output_type": "stream",
     "text": [
      "   LangChain Cost: 2210.0\n",
      "Iteration 20 of 50\n",
      "   Structured Cost: 2405.0\n",
      "   Multi-Step Structured Cost: 2215.0\n"
     ]
    },
    {
     "name": "stderr",
     "output_type": "stream",
     "text": [
      "2024-08-28 22:52:11,735.735 INFO     HTTP Request: POST https://api.openai.com/v1/chat/completions \"HTTP/1.1 200 OK\"\n"
     ]
    },
    {
     "name": "stdout",
     "output_type": "stream",
     "text": [
      "   Instructor Cost: 1975.0\n"
     ]
    },
    {
     "name": "stderr",
     "output_type": "stream",
     "text": [
      "2024-08-28 22:52:13,246.246 INFO     HTTP Request: POST https://api.openai.com/v1/chat/completions \"HTTP/1.1 200 OK\"\n"
     ]
    },
    {
     "name": "stdout",
     "output_type": "stream",
     "text": [
      "   Marvin Cost: 2115.0\n",
      "   BAML Cost: 2075.0\n"
     ]
    },
    {
     "name": "stderr",
     "output_type": "stream",
     "text": [
      "2024-08-28 22:52:16,311.311 INFO     HTTP Request: POST https://api.openai.com/v1/chat/completions \"HTTP/1.1 200 OK\"\n"
     ]
    },
    {
     "name": "stdout",
     "output_type": "stream",
     "text": [
      "   LangChain Cost: 2115.0\n",
      "Iteration 21 of 50\n",
      "   Structured Cost: 2135.0\n",
      "   Multi-Step Structured Cost: 2215.0\n"
     ]
    },
    {
     "name": "stderr",
     "output_type": "stream",
     "text": [
      "2024-08-28 22:52:42,147.147 INFO     HTTP Request: POST https://api.openai.com/v1/chat/completions \"HTTP/1.1 200 OK\"\n"
     ]
    },
    {
     "name": "stdout",
     "output_type": "stream",
     "text": [
      "   Instructor Cost: 2189.0\n"
     ]
    },
    {
     "name": "stderr",
     "output_type": "stream",
     "text": [
      "2024-08-28 22:52:43,437.437 INFO     HTTP Request: POST https://api.openai.com/v1/chat/completions \"HTTP/1.1 200 OK\"\n"
     ]
    },
    {
     "name": "stdout",
     "output_type": "stream",
     "text": [
      "   Marvin Cost: 2255.0\n",
      "   BAML Cost: 2035.0\n"
     ]
    },
    {
     "name": "stderr",
     "output_type": "stream",
     "text": [
      "2024-08-28 22:52:46,090.090 INFO     HTTP Request: POST https://api.openai.com/v1/chat/completions \"HTTP/1.1 200 OK\"\n"
     ]
    },
    {
     "name": "stdout",
     "output_type": "stream",
     "text": [
      "   LangChain Cost: 2035.0\n",
      "Iteration 22 of 50\n",
      "   Structured Cost: 2345.0\n",
      "   Multi-Step Structured Cost: 2215.0\n"
     ]
    },
    {
     "name": "stderr",
     "output_type": "stream",
     "text": [
      "2024-08-28 22:52:59,718.718 INFO     HTTP Request: POST https://api.openai.com/v1/chat/completions \"HTTP/1.1 200 OK\"\n"
     ]
    },
    {
     "name": "stdout",
     "output_type": "stream",
     "text": [
      "   Instructor Cost: 2285.0\n"
     ]
    },
    {
     "name": "stderr",
     "output_type": "stream",
     "text": [
      "2024-08-28 22:53:01,151.151 INFO     HTTP Request: POST https://api.openai.com/v1/chat/completions \"HTTP/1.1 200 OK\"\n"
     ]
    },
    {
     "name": "stdout",
     "output_type": "stream",
     "text": [
      "   Marvin Cost: 2135.0\n",
      "   BAML Cost: 2183.0\n"
     ]
    },
    {
     "name": "stderr",
     "output_type": "stream",
     "text": [
      "2024-08-28 22:53:03,403.403 INFO     HTTP Request: POST https://api.openai.com/v1/chat/completions \"HTTP/1.1 200 OK\"\n"
     ]
    },
    {
     "name": "stdout",
     "output_type": "stream",
     "text": [
      "   LangChain Cost: 2115.0\n",
      "Iteration 23 of 50\n",
      "   Structured Cost: 2165.0\n",
      "   Multi-Step Structured Cost: 2215.0\n"
     ]
    },
    {
     "name": "stderr",
     "output_type": "stream",
     "text": [
      "2024-08-28 22:53:14,026.026 INFO     HTTP Request: POST https://api.openai.com/v1/chat/completions \"HTTP/1.1 200 OK\"\n"
     ]
    },
    {
     "name": "stdout",
     "output_type": "stream",
     "text": [
      "   Instructor Cost: 2015.0\n"
     ]
    },
    {
     "name": "stderr",
     "output_type": "stream",
     "text": [
      "2024-08-28 22:53:15,691.691 INFO     HTTP Request: POST https://api.openai.com/v1/chat/completions \"HTTP/1.1 200 OK\"\n"
     ]
    },
    {
     "name": "stdout",
     "output_type": "stream",
     "text": [
      "   Marvin Cost: 2117.0\n",
      "   BAML Cost: 2135.0\n"
     ]
    },
    {
     "name": "stderr",
     "output_type": "stream",
     "text": [
      "2024-08-28 22:53:18,707.707 INFO     HTTP Request: POST https://api.openai.com/v1/chat/completions \"HTTP/1.1 200 OK\"\n"
     ]
    },
    {
     "name": "stdout",
     "output_type": "stream",
     "text": [
      "   LangChain Cost: 2075.0\n",
      "Iteration 24 of 50\n",
      "   Structured Cost: 2525.0\n",
      "   Multi-Step Structured Cost: 2215.0\n"
     ]
    },
    {
     "name": "stderr",
     "output_type": "stream",
     "text": [
      "2024-08-28 22:53:31,668.668 INFO     HTTP Request: POST https://api.openai.com/v1/chat/completions \"HTTP/1.1 200 OK\"\n"
     ]
    },
    {
     "name": "stdout",
     "output_type": "stream",
     "text": [
      "   Instructor Cost: 2115.0\n"
     ]
    },
    {
     "name": "stderr",
     "output_type": "stream",
     "text": [
      "2024-08-28 22:53:32,895.895 INFO     HTTP Request: POST https://api.openai.com/v1/chat/completions \"HTTP/1.1 200 OK\"\n"
     ]
    },
    {
     "name": "stdout",
     "output_type": "stream",
     "text": [
      "   Marvin Cost: 2325.0\n",
      "   BAML Cost: 2131.0\n"
     ]
    },
    {
     "name": "stderr",
     "output_type": "stream",
     "text": [
      "2024-08-28 22:53:34,942.942 INFO     HTTP Request: POST https://api.openai.com/v1/chat/completions \"HTTP/1.1 200 OK\"\n"
     ]
    },
    {
     "name": "stdout",
     "output_type": "stream",
     "text": [
      "   LangChain Cost: 2430.0\n",
      "Iteration 25 of 50\n",
      "   Structured Cost: 2095.0\n",
      "   Multi-Step Structured Cost: 2215.0\n"
     ]
    },
    {
     "name": "stderr",
     "output_type": "stream",
     "text": [
      "2024-08-28 22:53:45,914.914 INFO     HTTP Request: POST https://api.openai.com/v1/chat/completions \"HTTP/1.1 200 OK\"\n"
     ]
    },
    {
     "name": "stdout",
     "output_type": "stream",
     "text": [
      "   Instructor Cost: 2035.0\n"
     ]
    },
    {
     "name": "stderr",
     "output_type": "stream",
     "text": [
      "2024-08-28 22:53:47,073.073 INFO     HTTP Request: POST https://api.openai.com/v1/chat/completions \"HTTP/1.1 200 OK\"\n"
     ]
    },
    {
     "name": "stdout",
     "output_type": "stream",
     "text": [
      "   Marvin Cost: 2365.0\n",
      "   BAML Cost: 2173.0\n"
     ]
    },
    {
     "name": "stderr",
     "output_type": "stream",
     "text": [
      "2024-08-28 22:53:51,019.019 INFO     HTTP Request: POST https://api.openai.com/v1/chat/completions \"HTTP/1.1 200 OK\"\n"
     ]
    },
    {
     "name": "stdout",
     "output_type": "stream",
     "text": [
      "   LangChain Cost: 2135.0\n",
      "Iteration 26 of 50\n",
      "   Structured Cost: 2115.0\n",
      "   Multi-Step Structured Cost: 2215.0\n"
     ]
    },
    {
     "name": "stderr",
     "output_type": "stream",
     "text": [
      "2024-08-28 22:54:02,078.078 INFO     HTTP Request: POST https://api.openai.com/v1/chat/completions \"HTTP/1.1 200 OK\"\n"
     ]
    },
    {
     "name": "stdout",
     "output_type": "stream",
     "text": [
      "   Instructor Cost: 2115.0\n"
     ]
    },
    {
     "name": "stderr",
     "output_type": "stream",
     "text": [
      "2024-08-28 22:54:03,337.337 INFO     HTTP Request: POST https://api.openai.com/v1/chat/completions \"HTTP/1.1 200 OK\"\n"
     ]
    },
    {
     "name": "stdout",
     "output_type": "stream",
     "text": [
      "   Marvin Cost: 2215.0\n",
      "   BAML Cost: 2105.0\n"
     ]
    },
    {
     "name": "stderr",
     "output_type": "stream",
     "text": [
      "2024-08-28 22:54:06,475.475 INFO     HTTP Request: POST https://api.openai.com/v1/chat/completions \"HTTP/1.1 200 OK\"\n"
     ]
    },
    {
     "name": "stdout",
     "output_type": "stream",
     "text": [
      "   LangChain Cost: 2023.0\n",
      "Iteration 27 of 50\n",
      "   Structured Cost: 2395.0\n",
      "   Multi-Step Structured Cost: 2215.0\n"
     ]
    },
    {
     "name": "stderr",
     "output_type": "stream",
     "text": [
      "2024-08-28 22:54:22,253.253 INFO     HTTP Request: POST https://api.openai.com/v1/chat/completions \"HTTP/1.1 200 OK\"\n"
     ]
    },
    {
     "name": "stdout",
     "output_type": "stream",
     "text": [
      "   Instructor Cost: 2081.0\n"
     ]
    },
    {
     "name": "stderr",
     "output_type": "stream",
     "text": [
      "2024-08-28 22:54:23,316.316 INFO     HTTP Request: POST https://api.openai.com/v1/chat/completions \"HTTP/1.1 200 OK\"\n"
     ]
    },
    {
     "name": "stdout",
     "output_type": "stream",
     "text": [
      "   Marvin Cost: 2115.0\n",
      "   BAML Cost: 2120.0\n"
     ]
    },
    {
     "name": "stderr",
     "output_type": "stream",
     "text": [
      "2024-08-28 22:54:26,659.659 INFO     HTTP Request: POST https://api.openai.com/v1/chat/completions \"HTTP/1.1 200 OK\"\n"
     ]
    },
    {
     "name": "stdout",
     "output_type": "stream",
     "text": [
      "   LangChain Cost: 2115.0\n",
      "Iteration 28 of 50\n",
      "   Structured Cost: 2125.0\n",
      "   Multi-Step Structured Cost: 2215.0\n"
     ]
    },
    {
     "name": "stderr",
     "output_type": "stream",
     "text": [
      "2024-08-28 22:54:38,661.661 INFO     HTTP Request: POST https://api.openai.com/v1/chat/completions \"HTTP/1.1 200 OK\"\n"
     ]
    },
    {
     "name": "stdout",
     "output_type": "stream",
     "text": [
      "   Instructor Cost: 2265.0\n"
     ]
    },
    {
     "name": "stderr",
     "output_type": "stream",
     "text": [
      "2024-08-28 22:54:39,881.881 INFO     HTTP Request: POST https://api.openai.com/v1/chat/completions \"HTTP/1.1 200 OK\"\n"
     ]
    },
    {
     "name": "stdout",
     "output_type": "stream",
     "text": [
      "   Marvin Cost: 2155.0\n",
      "   BAML Cost: 2204.0\n"
     ]
    },
    {
     "name": "stderr",
     "output_type": "stream",
     "text": [
      "2024-08-28 22:54:43,951.951 INFO     HTTP Request: POST https://api.openai.com/v1/chat/completions \"HTTP/1.1 200 OK\"\n"
     ]
    },
    {
     "name": "stdout",
     "output_type": "stream",
     "text": [
      "   LangChain Cost: 2057.0\n",
      "Iteration 29 of 50\n",
      "   Structured Cost: 2185.0\n",
      "   Multi-Step Structured Cost: 2215.0\n"
     ]
    },
    {
     "name": "stderr",
     "output_type": "stream",
     "text": [
      "2024-08-28 22:54:56,761.761 INFO     HTTP Request: POST https://api.openai.com/v1/chat/completions \"HTTP/1.1 200 OK\"\n"
     ]
    },
    {
     "name": "stdout",
     "output_type": "stream",
     "text": [
      "   Instructor Cost: 2125.0\n"
     ]
    },
    {
     "name": "stderr",
     "output_type": "stream",
     "text": [
      "2024-08-28 22:54:59,143.143 INFO     HTTP Request: POST https://api.openai.com/v1/chat/completions \"HTTP/1.1 200 OK\"\n"
     ]
    },
    {
     "name": "stdout",
     "output_type": "stream",
     "text": [
      "   Marvin Cost: 2145.0\n",
      "   BAML Cost: 2252.5\n"
     ]
    },
    {
     "name": "stderr",
     "output_type": "stream",
     "text": [
      "2024-08-28 22:55:00,989.989 INFO     HTTP Request: POST https://api.openai.com/v1/chat/completions \"HTTP/1.1 200 OK\"\n"
     ]
    },
    {
     "name": "stdout",
     "output_type": "stream",
     "text": [
      "   LangChain Cost: 2115.0\n",
      "Iteration 30 of 50\n",
      "   Structured Cost: 2225.0\n",
      "   Multi-Step Structured Cost: 2215.0\n"
     ]
    },
    {
     "name": "stderr",
     "output_type": "stream",
     "text": [
      "2024-08-28 22:55:12,951.951 INFO     HTTP Request: POST https://api.openai.com/v1/chat/completions \"HTTP/1.1 200 OK\"\n"
     ]
    },
    {
     "name": "stdout",
     "output_type": "stream",
     "text": [
      "   Instructor Cost: 2261.0\n"
     ]
    },
    {
     "name": "stderr",
     "output_type": "stream",
     "text": [
      "2024-08-28 22:55:15,925.925 INFO     HTTP Request: POST https://api.openai.com/v1/chat/completions \"HTTP/1.1 200 OK\"\n"
     ]
    },
    {
     "name": "stdout",
     "output_type": "stream",
     "text": [
      "   Marvin Cost: 2121.5\n",
      "   BAML Cost: 2210.0\n"
     ]
    },
    {
     "name": "stderr",
     "output_type": "stream",
     "text": [
      "2024-08-28 22:55:19,712.712 INFO     HTTP Request: POST https://api.openai.com/v1/chat/completions \"HTTP/1.1 200 OK\"\n"
     ]
    },
    {
     "name": "stdout",
     "output_type": "stream",
     "text": [
      "   LangChain Cost: 2125.0\n",
      "Iteration 31 of 50\n",
      "   Structured Cost: 2135.0\n",
      "   Multi-Step Structured Cost: 2215.0\n"
     ]
    },
    {
     "name": "stderr",
     "output_type": "stream",
     "text": [
      "2024-08-28 22:55:30,284.284 INFO     HTTP Request: POST https://api.openai.com/v1/chat/completions \"HTTP/1.1 200 OK\"\n"
     ]
    },
    {
     "name": "stdout",
     "output_type": "stream",
     "text": [
      "   Instructor Cost: 2115.0\n"
     ]
    },
    {
     "name": "stderr",
     "output_type": "stream",
     "text": [
      "2024-08-28 22:55:31,596.596 INFO     HTTP Request: POST https://api.openai.com/v1/chat/completions \"HTTP/1.1 200 OK\"\n"
     ]
    },
    {
     "name": "stdout",
     "output_type": "stream",
     "text": [
      "   Marvin Cost: 2015.0\n",
      "   BAML Cost: 2305.0\n"
     ]
    },
    {
     "name": "stderr",
     "output_type": "stream",
     "text": [
      "2024-08-28 22:55:37,535.535 INFO     HTTP Request: POST https://api.openai.com/v1/chat/completions \"HTTP/1.1 200 OK\"\n"
     ]
    },
    {
     "name": "stdout",
     "output_type": "stream",
     "text": [
      "   LangChain Cost: 2108.0\n",
      "Iteration 32 of 50\n",
      "   Structured Cost: 2305.0\n",
      "   Multi-Step Structured Cost: 2215.0\n"
     ]
    },
    {
     "name": "stderr",
     "output_type": "stream",
     "text": [
      "2024-08-28 22:55:50,443.443 INFO     HTTP Request: POST https://api.openai.com/v1/chat/completions \"HTTP/1.1 200 OK\"\n"
     ]
    },
    {
     "name": "stdout",
     "output_type": "stream",
     "text": [
      "   Instructor Cost: 2115.0\n"
     ]
    },
    {
     "name": "stderr",
     "output_type": "stream",
     "text": [
      "2024-08-28 22:55:52,033.033 INFO     HTTP Request: POST https://api.openai.com/v1/chat/completions \"HTTP/1.1 200 OK\"\n"
     ]
    },
    {
     "name": "stdout",
     "output_type": "stream",
     "text": [
      "   Marvin Cost: 2321.0\n",
      "   BAML Cost: 2120.5\n"
     ]
    },
    {
     "name": "stderr",
     "output_type": "stream",
     "text": [
      "2024-08-28 22:55:55,250.250 INFO     HTTP Request: POST https://api.openai.com/v1/chat/completions \"HTTP/1.1 200 OK\"\n"
     ]
    },
    {
     "name": "stdout",
     "output_type": "stream",
     "text": [
      "   LangChain Cost: 2075.0\n",
      "Iteration 33 of 50\n",
      "   Structured Cost: 2245.0\n",
      "   Multi-Step Structured Cost: 2215.0\n"
     ]
    },
    {
     "name": "stderr",
     "output_type": "stream",
     "text": [
      "2024-08-28 22:56:06,720.720 INFO     HTTP Request: POST https://api.openai.com/v1/chat/completions \"HTTP/1.1 200 OK\"\n"
     ]
    },
    {
     "name": "stdout",
     "output_type": "stream",
     "text": [
      "   Instructor Cost: 2180.0\n"
     ]
    },
    {
     "name": "stderr",
     "output_type": "stream",
     "text": [
      "2024-08-28 22:56:07,834.834 INFO     HTTP Request: POST https://api.openai.com/v1/chat/completions \"HTTP/1.1 200 OK\"\n"
     ]
    },
    {
     "name": "stdout",
     "output_type": "stream",
     "text": [
      "   Marvin Cost: 2175.0\n",
      "   BAML Cost: 2093.0\n"
     ]
    },
    {
     "name": "stderr",
     "output_type": "stream",
     "text": [
      "2024-08-28 22:56:11,533.533 INFO     HTTP Request: POST https://api.openai.com/v1/chat/completions \"HTTP/1.1 200 OK\"\n"
     ]
    },
    {
     "name": "stdout",
     "output_type": "stream",
     "text": [
      "   LangChain Cost: 2252.5\n",
      "Iteration 34 of 50\n",
      "   Structured Cost: 2195.0\n",
      "   Multi-Step Structured Cost: 2215.0\n"
     ]
    },
    {
     "name": "stderr",
     "output_type": "stream",
     "text": [
      "2024-08-28 22:56:26,004.004 INFO     HTTP Request: POST https://api.openai.com/v1/chat/completions \"HTTP/1.1 200 OK\"\n"
     ]
    },
    {
     "name": "stdout",
     "output_type": "stream",
     "text": [
      "   Instructor Cost: 2030.0\n"
     ]
    },
    {
     "name": "stderr",
     "output_type": "stream",
     "text": [
      "2024-08-28 22:56:26,997.997 INFO     HTTP Request: POST https://api.openai.com/v1/chat/completions \"HTTP/1.1 200 OK\"\n"
     ]
    },
    {
     "name": "stdout",
     "output_type": "stream",
     "text": [
      "   Marvin Cost: 2231.0\n",
      "   BAML Cost: 2130.0\n"
     ]
    },
    {
     "name": "stderr",
     "output_type": "stream",
     "text": [
      "2024-08-28 22:56:30,788.788 INFO     HTTP Request: POST https://api.openai.com/v1/chat/completions \"HTTP/1.1 200 OK\"\n"
     ]
    },
    {
     "name": "stdout",
     "output_type": "stream",
     "text": [
      "   LangChain Cost: 2115.0\n",
      "Iteration 35 of 50\n",
      "   Structured Cost: 2465.0\n",
      "   Multi-Step Structured Cost: 2215.0\n"
     ]
    },
    {
     "name": "stderr",
     "output_type": "stream",
     "text": [
      "2024-08-28 22:56:44,097.097 INFO     HTTP Request: POST https://api.openai.com/v1/chat/completions \"HTTP/1.1 200 OK\"\n"
     ]
    },
    {
     "name": "stdout",
     "output_type": "stream",
     "text": [
      "   Instructor Cost: 2236.5\n"
     ]
    },
    {
     "name": "stderr",
     "output_type": "stream",
     "text": [
      "2024-08-28 22:56:45,329.329 INFO     HTTP Request: POST https://api.openai.com/v1/chat/completions \"HTTP/1.1 200 OK\"\n"
     ]
    },
    {
     "name": "stdout",
     "output_type": "stream",
     "text": [
      "   Marvin Cost: 2175.0\n",
      "   BAML Cost: 2099.0\n"
     ]
    },
    {
     "name": "stderr",
     "output_type": "stream",
     "text": [
      "2024-08-28 22:56:49,091.091 INFO     HTTP Request: POST https://api.openai.com/v1/chat/completions \"HTTP/1.1 200 OK\"\n"
     ]
    },
    {
     "name": "stdout",
     "output_type": "stream",
     "text": [
      "   LangChain Cost: 2239.0\n",
      "Iteration 36 of 50\n",
      "   Structured Cost: 2255.0\n",
      "   Multi-Step Structured Cost: 2215.0\n"
     ]
    },
    {
     "name": "stderr",
     "output_type": "stream",
     "text": [
      "2024-08-28 22:57:01,766.766 INFO     HTTP Request: POST https://api.openai.com/v1/chat/completions \"HTTP/1.1 200 OK\"\n"
     ]
    },
    {
     "name": "stdout",
     "output_type": "stream",
     "text": [
      "   Instructor Cost: 2210.0\n"
     ]
    },
    {
     "name": "stderr",
     "output_type": "stream",
     "text": [
      "2024-08-28 22:57:03,453.453 INFO     HTTP Request: POST https://api.openai.com/v1/chat/completions \"HTTP/1.1 200 OK\"\n"
     ]
    },
    {
     "name": "stdout",
     "output_type": "stream",
     "text": [
      "   Marvin Cost: 2115.0\n",
      "   BAML Cost: 2261.5\n"
     ]
    },
    {
     "name": "stderr",
     "output_type": "stream",
     "text": [
      "2024-08-28 22:57:05,908.908 INFO     HTTP Request: POST https://api.openai.com/v1/chat/completions \"HTTP/1.1 200 OK\"\n"
     ]
    },
    {
     "name": "stdout",
     "output_type": "stream",
     "text": [
      "   LangChain Cost: 2265.0\n",
      "Iteration 37 of 50\n",
      "   Structured Cost: 2350.0\n",
      "   Multi-Step Structured Cost: 2215.0\n"
     ]
    },
    {
     "name": "stderr",
     "output_type": "stream",
     "text": [
      "2024-08-28 22:57:17,582.582 INFO     HTTP Request: POST https://api.openai.com/v1/chat/completions \"HTTP/1.1 200 OK\"\n"
     ]
    },
    {
     "name": "stdout",
     "output_type": "stream",
     "text": [
      "   Instructor Cost: 2056.0\n"
     ]
    },
    {
     "name": "stderr",
     "output_type": "stream",
     "text": [
      "2024-08-28 22:57:18,812.812 INFO     HTTP Request: POST https://api.openai.com/v1/chat/completions \"HTTP/1.1 200 OK\"\n"
     ]
    },
    {
     "name": "stdout",
     "output_type": "stream",
     "text": [
      "   Marvin Cost: 2120.0\n",
      "   BAML Cost: 2085.0\n"
     ]
    },
    {
     "name": "stderr",
     "output_type": "stream",
     "text": [
      "2024-08-28 22:57:22,185.185 INFO     HTTP Request: POST https://api.openai.com/v1/chat/completions \"HTTP/1.1 200 OK\"\n"
     ]
    },
    {
     "name": "stdout",
     "output_type": "stream",
     "text": [
      "   LangChain Cost: 2185.0\n",
      "Iteration 38 of 50\n",
      "   Structured Cost: 2215.0\n",
      "   Multi-Step Structured Cost: 2215.0\n"
     ]
    },
    {
     "name": "stderr",
     "output_type": "stream",
     "text": [
      "2024-08-28 22:57:33,147.147 INFO     HTTP Request: POST https://api.openai.com/v1/chat/completions \"HTTP/1.1 200 OK\"\n"
     ]
    },
    {
     "name": "stdout",
     "output_type": "stream",
     "text": [
      "   Instructor Cost: 2075.0\n"
     ]
    },
    {
     "name": "stderr",
     "output_type": "stream",
     "text": [
      "2024-08-28 22:57:34,478.478 INFO     HTTP Request: POST https://api.openai.com/v1/chat/completions \"HTTP/1.1 200 OK\"\n"
     ]
    },
    {
     "name": "stdout",
     "output_type": "stream",
     "text": [
      "   Marvin Cost: 2115.0\n",
      "   BAML Cost: 2189.5\n"
     ]
    },
    {
     "name": "stderr",
     "output_type": "stream",
     "text": [
      "2024-08-28 22:57:36,730.730 INFO     HTTP Request: POST https://api.openai.com/v1/chat/completions \"HTTP/1.1 200 OK\"\n"
     ]
    },
    {
     "name": "stdout",
     "output_type": "stream",
     "text": [
      "   LangChain Cost: 2239.0\n",
      "Iteration 39 of 50\n",
      "   Structured Cost: 2240.0\n",
      "   Multi-Step Structured Cost: 2215.0\n"
     ]
    },
    {
     "name": "stderr",
     "output_type": "stream",
     "text": [
      "2024-08-28 22:57:47,175.175 INFO     HTTP Request: POST https://api.openai.com/v1/chat/completions \"HTTP/1.1 200 OK\"\n"
     ]
    },
    {
     "name": "stdout",
     "output_type": "stream",
     "text": [
      "   Instructor Cost: 2125.0\n"
     ]
    },
    {
     "name": "stderr",
     "output_type": "stream",
     "text": [
      "2024-08-28 22:57:48,405.405 INFO     HTTP Request: POST https://api.openai.com/v1/chat/completions \"HTTP/1.1 200 OK\"\n"
     ]
    },
    {
     "name": "stdout",
     "output_type": "stream",
     "text": [
      "   Marvin Cost: 2173.0\n",
      "   BAML Cost: 2173.0\n"
     ]
    },
    {
     "name": "stderr",
     "output_type": "stream",
     "text": [
      "2024-08-28 22:57:52,602.602 INFO     HTTP Request: POST https://api.openai.com/v1/chat/completions \"HTTP/1.1 200 OK\"\n"
     ]
    },
    {
     "name": "stdout",
     "output_type": "stream",
     "text": [
      "   LangChain Cost: 2065.0\n",
      "Iteration 40 of 50\n",
      "   Structured Cost: 2275.0\n",
      "   Multi-Step Structured Cost: 2215.0\n"
     ]
    },
    {
     "name": "stderr",
     "output_type": "stream",
     "text": [
      "2024-08-28 22:58:03,450.450 INFO     HTTP Request: POST https://api.openai.com/v1/chat/completions \"HTTP/1.1 200 OK\"\n"
     ]
    },
    {
     "name": "stdout",
     "output_type": "stream",
     "text": [
      "   Instructor Cost: 1915.0\n"
     ]
    },
    {
     "name": "stderr",
     "output_type": "stream",
     "text": [
      "2024-08-28 22:58:04,584.584 INFO     HTTP Request: POST https://api.openai.com/v1/chat/completions \"HTTP/1.1 200 OK\"\n"
     ]
    },
    {
     "name": "stdout",
     "output_type": "stream",
     "text": [
      "   Marvin Cost: 2186.0\n",
      "   BAML Cost: 2189.0\n"
     ]
    },
    {
     "name": "stderr",
     "output_type": "stream",
     "text": [
      "2024-08-28 22:58:08,425.425 INFO     HTTP Request: POST https://api.openai.com/v1/chat/completions \"HTTP/1.1 200 OK\"\n"
     ]
    },
    {
     "name": "stdout",
     "output_type": "stream",
     "text": [
      "   LangChain Cost: 2115.0\n",
      "Iteration 41 of 50\n",
      "   Structured Cost: 2345.0\n",
      "   Multi-Step Structured Cost: 2215.0\n"
     ]
    },
    {
     "name": "stderr",
     "output_type": "stream",
     "text": [
      "2024-08-28 22:58:19,637.637 INFO     HTTP Request: POST https://api.openai.com/v1/chat/completions \"HTTP/1.1 200 OK\"\n"
     ]
    },
    {
     "name": "stdout",
     "output_type": "stream",
     "text": [
      "   Instructor Cost: 2135.0\n"
     ]
    },
    {
     "name": "stderr",
     "output_type": "stream",
     "text": [
      "2024-08-28 22:58:20,866.866 INFO     HTTP Request: POST https://api.openai.com/v1/chat/completions \"HTTP/1.1 200 OK\"\n"
     ]
    },
    {
     "name": "stdout",
     "output_type": "stream",
     "text": [
      "   Marvin Cost: 2165.0\n",
      "   BAML Cost: 2131.0\n"
     ]
    },
    {
     "name": "stderr",
     "output_type": "stream",
     "text": [
      "2024-08-28 22:58:22,983.983 INFO     HTTP Request: POST https://api.openai.com/v1/chat/completions \"HTTP/1.1 200 OK\"\n"
     ]
    },
    {
     "name": "stdout",
     "output_type": "stream",
     "text": [
      "   LangChain Cost: 2135.0\n",
      "Iteration 42 of 50\n",
      "   Structured Cost: 2255.0\n",
      "   Multi-Step Structured Cost: 2215.0\n"
     ]
    },
    {
     "name": "stderr",
     "output_type": "stream",
     "text": [
      "2024-08-28 22:58:33,770.770 INFO     HTTP Request: POST https://api.openai.com/v1/chat/completions \"HTTP/1.1 200 OK\"\n"
     ]
    },
    {
     "name": "stdout",
     "output_type": "stream",
     "text": [
      "   Instructor Cost: 2075.0\n"
     ]
    },
    {
     "name": "stderr",
     "output_type": "stream",
     "text": [
      "2024-08-28 22:58:34,866.866 INFO     HTTP Request: POST https://api.openai.com/v1/chat/completions \"HTTP/1.1 200 OK\"\n"
     ]
    },
    {
     "name": "stdout",
     "output_type": "stream",
     "text": [
      "   Marvin Cost: 2215.0\n",
      "   BAML Cost: 2225.0\n"
     ]
    },
    {
     "name": "stderr",
     "output_type": "stream",
     "text": [
      "2024-08-28 22:58:38,787.787 INFO     HTTP Request: POST https://api.openai.com/v1/chat/completions \"HTTP/1.1 200 OK\"\n"
     ]
    },
    {
     "name": "stdout",
     "output_type": "stream",
     "text": [
      "   LangChain Cost: 2122.5\n",
      "Iteration 43 of 50\n",
      "   Structured Cost: 2230.0\n",
      "   Multi-Step Structured Cost: 2215.0\n"
     ]
    },
    {
     "name": "stderr",
     "output_type": "stream",
     "text": [
      "2024-08-28 22:58:49,046.046 INFO     HTTP Request: POST https://api.openai.com/v1/chat/completions \"HTTP/1.1 200 OK\"\n"
     ]
    },
    {
     "name": "stdout",
     "output_type": "stream",
     "text": [
      "   Instructor Cost: 2035.0\n"
     ]
    },
    {
     "name": "stderr",
     "output_type": "stream",
     "text": [
      "2024-08-28 22:58:50,256.256 INFO     HTTP Request: POST https://api.openai.com/v1/chat/completions \"HTTP/1.1 200 OK\"\n"
     ]
    },
    {
     "name": "stdout",
     "output_type": "stream",
     "text": [
      "   Marvin Cost: 2275.0\n",
      "   BAML Cost: 2239.0\n"
     ]
    },
    {
     "name": "stderr",
     "output_type": "stream",
     "text": [
      "2024-08-28 22:58:55,784.784 INFO     HTTP Request: POST https://api.openai.com/v1/chat/completions \"HTTP/1.1 200 OK\"\n"
     ]
    },
    {
     "name": "stdout",
     "output_type": "stream",
     "text": [
      "   LangChain Cost: 2165.0\n",
      "Iteration 44 of 50\n",
      "   Structured Cost: 2425.0\n",
      "   Multi-Step Structured Cost: 2215.0\n"
     ]
    },
    {
     "name": "stderr",
     "output_type": "stream",
     "text": [
      "2024-08-28 22:59:09,427.427 INFO     HTTP Request: POST https://api.openai.com/v1/chat/completions \"HTTP/1.1 200 OK\"\n"
     ]
    },
    {
     "name": "stdout",
     "output_type": "stream",
     "text": [
      "   Instructor Cost: 2195.0\n"
     ]
    },
    {
     "name": "stderr",
     "output_type": "stream",
     "text": [
      "2024-08-28 22:59:10,382.382 INFO     HTTP Request: POST https://api.openai.com/v1/chat/completions \"HTTP/1.1 200 OK\"\n"
     ]
    },
    {
     "name": "stdout",
     "output_type": "stream",
     "text": [
      "   Marvin Cost: 2119.0\n",
      "   BAML Cost: 2097.0\n"
     ]
    },
    {
     "name": "stderr",
     "output_type": "stream",
     "text": [
      "2024-08-28 22:59:14,105.105 INFO     HTTP Request: POST https://api.openai.com/v1/chat/completions \"HTTP/1.1 200 OK\"\n"
     ]
    },
    {
     "name": "stdout",
     "output_type": "stream",
     "text": [
      "   LangChain Cost: 2135.0\n",
      "Iteration 45 of 50\n",
      "   Structured Cost: 2365.0\n",
      "   Multi-Step Structured Cost: 2215.0\n"
     ]
    },
    {
     "name": "stderr",
     "output_type": "stream",
     "text": [
      "2024-08-28 22:59:36,846.846 INFO     HTTP Request: POST https://api.openai.com/v1/chat/completions \"HTTP/1.1 200 OK\"\n"
     ]
    },
    {
     "name": "stdout",
     "output_type": "stream",
     "text": [
      "   Instructor Cost: 2015.0\n"
     ]
    },
    {
     "name": "stderr",
     "output_type": "stream",
     "text": [
      "2024-08-28 22:59:38,975.975 INFO     HTTP Request: POST https://api.openai.com/v1/chat/completions \"HTTP/1.1 200 OK\"\n"
     ]
    },
    {
     "name": "stdout",
     "output_type": "stream",
     "text": [
      "   Marvin Cost: 2215.0\n",
      "   BAML Cost: 2323.0\n"
     ]
    },
    {
     "name": "stderr",
     "output_type": "stream",
     "text": [
      "2024-08-28 22:59:42,481.481 INFO     HTTP Request: POST https://api.openai.com/v1/chat/completions \"HTTP/1.1 200 OK\"\n"
     ]
    },
    {
     "name": "stdout",
     "output_type": "stream",
     "text": [
      "   LangChain Cost: 2185.0\n",
      "Iteration 46 of 50\n",
      "   Structured Cost: 2215.0\n",
      "   Multi-Step Structured Cost: 2215.0\n"
     ]
    },
    {
     "name": "stderr",
     "output_type": "stream",
     "text": [
      "2024-08-28 22:59:53,640.640 INFO     HTTP Request: POST https://api.openai.com/v1/chat/completions \"HTTP/1.1 200 OK\"\n"
     ]
    },
    {
     "name": "stdout",
     "output_type": "stream",
     "text": [
      "   Instructor Cost: 2115.0\n"
     ]
    },
    {
     "name": "stderr",
     "output_type": "stream",
     "text": [
      "2024-08-28 22:59:55,172.172 INFO     HTTP Request: POST https://api.openai.com/v1/chat/completions \"HTTP/1.1 200 OK\"\n"
     ]
    },
    {
     "name": "stdout",
     "output_type": "stream",
     "text": [
      "   Marvin Cost: 2205.0\n",
      "   BAML Cost: 2120.0\n"
     ]
    },
    {
     "name": "stderr",
     "output_type": "stream",
     "text": [
      "2024-08-28 23:00:00,043.043 INFO     HTTP Request: POST https://api.openai.com/v1/chat/completions \"HTTP/1.1 200 OK\"\n"
     ]
    },
    {
     "name": "stdout",
     "output_type": "stream",
     "text": [
      "   LangChain Cost: 2135.0\n",
      "Iteration 47 of 50\n",
      "   Structured Cost: 2345.0\n",
      "   Multi-Step Structured Cost: 2215.0\n"
     ]
    },
    {
     "name": "stderr",
     "output_type": "stream",
     "text": [
      "2024-08-28 23:00:14,529.529 INFO     HTTP Request: POST https://api.openai.com/v1/chat/completions \"HTTP/1.1 200 OK\"\n"
     ]
    },
    {
     "name": "stdout",
     "output_type": "stream",
     "text": [
      "   Instructor Cost: 2195.0\n"
     ]
    },
    {
     "name": "stderr",
     "output_type": "stream",
     "text": [
      "2024-08-28 23:00:15,965.965 INFO     HTTP Request: POST https://api.openai.com/v1/chat/completions \"HTTP/1.1 200 OK\"\n"
     ]
    },
    {
     "name": "stdout",
     "output_type": "stream",
     "text": [
      "   Marvin Cost: 2165.0\n",
      "   BAML Cost: 2206.5\n"
     ]
    },
    {
     "name": "stderr",
     "output_type": "stream",
     "text": [
      "2024-08-28 23:00:18,934.934 INFO     HTTP Request: POST https://api.openai.com/v1/chat/completions \"HTTP/1.1 200 OK\"\n"
     ]
    },
    {
     "name": "stdout",
     "output_type": "stream",
     "text": [
      "   LangChain Cost: 2122.5\n",
      "Iteration 48 of 50\n",
      "   Structured Cost: 2235.0\n",
      "   Multi-Step Structured Cost: 2215.0\n"
     ]
    },
    {
     "name": "stderr",
     "output_type": "stream",
     "text": [
      "2024-08-28 23:00:31,733.733 INFO     HTTP Request: POST https://api.openai.com/v1/chat/completions \"HTTP/1.1 200 OK\"\n"
     ]
    },
    {
     "name": "stdout",
     "output_type": "stream",
     "text": [
      "   Instructor Cost: 2075.0\n"
     ]
    },
    {
     "name": "stderr",
     "output_type": "stream",
     "text": [
      "2024-08-28 23:00:32,967.967 INFO     HTTP Request: POST https://api.openai.com/v1/chat/completions \"HTTP/1.1 200 OK\"\n"
     ]
    },
    {
     "name": "stdout",
     "output_type": "stream",
     "text": [
      "   Marvin Cost: 2295.0\n",
      "   BAML Cost: 2288.0\n"
     ]
    },
    {
     "name": "stderr",
     "output_type": "stream",
     "text": [
      "2024-08-28 23:00:37,572.572 INFO     HTTP Request: POST https://api.openai.com/v1/chat/completions \"HTTP/1.1 200 OK\"\n"
     ]
    },
    {
     "name": "stdout",
     "output_type": "stream",
     "text": [
      "   LangChain Cost: 2102.5\n",
      "Iteration 49 of 50\n",
      "   Structured Cost: 2155.0\n",
      "   Multi-Step Structured Cost: 2215.0\n"
     ]
    },
    {
     "name": "stderr",
     "output_type": "stream",
     "text": [
      "2024-08-28 23:00:57,642.642 INFO     HTTP Request: POST https://api.openai.com/v1/chat/completions \"HTTP/1.1 200 OK\"\n"
     ]
    },
    {
     "name": "stdout",
     "output_type": "stream",
     "text": [
      "   Instructor Cost: 2165.0\n"
     ]
    },
    {
     "name": "stderr",
     "output_type": "stream",
     "text": [
      "2024-08-28 23:00:59,020.020 INFO     HTTP Request: POST https://api.openai.com/v1/chat/completions \"HTTP/1.1 200 OK\"\n"
     ]
    },
    {
     "name": "stdout",
     "output_type": "stream",
     "text": [
      "   Marvin Cost: 2239.0\n",
      "   BAML Cost: 2345.0\n"
     ]
    },
    {
     "name": "stderr",
     "output_type": "stream",
     "text": [
      "2024-08-28 23:01:02,250.250 INFO     HTTP Request: POST https://api.openai.com/v1/chat/completions \"HTTP/1.1 200 OK\"\n"
     ]
    },
    {
     "name": "stdout",
     "output_type": "stream",
     "text": [
      "   LangChain Cost: 2263.0\n",
      "Iteration 50 of 50\n",
      "   Structured Cost: 2123.0\n",
      "   Multi-Step Structured Cost: 2215.0\n"
     ]
    },
    {
     "name": "stderr",
     "output_type": "stream",
     "text": [
      "2024-08-28 23:01:19,043.043 INFO     HTTP Request: POST https://api.openai.com/v1/chat/completions \"HTTP/1.1 200 OK\"\n"
     ]
    },
    {
     "name": "stdout",
     "output_type": "stream",
     "text": [
      "   Instructor Cost: 2141.5\n"
     ]
    },
    {
     "name": "stderr",
     "output_type": "stream",
     "text": [
      "2024-08-28 23:01:20,810.810 INFO     HTTP Request: POST https://api.openai.com/v1/chat/completions \"HTTP/1.1 200 OK\"\n"
     ]
    },
    {
     "name": "stdout",
     "output_type": "stream",
     "text": [
      "   Marvin Cost: 2155.0\n",
      "   BAML Cost: 2135.0\n"
     ]
    },
    {
     "name": "stderr",
     "output_type": "stream",
     "text": [
      "2024-08-28 23:01:26,675.675 INFO     HTTP Request: POST https://api.openai.com/v1/chat/completions \"HTTP/1.1 200 OK\"\n"
     ]
    },
    {
     "name": "stdout",
     "output_type": "stream",
     "text": [
      "   LangChain Cost: 2315.0\n"
     ]
    }
   ],
   "source": [
    "iterations = 50\n",
    "\n",
    "structured_values = []\n",
    "multistep_structured_values = []\n",
    "instructor_values = []\n",
    "marvin_values = []\n",
    "baml_values = []\n",
    "langchain_values = []\n",
    "\n",
    "for iteration in range(iterations):\n",
    "    print(f'Iteration {iteration+1} of {iterations}')\n",
    "    structured_values.append(get_structured_output())\n",
    "    multistep_structured_values.append(get_multistep_structured_output())\n",
    "    instructor_values.append(get_instructor_output())\n",
    "    marvin_values.append(get_marvin_output())\n",
    "    baml_values.append(get_baml_output())\n",
    "    langchain_values.append(get_langchain_output())"
   ]
  },
  {
   "cell_type": "code",
   "execution_count": 33,
   "metadata": {},
   "outputs": [],
   "source": [
    "data = {\n",
    "    'Multistep Instill VDP': multistep_structured_values,\n",
    "    'OpenAI Structured API': structured_values,\n",
    "    'Instructor': instructor_values,\n",
    "    'Marvin': marvin_values,\n",
    "    'BAML': baml_values,\n",
    "    'LangChain': langchain_values,\n",
    "    'TypeChat': [typechat_dict['cost']]*iterations\n",
    "}\n",
    "\n",
    "df = pd.DataFrame(data) - true_answer"
   ]
  },
  {
   "cell_type": "code",
   "execution_count": 34,
   "metadata": {},
   "outputs": [
    {
     "data": {
      "text/html": [
       "<div>\n",
       "<style scoped>\n",
       "    .dataframe tbody tr th:only-of-type {\n",
       "        vertical-align: middle;\n",
       "    }\n",
       "\n",
       "    .dataframe tbody tr th {\n",
       "        vertical-align: top;\n",
       "    }\n",
       "\n",
       "    .dataframe thead th {\n",
       "        text-align: right;\n",
       "    }\n",
       "</style>\n",
       "<table border=\"1\" class=\"dataframe\">\n",
       "  <thead>\n",
       "    <tr style=\"text-align: right;\">\n",
       "      <th></th>\n",
       "      <th>Multistep Instill VDP</th>\n",
       "      <th>OpenAI Structured API</th>\n",
       "      <th>Instructor</th>\n",
       "      <th>Marvin</th>\n",
       "      <th>BAML</th>\n",
       "      <th>LangChain</th>\n",
       "      <th>TypeChat</th>\n",
       "    </tr>\n",
       "  </thead>\n",
       "  <tbody>\n",
       "    <tr>\n",
       "      <th>count</th>\n",
       "      <td>50.0</td>\n",
       "      <td>50.000000</td>\n",
       "      <td>50.000000</td>\n",
       "      <td>50.000000</td>\n",
       "      <td>50.000000</td>\n",
       "      <td>50.000000</td>\n",
       "      <td>50.0</td>\n",
       "    </tr>\n",
       "    <tr>\n",
       "      <th>mean</th>\n",
       "      <td>0.0</td>\n",
       "      <td>46.430000</td>\n",
       "      <td>-99.710000</td>\n",
       "      <td>-21.770000</td>\n",
       "      <td>-37.600000</td>\n",
       "      <td>-71.170000</td>\n",
       "      <td>-100.0</td>\n",
       "    </tr>\n",
       "    <tr>\n",
       "      <th>std</th>\n",
       "      <td>0.0</td>\n",
       "      <td>111.463731</td>\n",
       "      <td>79.398446</td>\n",
       "      <td>84.895206</td>\n",
       "      <td>81.531764</td>\n",
       "      <td>84.419604</td>\n",
       "      <td>0.0</td>\n",
       "    </tr>\n",
       "    <tr>\n",
       "      <th>min</th>\n",
       "      <td>0.0</td>\n",
       "      <td>-150.000000</td>\n",
       "      <td>-300.000000</td>\n",
       "      <td>-200.000000</td>\n",
       "      <td>-240.000000</td>\n",
       "      <td>-218.000000</td>\n",
       "      <td>-100.0</td>\n",
       "    </tr>\n",
       "    <tr>\n",
       "      <th>25%</th>\n",
       "      <td>0.0</td>\n",
       "      <td>-45.500000</td>\n",
       "      <td>-143.750000</td>\n",
       "      <td>-84.500000</td>\n",
       "      <td>-95.000000</td>\n",
       "      <td>-111.125000</td>\n",
       "      <td>-100.0</td>\n",
       "    </tr>\n",
       "    <tr>\n",
       "      <th>50%</th>\n",
       "      <td>0.0</td>\n",
       "      <td>24.500000</td>\n",
       "      <td>-100.000000</td>\n",
       "      <td>-40.000000</td>\n",
       "      <td>-40.250000</td>\n",
       "      <td>-96.250000</td>\n",
       "      <td>-100.0</td>\n",
       "    </tr>\n",
       "    <tr>\n",
       "      <th>75%</th>\n",
       "      <td>0.0</td>\n",
       "      <td>130.000000</td>\n",
       "      <td>-55.875000</td>\n",
       "      <td>24.000000</td>\n",
       "      <td>7.500000</td>\n",
       "      <td>-30.000000</td>\n",
       "      <td>-100.0</td>\n",
       "    </tr>\n",
       "    <tr>\n",
       "      <th>max</th>\n",
       "      <td>0.0</td>\n",
       "      <td>310.000000</td>\n",
       "      <td>70.000000</td>\n",
       "      <td>190.000000</td>\n",
       "      <td>130.000000</td>\n",
       "      <td>215.000000</td>\n",
       "      <td>-100.0</td>\n",
       "    </tr>\n",
       "  </tbody>\n",
       "</table>\n",
       "</div>"
      ],
      "text/plain": [
       "       Multistep Instill VDP  OpenAI Structured API  Instructor      Marvin  \\\n",
       "count                   50.0              50.000000   50.000000   50.000000   \n",
       "mean                     0.0              46.430000  -99.710000  -21.770000   \n",
       "std                      0.0             111.463731   79.398446   84.895206   \n",
       "min                      0.0            -150.000000 -300.000000 -200.000000   \n",
       "25%                      0.0             -45.500000 -143.750000  -84.500000   \n",
       "50%                      0.0              24.500000 -100.000000  -40.000000   \n",
       "75%                      0.0             130.000000  -55.875000   24.000000   \n",
       "max                      0.0             310.000000   70.000000  190.000000   \n",
       "\n",
       "             BAML   LangChain  TypeChat  \n",
       "count   50.000000   50.000000      50.0  \n",
       "mean   -37.600000  -71.170000    -100.0  \n",
       "std     81.531764   84.419604       0.0  \n",
       "min   -240.000000 -218.000000    -100.0  \n",
       "25%    -95.000000 -111.125000    -100.0  \n",
       "50%    -40.250000  -96.250000    -100.0  \n",
       "75%      7.500000  -30.000000    -100.0  \n",
       "max    130.000000  215.000000    -100.0  "
      ]
     },
     "execution_count": 34,
     "metadata": {},
     "output_type": "execute_result"
    }
   ],
   "source": [
    "df.describe()"
   ]
  },
  {
   "cell_type": "markdown",
   "metadata": {},
   "source": [
    "### Visualise with a Box Plot"
   ]
  },
  {
   "cell_type": "code",
   "execution_count": 45,
   "metadata": {},
   "outputs": [
    {
     "data": {
      "image/png": "[encoded data removed]",
      "text/plain": [
       "<Figure size 640x480 with 1 Axes>"
      ]
     },
     "metadata": {},
     "output_type": "display_data"
    }
   ],
   "source": [
    "sns.set_style('whitegrid')\n",
    "sns.boxplot(data=df, orient='y', fill=True)\n",
    "plt.title('Structured Output Error by Tool')\n",
    "sns.despine()\n",
    "plt.xlabel('Calculation Error (in $)')\n",
    "plt.show()"
   ]
  },
  {
   "cell_type": "markdown",
   "metadata": {},
   "source": [
    "### Mean Absolute Error"
   ]
  },
  {
   "cell_type": "code",
   "execution_count": 36,
   "metadata": {},
   "outputs": [
    {
     "data": {
      "text/plain": [
       "Multistep Instill VDP      0.00\n",
       "OpenAI Structured API     93.93\n",
       "Instructor               109.61\n",
       "Marvin                    71.01\n",
       "BAML                      72.94\n",
       "LangChain                 97.23\n",
       "TypeChat                 100.00\n",
       "dtype: float64"
      ]
     },
     "execution_count": 36,
     "metadata": {},
     "output_type": "execute_result"
    }
   ],
   "source": [
    "df.abs().mean()"
   ]
  },
  {
   "cell_type": "markdown",
   "metadata": {},
   "source": [
    "### Chain-of-Thought Reasoning\n",
    "\n",
    "In the Structured Outputs in the API [release post](https://openai.com/index/introducing-structured-outputs-in-the-api/), OpenAI suggested that using reasoning chain-of-thought prompting via the data model/schema. In other words, defining a field in the schema called `reasoning_steps`, where the model is requested to share its reasoning, and then take the final calculated answer and place it in the `cost` field. The [`structured-output-reasoning-cot`](https://instill.tech/george_strong/pipelines/structured-output-reasoning-cot/playground) pipeline implements this and is demonstrated in the below cell. As can be observed, its performance still suffers in a similar manner to the standard [`structured-output`](https://instill.tech/george_strong/pipelines/structured-output/playground) pipeline.\n",
    "\n",
    "Interestingly, in the particular inference example shown below, even though the reasoning was correct, the model was still unable to correctly populate the `cost` field!"
   ]
  },
  {
   "cell_type": "code",
   "execution_count": 41,
   "metadata": {},
   "outputs": [
    {
     "data": {
      "text/plain": [
       "{'name': 'John Doe',\n",
       " 'reasoning_steps': ['John worked a total of 38 hours this week.',\n",
       "  'For the first 29 hours, he charges $50 per hour.',\n",
       "  'So, for 29 hours, the cost is 29 * $50 = $1450.',\n",
       "  'There are 38 - 29 = 9 additional hours worked.',\n",
       "  'For these additional hours, he charges 1.7 times his base rate.',\n",
       "  'His base rate is $50, so 1.7 times the base rate is 1.7 * $50 = $85.',\n",
       "  'For the 9 additional hours, the cost is 9 * $85 = $765.',\n",
       "  'Total cost is $1450 (for the first 29 hours) + $765 (for 9 additional hours) = $2215.'],\n",
       " 'email': 'john.doe@gmail.com',\n",
       " 'skills': ['Python', 'C++', 'Java'],\n",
       " 'experience': ['Software Engineer Intern at Google from May 2022 to August 2022',\n",
       "  'Software Engineer Intern at Facebook from May 2021 to August 2021'],\n",
       " 'cost': 2378.0}"
      ]
     },
     "execution_count": 41,
     "metadata": {},
     "output_type": "execute_result"
    }
   ],
   "source": [
    "openai_structured_reasoning_cot = client.pipeline_service.trigger_pipeline(\n",
    "    'structured-output-reasoning-cot', [],\n",
    "    [{\"context\": context,\n",
    "      \"question\": question}])\n",
    "\n",
    "openai_structured_reasoning_cot_dict = MessageToDict(openai_structured_reasoning_cot)['outputs'][0]['answer']\n",
    "openai_structured_reasoning_cot_dict"
   ]
  },
  {
   "cell_type": "markdown",
   "metadata": {},
   "source": []
  }
 ],
 "metadata": {
  "kernelspec": {
   "display_name": "dl",
   "language": "python",
   "name": "python3"
  },
  "language_info": {
   "codemirror_mode": {
    "name": "ipython",
    "version": 3
   },
   "file_extension": ".py",
   "mimetype": "text/x-python",
   "name": "python",
   "nbconvert_exporter": "python",
   "pygments_lexer": "ipython3",
   "version": "3.11.9"
  }
 },
 "nbformat": 4,
 "nbformat_minor": 2
}
