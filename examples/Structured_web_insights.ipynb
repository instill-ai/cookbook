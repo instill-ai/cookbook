{
 "cells": [
  {
   "cell_type": "markdown",
   "metadata": {},
   "source": [
    "<img src=\"https://raw.githubusercontent.com/instill-ai/cookbook/main/images/Logo.png\" alt=\"Instill Logo\" width=\"300\"/>"
   ]
  },
  {
   "cell_type": "markdown",
   "metadata": {},
   "source": [
    "# Curate Structured Insights from the Web with **Instill VDP** on **Instill Cloud**\n",
    "\n",
    "In this notebook we will demonstrate how to generate structured insights from the web using either a Google Search query, or simply specifying a URL. This content complements our tutorial: [\"Mastering OpenAI's Structured Outputs\"](https://www.instill.tech/blog/llm-structured-outputs2), where we provide a step-by-step guide for building an LLM-powered knowledge curation pipeline with **Instill VDP** on **Instill Cloud**, highlight best practices along the way.\n",
    "\n",
    "More specifically, we will be calling two pipelines in this notebook using our [Python SDK](https://www.instill.tech/docs/sdk/python):\n",
    "1. Full Pipeline: [structured-web-insights](https://instill.tech/instill-ai/pipelines/structured-web-insights/playground?_gl=1*2iag4q*_ga*MTg5MzI3MTUyNi4xNzI2MTQ4ODYy*_ga_GXVMFEHM50*MTcyNjIxMzI3MS4yLjEuMTcyNjIxMzc3Ni4wLjAuMA..) (requires your own Google API key, see setup docs)\n",
    "2. URL-only Version: [structured-website-summary](https://instill.tech/instill-ai/pipelines/structured-website-summary/playground?_gl=1*53h6zr*_ga*MTg5MzI3MTUyNi4xNzI2MTQ4ODYy*_ga_GXVMFEHM50*MTcyNjIxMzI3MS4yLjEuMTcyNjIxMzc3Ni4wLjAuMA..) (no Google search, input specific URL)\n",
    "\n",
    "We recommend that you first start by going through the [tutorial](https://www.instill.tech/blog/llm-structured-outputs2) - **see the video below** - which walks you through the steps required to build the pipeline that we will be calling in this notebook!"
   ]
  },
  {
   "cell_type": "code",
   "execution_count": 16,
   "metadata": {},
   "outputs": [
    {
     "data": {
      "image/jpeg": "[encoded data removed]",
      "text/html": [
       "\n",
       "        <iframe\n",
       "            width=\"1000\"\n",
       "            height=\"600\"\n",
       "            src=\"https://www.youtube.com/embed/x0XsmuCrit8\"\n",
       "            frameborder=\"0\"\n",
       "            allowfullscreen\n",
       "            \n",
       "        ></iframe>\n",
       "        "
      ],
      "text/plain": [
       "<IPython.lib.display.YouTubeVideo at 0x1162d6590>"
      ]
     },
     "execution_count": 16,
     "metadata": {},
     "output_type": "execute_result"
    }
   ],
   "source": [
    "from IPython.display import YouTubeVideo, IFrame\n",
    "\n",
    "YouTubeVideo('x0XsmuCrit8', width=1000, height=600)"
   ]
  },
  {
   "cell_type": "markdown",
   "metadata": {},
   "source": [
    "### Setup\n",
    "\n",
    "To execute all of the code in this notebook, you’ll need to create a free Instill Cloud account and setup an API Token. To create your account, please refer to our [quickstart guide](https://www.instill.tech/docs/quickstart). For generating your API Token, consult the [API Token Management](https://www.instill.tech/docs/core/token) page.\n",
    "\n",
    "**This will give you access to 10,000 free credits per month that you can use to make API calls with third-party AI vendors. Please see our [documentation](https://www.instill.tech/docs/cloud/credit) for further details.**"
   ]
  },
  {
   "cell_type": "markdown",
   "metadata": {},
   "source": [
    "We will now install the latest Instill Python SDK, import the required libraries, and configure the SDK with a valid API token."
   ]
  },
  {
   "cell_type": "code",
   "execution_count": 2,
   "metadata": {},
   "outputs": [],
   "source": [
    "!pip install instill-sdk==0.12.1 --quiet"
   ]
  },
  {
   "cell_type": "code",
   "execution_count": 3,
   "metadata": {},
   "outputs": [],
   "source": [
    "from instill.clients.client import init_pipeline_client\n",
    "from google.protobuf.json_format import MessageToDict\n",
    "from pprint import pprint\n",
    "\n",
    "import os"
   ]
  },
  {
   "cell_type": "code",
   "execution_count": 17,
   "metadata": {},
   "outputs": [
    {
     "data": {
      "text/html": [
       "\n",
       "        <iframe\n",
       "            width=\"1000\"\n",
       "            height=\"700\"\n",
       "            src=\"https://instill.tech/instill-ai/pipelines/structured-web-insights-from-url/preview\"\n",
       "            frameborder=\"0\"\n",
       "            allowfullscreen\n",
       "            \n",
       "        ></iframe>\n",
       "        "
      ],
      "text/plain": [
       "<IPython.lib.display.IFrame at 0x11634b990>"
      ]
     },
     "execution_count": 17,
     "metadata": {},
     "output_type": "execute_result"
    }
   ],
   "source": [
    "IFrame('https://instill.tech/instill-ai/pipelines/structured-web-insights-from-url/preview', width=1000, height=700)"
   ]
  },
  {
   "cell_type": "code",
   "execution_count": 5,
   "metadata": {},
   "outputs": [],
   "source": [
    "pipeline = init_pipeline_client(api_token=os.getenv('INSTILL_API_TOKEN'))\n",
    "\n",
    "response = pipeline.trigger_namespace_pipeline(\n",
    "    namespace_id=\"instill-ai\",\n",
    "    pipeline_id=\"structured-web-insights-from-url\",\n",
    "    data=[{\"query\": \"What is instill ai?\",\n",
    "           \"website-url\": \"https://www.bhf.org.uk/informationsupport/risk-factors\"}],\n",
    ")"
   ]
  },
  {
   "cell_type": "code",
   "execution_count": 7,
   "metadata": {},
   "outputs": [
    {
     "name": "stdout",
     "output_type": "stream",
     "text": [
      "{'author': 'Not specified',\n",
      " 'key_insights': ['High cholesterol and high blood pressure significantly '\n",
      "                  'increase the risk of heart diseases.',\n",
      "                  'Diabetes can damage blood vessels, leading to serious '\n",
      "                  'cardiovascular issues.',\n",
      "                  'Obesity, particularly central obesity, is a major health '\n",
      "                  'risk.',\n",
      "                  'Smoking nearly doubles the risk of heart attacks.',\n",
      "                  'Physical inactivity is detrimental to heart health.',\n",
      "                  'Family history can influence individual risk levels.',\n",
      "                  'Environmental factors like air pollution can adversely '\n",
      "                  'affect heart health.',\n",
      "                  'Stress and mental health conditions can lead to unhealthy '\n",
      "                  'lifestyle choices that increase risk.'],\n",
      " 'published_date': 'Not specified',\n",
      " 'source': 'British Heart Foundation (BHF)',\n",
      " 'summary': 'The content discusses various risk factors for heart and '\n",
      "            'circulatory diseases, including high cholesterol, high blood '\n",
      "            'pressure, diabetes, obesity, smoking, physical inactivity, family '\n",
      "            'history, air pollution, stress, and mental health. It emphasizes '\n",
      "            'the importance of understanding these risk factors to reduce the '\n",
      "            'likelihood of developing heart-related conditions.',\n",
      " 'tags': ['Heart disease',\n",
      "          'circulatory diseases',\n",
      "          'risk factors',\n",
      "          'cholesterol',\n",
      "          'blood pressure',\n",
      "          'diabetes',\n",
      "          'obesity',\n",
      "          'smoking',\n",
      "          'physical inactivity',\n",
      "          'family history',\n",
      "          'air pollution',\n",
      "          'stress',\n",
      "          'mental health',\n",
      "          \"women's health\"],\n",
      " 'title': 'Risk factors for heart and circulatory diseases',\n",
      " 'url': 'https://www.bhf.org.uk/informationsupport/risk-factors'}\n"
     ]
    }
   ],
   "source": [
    "response = MessageToDict(response)\n",
    "\n",
    "structured_output = response[\"outputs\"][0][\"structured-output\"]\n",
    "pprint(structured_output)"
   ]
  },
  {
   "cell_type": "code",
   "execution_count": 18,
   "metadata": {},
   "outputs": [],
   "source": [
    "from IPython.display import Markdown"
   ]
  },
  {
   "cell_type": "code",
   "execution_count": 19,
   "metadata": {},
   "outputs": [
    {
     "data": {
      "text/markdown": [
       "Risk factors for heart and circulatory diseases \\| BHF - BHF[Skip to main content](http://www.bhf.org.uk#main-content)\n",
       "\n",
       "[BHF home page](http://www.bhf.org.uk/)\n",
       "\n",
       "![Blood pressure being measured](http://www.bhf.org.uk/-/media/images/information-support/risk-factors/landing-page/hero-image-960x790.jpg?rev=40d3b51df9704edc8f43fbf1b24282ac&mh=790&la=en&h=790&w=960&mw=960&hash=49536284B452FE1AF3270FDED69B7F59)\n",
       "\n",
       "![High cholesterol test](http://www.bhf.org.uk/-/media/images/information-support/risk-factors/landing-page/high-cholesterol-570x380.jpg?rev=a89ded0c58834119a577aace12b6a76c&mh=380&la=en&h=380&w=570&mw=570&hash=9F3C814B55761ACE85A154DA5DBA44F7)\n",
       "\n",
       "## High cholesterol\n",
       "\n",
       "Cholesterol is a fatty substance in your blood. Too much of it can increase your risk of heart and circulatory diseases.\n",
       "\n",
       "[Learn more about high cholesterol](https://www.bhf.org.uk/informationsupport/risk-factors/high-cholesterol)\n",
       "\n",
       "![Patient getting their blood pressure checked](http://www.bhf.org.uk/-/media/images/information-support/risk-factors/landing-page/blood-pressure-570x380.png?rev=2d79bf1f786d4694ad06063b5666cdcb&mh=380&la=en&h=380&w=570&mw=570&hash=B8C49C1F7DE469403004688786E25AB9)\n",
       "\n",
       "## High blood pressure\n",
       "\n",
       "High blood pressure is also called hypertension. Knowing your blood pressure could save your life.\n",
       "\n",
       "[Understand high blood pressure](https://www.bhf.org.uk/informationsupport/risk-factors/high-blood-pressure)\n",
       "\n",
       "![Finger prick to measure blood glucose](http://www.bhf.org.uk/-/media/images/information-support/risk-factors/landing-page/diabetes-570x380.jpg?rev=2ba599037ac74c8e8e735d0f49ee594f&mh=380&la=en&h=380&w=570&mw=570&hash=3531A95CC2DCA2416C73A68A1B59E1B7)\n",
       "\n",
       "## Diabetes\n",
       "\n",
       "Diabetes can cause damage to your blood vessels. This can lead to a heart attack or a stroke.\n",
       "\n",
       "[Read more on diabetes](https://www.bhf.org.uk/informationsupport/risk-factors/diabetes)\n",
       "\n",
       "![Person standing on a weight scale](http://www.bhf.org.uk/-/media/images/information-support/risk-factors/landing-page/obesity-570x380.jpg?rev=63a8299a6f6d46a99e6435b1559d4320&mh=380&la=en&h=380&w=570&mw=570&hash=479E1F70319015EA2283AD21325B040D)\n",
       "\n",
       "## Obesity\n",
       "\n",
       "Being overweight can have a big impact on your health, especially if you carry weight around your middle.\n",
       "\n",
       "[Find out more about obesity](https://www.bhf.org.uk/informationsupport/risk-factors/your-weight-and-heart-disease)\n",
       "\n",
       "![Cigarettes in an ash tray](http://www.bhf.org.uk/-/media/images/information-support/risk-factors/landing-page/smoking-570x380.jpg?rev=f9196cda682b4a7e8798f436bd023924&mh=380&la=en&h=380&w=570&mw=570&hash=5E962F7C31AC66188BFB5AC55FEBD918)\n",
       "\n",
       "## Smoking\n",
       "\n",
       "Smokers are almost twice as likely to have a heart attack compared to people who have never smoked.\n",
       "\n",
       "[Learn more about smoking](https://www.bhf.org.uk/informationsupport/risk-factors/smoking)\n",
       "\n",
       "![Person sitting on a couch watching TV](http://www.bhf.org.uk/-/media/images/information-support/risk-factors/landing-page/physical-inactivity-570x380.jpg?rev=62ac7d1dabec47f8b2352d26a1bdcc08&mh=380&la=en&h=380&w=570&mw=570&hash=75957D7DFE67CCDAAC4B64C9EEC28C06)\n",
       "\n",
       "## Physical inactivity\n",
       "\n",
       "The heart is a muscle, and like any other muscle it needs physical activity to help it work properly.\n",
       "\n",
       "[Learn the risks of physical inactivity](https://www.bhf.org.uk/informationsupport/risk-factors/physical-inactivity)\n",
       "\n",
       "## More information\n",
       "\n",
       "### Our leaflets\n",
       "\n",
       "Order or download our information booklets about risk factors of heart and circulatory diseases, healthy eating and keeping your heart healthy.\n",
       "\n",
       "[Get leaflets](http://www.bhf.org.uk/informationsupport/publications)\n",
       "\n",
       "### Living with conditions\n",
       "\n",
       "We know it can be overwhelming if you're diagnosed with a heart or circulatory condition, but we're here to help. Read on to find out what support we can offer.\n",
       "\n",
       "[Browse conditions](http://www.bhf.org.uk/informationsupport/conditions)\n",
       "\n",
       "### Risk factor research\n",
       "\n",
       "We fund research into risk factors because if we can reduce or prevent them, fewer people may be affected by heart and circulatory diseases.\n",
       "\n",
       "[Our research](http://www.bhf.org.uk/what-we-do/our-research/risk-factor-research)\n",
       "\n",
       "![Multi-generational family](http://www.bhf.org.uk/-/media/images/information-support/risk-factors/landing-page/family-history-570x380.jpg?rev=5fcaa80f94bd4aff91dbcae89e2eaa9f&mh=380&la=en&h=380&w=570&mw=570&hash=1643C151ED4E55833D5AD817848E845F)\n",
       "\n",
       "## [Family history](http://www.bhf.org.uk/informationsupport/risk-factors/family-history)\n",
       "\n",
       "Heart and circulatory diseases can run in families - increasing your risk of developing that disease.\n",
       "\n",
       "[Learn more about family history](http://www.bhf.org.uk/informationsupport/risk-factors/family-history)\n",
       "\n",
       "![Air pollution over London skyline](http://www.bhf.org.uk/-/media/images/information-support/risk-factors/landing-page/air-pollution-570x380.jpg?rev=e3de9af7f3b64ed39fc430c2a3ee1521&mh=380&la=en&h=380&w=570&mw=570&hash=E3C46609A1DAA10CA048882F103CFEA1)\n",
       "\n",
       "## [Air pollution](http://www.bhf.org.uk/informationsupport/risk-factors/air-pollution)\n",
       "\n",
       "Air pollution is harmful to your heart and circulation. You can take some steps to help lower your risk.\n",
       "\n",
       "[Find out more about air pollution](http://www.bhf.org.uk/informationsupport/risk-factors/air-pollution)\n",
       "\n",
       "![Stressed person breaking pencil in half](http://www.bhf.org.uk/-/media/images/information-support/risk-factors/landing-page/stress-570x380.jpg?rev=48dda0717aa14d3880959e8e4a76557e&mh=380&la=en&h=380&w=570&mw=570&hash=8E64DE5742FDE92FEB33CD5F2A0A0A60)\n",
       "\n",
       "## [Stress](http://www.bhf.org.uk/informationsupport/risk-factors/stress)\n",
       "\n",
       "Stress is not a direct risk factor for heart and circulatory diseases, but it is linked to unhealthy habits that can increase your risk.\n",
       "\n",
       "[Read more about stress](http://www.bhf.org.uk/informationsupport/risk-factors/stress)\n",
       "\n",
       "![Woman relaxing by the water](http://www.bhf.org.uk/-/media/images/information-support/risk-factors/landing-page/mental-health-2-570x380.jpg?rev=21bb56e6e69e48b0bd95ce1f716ff93e&mh=380&la=en&h=380&w=570&mw=570&hash=5BAD3213685ECF187AE2D2F0B4A97C89)\n",
       "\n",
       "## [Mental Health](http://www.bhf.org.uk/informationsupport/risk-factors/mental-health)\n",
       "\n",
       "Having a mental health condition can affect your risk of developing heart and circulatory diseases. A healthier lifestyle can help your body and mind.\n",
       "\n",
       "[Learn more about mental health](http://www.bhf.org.uk/informationsupport/risk-factors/mental-health)\n",
       "\n",
       "![A group of women having a laugh](http://www.bhf.org.uk/-/media/images/information-support/risk-factors/women/women-and-heart-disease-570x380.jpg?rev=0201786509f041f1abbbcc2017586258&mh=380&la=en&h=380&w=570&mw=570&hash=D632EBF471697909A2D84EED1479B0E3)\n",
       "\n",
       "## [Women and heart disease](http://www.bhf.org.uk/informationsupport/support/women-with-a-heart-condition/women-and-heart-disease)\n",
       "\n",
       "The misconception that heart disease is a man's issue is costing women their health and lives.\n",
       "\n",
       "[Learn more about heart disease in women](http://www.bhf.org.uk/informationsupport/support/women-with-a-heart-condition/women-and-heart-disease)\n",
       "\n",
       "![Pregnant woman in a pink shirt holding her belly](http://www.bhf.org.uk/-/media/images/information-support/risk-factors/women/reproductive-factors-in-women-570x380.jpg?rev=1baf38b334a3445ead96f0a1493acc0e&mh=380&la=en&h=380&w=570&mw=570&hash=6D0C42C328C306C2892C8DCEF4CDC0EA)\n",
       "\n",
       "## [Reproductive factors in women](http://www.bhf.org.uk/what-we-do/news-from-the-bhf/news-archive/2023/february/reproductive-factors-in-women-increase-cardiovascular-risk)\n",
       "\n",
       "Certain reproductive factors increase the risk of heart and circulatory diseases in women.\n",
       "\n",
       "[Find out what the research says](http://www.bhf.org.uk/what-we-do/news-from-the-bhf/news-archive/2023/february/reproductive-factors-in-women-increase-cardiovascular-risk)"
      ],
      "text/plain": [
       "<IPython.core.display.Markdown object>"
      ]
     },
     "metadata": {},
     "output_type": "display_data"
    }
   ],
   "source": [
    "display(Markdown(response[\"outputs\"][0][\"scraped-content\"]))"
   ]
  },
  {
   "cell_type": "code",
   "execution_count": null,
   "metadata": {},
   "outputs": [],
   "source": []
  }
 ],
 "metadata": {
  "kernelspec": {
   "display_name": "dl",
   "language": "python",
   "name": "python3"
  },
  "language_info": {
   "codemirror_mode": {
    "name": "ipython",
    "version": 3
   },
   "file_extension": ".py",
   "mimetype": "text/x-python",
   "name": "python",
   "nbconvert_exporter": "python",
   "pygments_lexer": "ipython3",
   "version": "3.11.9"
  }
 },
 "nbformat": 4,
 "nbformat_minor": 2
}
