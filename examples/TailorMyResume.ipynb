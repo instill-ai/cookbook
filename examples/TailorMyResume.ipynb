{
 "cells": [
  {
   "cell_type": "markdown",
   "metadata": {},
   "source": [
    "<img src=\"https://raw.githubusercontent.com/instill-ai/cookbook/main/images/Logo.png\" alt=\"Instill Logo\" width=\"300\"/>"
   ]
  },
  {
   "cell_type": "markdown",
   "metadata": {},
   "source": [
    "# Tailor My Resume"
   ]
  },
  {
   "cell_type": "markdown",
   "metadata": {},
   "source": [
    "TailorMyResume is a powerful tool designed to help job seekers optimize their resumes based on specific job descriptions. Users can upload their resumes and job descriptions in PDF format, and the app provides actionable feedback to enhance alignment with the desired role."
   ]
  },
  {
   "cell_type": "markdown",
   "metadata": {},
   "source": [
    "### Key Features:\n",
    "\n",
    "- PDF to Text Conversion: Utilizes TASK\\_CONVERT\\_TO\\_TEXT to extract text content from uploaded resume PDF files.\n",
    "- Text Cleaning: Powered by OpenAI's gpt-4o model for cleaning and standardizing the resume text.\n",
    "- Skill Matching: Compares the cleaned resume against the provided job description, identifying key skills and areas for improvement.\n",
    "- Resume Evaluation: Provides a detailed evaluation report, including a suitability score (0-100) and feedback on strengths and areas for improvement based on the job description."
   ]
  },
  {
   "cell_type": "markdown",
   "metadata": {},
   "source": [
    "### Inputs\n",
    "- Resume PDF File: Upload the candidate's resume in PDF format.\n",
    "- Job Description: Paste the job description for comparison and evaluation.\n",
    "\n",
    "### Outputs:\n",
    "- Rate - Score from 0 to 100 indicating the suitability of the resume for the job description.\n",
    "- Skill Matching: Key skills matched between the resume and job description.\n",
    "- Resume Evaluation: Comprehensive feedback with a suitability score and suggestions for improvement."
   ]
  },
  {
   "cell_type": "markdown",
   "metadata": {},
   "source": [
    "## Step-by-Step Jupyter Notebook Setup:"
   ]
  },
  {
   "cell_type": "markdown",
   "metadata": {},
   "source": [
    "**01. Install Required Libraries**\n",
    "\n",
    "First, ensure that you have all the necessary libraries installed. You can run the following cell in your notebook:"
   ]
  },
  {
   "cell_type": "code",
   "execution_count": 14,
   "metadata": {},
   "outputs": [
    {
     "name": "stdout",
     "output_type": "stream",
     "text": [
      "Requirement already satisfied: requests in c:\\users\\manul\\appdata\\local\\programs\\python\\python312\\lib\\site-packages (2.31.0)\n",
      "Requirement already satisfied: charset-normalizer<4,>=2 in c:\\users\\manul\\appdata\\local\\programs\\python\\python312\\lib\\site-packages (from requests) (3.3.2)\n",
      "Requirement already satisfied: idna<4,>=2.5 in c:\\users\\manul\\appdata\\local\\programs\\python\\python312\\lib\\site-packages (from requests) (3.6)\n",
      "Requirement already satisfied: urllib3<3,>=1.21.1 in c:\\users\\manul\\appdata\\local\\programs\\python\\python312\\lib\\site-packages (from requests) (2.1.0)\n",
      "Requirement already satisfied: certifi>=2017.4.17 in c:\\users\\manul\\appdata\\local\\programs\\python\\python312\\lib\\site-packages (from requests) (2023.11.17)\n",
      "Requirement already satisfied: python-dotenv in c:\\users\\manul\\appdata\\local\\programs\\python\\python312\\lib\\site-packages (1.0.1)\n",
      "Requirement already satisfied: matplotlib in c:\\users\\manul\\appdata\\local\\programs\\python\\python312\\lib\\site-packages (3.9.2)\n",
      "Requirement already satisfied: contourpy>=1.0.1 in c:\\users\\manul\\appdata\\local\\programs\\python\\python312\\lib\\site-packages (from matplotlib) (1.3.0)\n",
      "Requirement already satisfied: cycler>=0.10 in c:\\users\\manul\\appdata\\local\\programs\\python\\python312\\lib\\site-packages (from matplotlib) (0.12.1)\n",
      "Requirement already satisfied: fonttools>=4.22.0 in c:\\users\\manul\\appdata\\local\\programs\\python\\python312\\lib\\site-packages (from matplotlib) (4.54.1)\n",
      "Requirement already satisfied: kiwisolver>=1.3.1 in c:\\users\\manul\\appdata\\local\\programs\\python\\python312\\lib\\site-packages (from matplotlib) (1.4.7)\n",
      "Requirement already satisfied: numpy>=1.23 in c:\\users\\manul\\appdata\\local\\programs\\python\\python312\\lib\\site-packages (from matplotlib) (1.26.4)\n",
      "Requirement already satisfied: packaging>=20.0 in c:\\users\\manul\\appdata\\local\\programs\\python\\python312\\lib\\site-packages (from matplotlib) (23.2)\n",
      "Requirement already satisfied: pillow>=8 in c:\\users\\manul\\appdata\\local\\programs\\python\\python312\\lib\\site-packages (from matplotlib) (10.2.0)\n",
      "Requirement already satisfied: pyparsing>=2.3.1 in c:\\users\\manul\\appdata\\local\\programs\\python\\python312\\lib\\site-packages (from matplotlib) (3.1.4)\n",
      "Requirement already satisfied: python-dateutil>=2.7 in c:\\users\\manul\\appdata\\local\\programs\\python\\python312\\lib\\site-packages (from matplotlib) (2.8.2)\n",
      "Requirement already satisfied: six>=1.5 in c:\\users\\manul\\appdata\\local\\programs\\python\\python312\\lib\\site-packages (from python-dateutil>=2.7->matplotlib) (1.16.0)\n"
     ]
    }
   ],
   "source": [
    "!pip install requests\n",
    "!pip install python-dotenv\n",
    "!pip install matplotlib"
   ]
  },
  {
   "cell_type": "markdown",
   "metadata": {},
   "source": [
    "**02. Setting Up Environment Variables** \n",
    "\n",
    "Since you need to set the INSTILL_API_TOKEN, you can create a .env file to store the API key securely, and then load it in the notebook.\n",
    "\n",
    "Example .env file:\n",
    "```plaintext\n",
    "INSTILL_API_TOKEN=********\n",
    "```"
   ]
  },
  {
   "cell_type": "code",
   "execution_count": 15,
   "metadata": {},
   "outputs": [],
   "source": [
    "import base64\n",
    "import json\n",
    "import requests\n",
    "# Load environment variables from .env file\n",
    "from dotenv import load_dotenv\n",
    "import os\n",
    "\n",
    "# Ensure the .env file is in the same directory as this notebook\n",
    "load_dotenv()\n",
    "\n",
    "INSTILL_API_TOKEN = os.getenv(\"INSTILL_API_TOKEN\")"
   ]
  },
  {
   "cell_type": "markdown",
   "metadata": {},
   "source": [
    "**03. Define Helper Functions to Interact with the API**\n",
    "\n",
    "You can write helper functions that will handle the file upload and API interaction. Here's an example:"
   ]
  },
  {
   "cell_type": "code",
   "execution_count": 16,
   "metadata": {},
   "outputs": [],
   "source": [
    "def submit_resume_to_api(resume_file_path, job_description):\n",
    "    # API endpoint\n",
    "    url = \"https://api.instill.tech/v1beta/users/manulthanura/pipelines/tailormyresume/trigger\"\n",
    "\n",
    "    # Headers for authorization\n",
    "    headers = {\n",
    "        \"Content-Type\": \"application/json\",\n",
    "        \"Authorization\": f\"Bearer {INSTILL_API_TOKEN}\"\n",
    "    }\n",
    "\n",
    "    # Load the resume file content and encode it as base64\n",
    "    with open(resume_file_path, 'rb') as file:\n",
    "        resume_content = base64.b64encode(file.read()).decode('utf-8')\n",
    "\n",
    "    # Payload to send to the API\n",
    "    data = {\n",
    "        \"inputs\": [\n",
    "            {\n",
    "                \"job_description\": job_description,\n",
    "                \"resume_pdf_file\": resume_content\n",
    "            }\n",
    "        ]\n",
    "    }\n",
    "\n",
    "    # Sending the POST request to the API\n",
    "    response = requests.post(url, headers=headers, json=data)\n",
    "\n",
    "    if response.status_code == 200:\n",
    "        return response.json()\n",
    "    else:\n",
    "        print(f\"Error: {response.status_code}, {response.text}\")\n",
    "        return None\n"
   ]
  },
  {
   "cell_type": "markdown",
   "metadata": {},
   "source": [
    "**04. Run a Test Submission**\n",
    "\n",
    "Now you can create a test cell in your notebook that will upload a resume file and display the results."
   ]
  },
  {
   "cell_type": "code",
   "execution_count": 17,
   "metadata": {},
   "outputs": [
    {
     "name": "stdout",
     "output_type": "stream",
     "text": [
      "{'outputs': [{'resume_evaluation': '{\\n  \"Resume Rating\": 85,\\n  \"Total Skills\": 7,\\n  \"Experience\": 1,\\n  \"Rejection Probability\": 15,\\n  \"Areas Meeting Requirements\": [\\n    \"The candidate has a bachelor\\'s degree in computer science, which meets the educational requirement. They have relevant experience as a DevOps Engineer, where they created workflows for source code management, developed CI/CD methodologies, and designed disaster recovery solutions. The candidate is proficient in Python, which aligns with the job\\'s requirement for knowledge of Ruby or Python. Additionally, they have experience in automation and improving development processes.\"\\n  ],\\n  \"Areas for Improvement\": [\\n    \"The candidate lacks specific experience with Ruby, Git, and GitHub workflows, which are preferred skills in the job description. They also have limited experience (1 year) in a DevOps role, which may not fully meet the expectations for a more seasoned candidate. Gaining experience in project management and collaborating with software developers on larger projects could enhance their profile.\"\\n  ]\\n}'}], 'metadata': {'traces': {'evaluation': {'statuses': ['STATUS_COMPLETED'], 'inputs': [{}], 'outputs': [{}], 'error': {'message': ''}, 'computeTimeInSeconds': 0}, 'pdf-to-text': {'statuses': ['STATUS_COMPLETED'], 'inputs': [{}], 'outputs': [{}], 'error': {'message': ''}, 'computeTimeInSeconds': 0}}}}\n"
     ]
    }
   ],
   "source": [
    "resume_path = \"../data/resume.pdf\"  # Update with your actual resume file path\n",
    "job_description = '''\n",
    "At [Company X], customer experience is at the forefront of everything we do. To help us build functional systems that improve the customer experience, we’re looking for a DevOps engineer who can be responsible for deploying product updates, identifying production issues, and implementing integrations that meet our customers’ needs. The ideal candidate will have a solid background in software engineering and be familiar with Ruby or Python, and will work with developers and engineers to ensure that software development follows established processes and works as intended. The DevOps engineer will also help plan projects and be involved in project management decisions.\n",
    "\n",
    "Objectives of this role\n",
    "Building and implementing new development tools and infrastructure\n",
    "Understanding the needs of stakeholders and conveying them to developers\n",
    "Working on ways to automate and improve development and release processes\n",
    "Testing and examining code written by others and analyzing results\n",
    "Ensuring that systems are safe and secure against cybersecurity threats\n",
    "Identifying technical problems and developing software updates and fixes\n",
    "Working with software developers and software engineers to ensure that development follows established processes and works as intended\n",
    "Planning projects and being involved in project management decisions\n",
    "Responsibilities\n",
    "Deploy updates and fixes, and provide Level 2 technical support\n",
    "Build tools to reduce occurrence of errors and improve customer experience\n",
    "Develop software to integrate with internal back-end systems\n",
    "Perform root cause analysis of production errors and resolve technical issues\n",
    "Develop scripts to automate visualization\n",
    "Design procedures for system troubleshooting and maintenance\n",
    "Required skills and qualifications\n",
    "Experience as a DevOps engineer or in a similar software engineering role\n",
    "Proficiency with Git and GitHub workflows\n",
    "Good knowledge of Ruby or Python\n",
    "Working knowledge of databases and SQL\n",
    "Problem-solving attitude\n",
    "Collaborative team spirit\n",
    "Preferred skills and qualifications\n",
    "Bachelor of science degree (or equivalent) in computer science, engineering, or relevant field\n",
    "Experience in civil engineering or customer experience\n",
    "Experience in developing/engineering applications for a large company\n",
    "'''\n",
    "\n",
    "# Submit the resume and job description to the API\n",
    "result = submit_resume_to_api(resume_path, job_description)\n",
    "\n",
    "# Check the response\n",
    "if result:\n",
    "    print(result)"
   ]
  },
  {
   "cell_type": "markdown",
   "metadata": {},
   "source": [
    "**05. Display the Results**\n",
    "\n",
    "Assuming the API response is in JSON format, you can extract and display the relevant data, such as areas meeting requirements and areas for improvement."
   ]
  },
  {
   "cell_type": "code",
   "execution_count": 18,
   "metadata": {},
   "outputs": [
    {
     "name": "stdout",
     "output_type": "stream",
     "text": [
      "\n",
      "Areas Meeting Requirements:\n",
      "The candidate has a bachelor's degree in computer science, which meets the educational requirement. They have relevant experience as a DevOps Engineer, where they created workflows for source code management, developed CI/CD methodologies, and designed disaster recovery solutions. The candidate is proficient in Python, which aligns with the job's requirement for knowledge of Ruby or Python. Additionally, they have experience in automation and improving development processes.\n",
      "\n",
      "Areas for Improvement:\n",
      "The candidate lacks specific experience with Ruby, Git, and GitHub workflows, which are preferred skills in the job description. They also have limited experience (1 year) in a DevOps role, which may not fully meet the expectations for a more seasoned candidate. Gaining experience in project management and collaborating with software developers on larger projects could enhance their profile.\n"
     ]
    }
   ],
   "source": [
    "# Assuming the API response contains the 'resume_evaluation' as a string\n",
    "resume_evaluation_str = result['outputs'][0]['resume_evaluation']\n",
    "\n",
    "# Convert the string to a dictionary\n",
    "evaluation = json.loads(resume_evaluation_str)\n",
    "\n",
    "# Now you can safely use .get() to extract data\n",
    "areas_meeting_requirements = evaluation.get(\"Areas Meeting Requirements\", [])\n",
    "areas_for_improvement = evaluation.get(\"Areas for Improvement\", [])\n",
    "\n",
    "# Print results\n",
    "print(\"\\nAreas Meeting Requirements:\")\n",
    "for area in areas_meeting_requirements:\n",
    "    print(area)\n",
    "\n",
    "print(\"\\nAreas for Improvement:\")\n",
    "for area in areas_for_improvement:\n",
    "    print(area)"
   ]
  },
  {
   "cell_type": "markdown",
   "metadata": {},
   "source": [
    "**06. Add Cells for Visualization**\n",
    "\n",
    "If you want to visualize some of the metrics like \"Resume Rating\" or \"Rejection Probability,\" you can use libraries like matplotlib or seaborn:"
   ]
  },
  {
   "cell_type": "code",
   "execution_count": 19,
   "metadata": {},
   "outputs": [
    {
     "data": {
      "image/png": "[encoded data removed]",
      "text/plain": [
       "<Figure size 640x480 with 1 Axes>"
      ]
     },
     "metadata": {},
     "output_type": "display_data"
    },
    {
     "name": "stdout",
     "output_type": "stream",
     "text": [
      "\n",
      "Areas Meeting Requirements:\n",
      "- The candidate has a strong foundation in programming languages such as Python, Java, and PHP, which are essential for DevOps roles.\n",
      "\n",
      "Areas for Improvement:\n",
      "- Further exposure to continuous integration and continuous deployment (CI/CD) processes would enhance their profile.\n"
     ]
    }
   ],
   "source": [
    "import matplotlib.pyplot as plt\n",
    "\n",
    "# Function to plot the resume rating\n",
    "def plot_resume_rating(rating):\n",
    "    fig, ax = plt.subplots()\n",
    "    ax.barh([\"Resume Rating\"], [rating], color=\"blue\")\n",
    "    ax.set_xlim(0, 100)\n",
    "    ax.set_xlabel(\"Rating\")\n",
    "    ax.set_title(\"Resume Rating\")\n",
    "    plt.show()\n",
    "\n",
    "# Simulate getting the API result (you can replace this with the actual API response handling)\n",
    "result = {\n",
    "    'outputs': [{'resume_evaluation': '{\\n  \"Resume Rating\": 75,\\n  \"Total Skills\": 15,\\n  \"Experience\": 1,\\n  \"Rejection Probability\": 25,\\n  \"Areas Meeting Requirements\": [\"The candidate has a strong foundation in programming languages such as Python, Java, and PHP, which are essential for DevOps roles.\"],\\n  \"Areas for Improvement\": [\"Further exposure to continuous integration and continuous deployment (CI/CD) processes would enhance their profile.\"]\\n}'}]\n",
    "}\n",
    "\n",
    "# Check if result is valid\n",
    "if result:\n",
    "    # Parse the JSON string into a dictionary\n",
    "    evaluation = json.loads(result['outputs'][0]['resume_evaluation'])\n",
    "\n",
    "    # Now you can access the fields in the dictionary\n",
    "    resume_rating = evaluation.get(\"Resume Rating\", 0)\n",
    "    plot_resume_rating(resume_rating)\n",
    "    \n",
    "    areas_meeting_requirements = evaluation.get(\"Areas Meeting Requirements\", [])\n",
    "    areas_for_improvement = evaluation.get(\"Areas for Improvement\", [])\n",
    "    \n",
    "    # Display the results\n",
    "    print(\"\\nAreas Meeting Requirements:\")\n",
    "    for area in areas_meeting_requirements:\n",
    "        print(f\"- {area}\")\n",
    "    \n",
    "    print(\"\\nAreas for Improvement:\")\n",
    "    for area in areas_for_improvement:\n",
    "        print(f\"- {area}\")\n"
   ]
  },
  {
   "cell_type": "markdown",
   "metadata": {},
   "source": [
    "# Thank You\n",
    "\n",
    "I hope you find this guide helpful. Please try out the [TailorMyResume](https://github.com/manulthanura/TailorMyResume) pipeline and let me know your feedback. Don't forget to check out the [Instill AI](https://www.instill.tech/) make your AI journey more exciting."
   ]
  }
 ],
 "metadata": {
  "kernelspec": {
   "display_name": "Python 3 (ipykernel)",
   "language": "python",
   "name": "python3"
  },
  "language_info": {
   "codemirror_mode": {
    "name": "ipython",
    "version": 3
   },
   "file_extension": ".py",
   "mimetype": "text/x-python",
   "name": "python",
   "nbconvert_exporter": "python",
   "pygments_lexer": "ipython3",
   "version": "3.12.3"
  }
 },
 "nbformat": 4,
 "nbformat_minor": 4
}
