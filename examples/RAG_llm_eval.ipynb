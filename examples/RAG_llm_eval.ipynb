{
 "cells": [
  {
   "cell_type": "markdown",
   "metadata": {},
   "source": [
    "<img src=\"https://raw.githubusercontent.com/instill-ai/cookbook/main/images/Logo.png\" alt=\"Instill Logo\" width=\"300\"/>"
   ]
  },
  {
   "cell_type": "markdown",
   "metadata": {},
   "source": [
    "# RAG with LLM-Based Evaluation Metrics\n",
    "\n",
    "This notebook demonstrates how to perform Retrieval Augmented Generation (RAG) with Auto-Evaluation using LLM-based Metrics.\n",
    "\n",
    "The metrics we will consider are:\n",
    "1. **Context precision**: How well the retrieved context aligns with the user query\n",
    "2. **Answer relevancy**: How effectively the response addresses the user query\n",
    "3. **Faithfulness**: How accurately the generated response reflects the retrieved documents\n",
    "\n",
    "Whilst these metrics are not exhaustive, they are a good starting point for evaluating the quality of a RAG system.\n",
    "\n",
    "It's worth noting that more comprehensive metrics typically require a ground truth dataset to compare the generated responses against. Ground truth datasets are expensive to create and are often unavailable during initial prototyping. They can also often be of limited value in practice as you may not know what questions users or stakeholders will ask today, let alone in the future. Additionally, the transient nature of certain types of data sources further undermines the usefulness of a fixed ground truth dataset.\n",
    "\n",
    "For these reasons, we will focus on using LLM-based metrics that can be computed on-the-fly during the RAG pipeline execution."
   ]
  },
  {
   "cell_type": "markdown",
   "metadata": {},
   "source": [
    "### Setup\n",
    "\n",
    "To execute all of the code in this notebook, you’ll need to create a free Instill Cloud account and setup an API Token. To create your account, please refer to our [quickstart guide](https://www.instill.tech/docs/quickstart). For generating your API Token, consult the [API Token Management](https://www.instill.tech/docs/core/token) page.\n",
    "\n",
    "**This will give you access to 10,000 free credits per month that you can use to make API calls with third-party AI vendors. Please see our [documentation](https://www.instill.tech/docs/cloud/credit) for further details.**"
   ]
  },
  {
   "cell_type": "markdown",
   "metadata": {},
   "source": [
    "We will now install the latest Instill Python SDK, import the required libraries, and configure the SDK with a valid API token."
   ]
  },
  {
   "cell_type": "code",
   "execution_count": 1,
   "metadata": {},
   "outputs": [],
   "source": [
    "!pip install instill-sdk==0.15.1 --quiet"
   ]
  },
  {
   "cell_type": "markdown",
   "metadata": {},
   "source": [
    "### Create a Knowledge Base 📚\n",
    "\n",
    "We will first create a Knowledge Base using Instill Artifact to convert, chunk and embed the [*Finance and Prosperity 2024 report by World Bank*](https://openknowledge.worldbank.org/server/api/core/bitstreams/06f02e01-b4d1-4bb5-8a6c-0199d51cf84c/content)."
   ]
  },
  {
   "cell_type": "code",
   "execution_count": 2,
   "metadata": {},
   "outputs": [],
   "source": [
    "from instill.clients import init_core_client\n",
    "import requests\n",
    "from google.protobuf.json_format import MessageToDict\n",
    "from concurrent.futures import ThreadPoolExecutor, as_completed\n",
    "from tqdm import tqdm\n",
    "import pandas as pd\n",
    "import seaborn as sns\n",
    "import matplotlib.pyplot as plt\n",
    "import numpy as np\n",
    "\n",
    "core = init_core_client(api_token=\"YOUR_INSTILL_API_TOKEN\")"
   ]
  },
  {
   "cell_type": "markdown",
   "metadata": {},
   "source": [
    "First, we will create an empty catalog which will serve as our knowledge base."
   ]
  },
  {
   "cell_type": "code",
   "execution_count": 3,
   "metadata": {},
   "outputs": [],
   "source": [
    "artifact = core.artifact\n",
    "\n",
    "namespace_id = \"YOUR_NAMESPACE_ID\"\n",
    "catalog_id = \"finance-report\""
   ]
  },
  {
   "cell_type": "code",
   "execution_count": 5,
   "metadata": {},
   "outputs": [
    {
     "data": {
      "text/plain": [
       "catalog {\n",
       "  catalog_id: \"finance_report\"\n",
       "  name: \"finance_report\"\n",
       "  description: \"Finance and Prosperity 2024 report by World Bank\"\n",
       "  create_time: \"2024-12-12 12:28:29.517675 +0000 UTC\"\n",
       "  update_time: \"2024-12-12 12:28:29.554472358 +0000 UTC\"\n",
       "  owner_name: \"a7219ce0-4c6c-4dd5-8ac5-1fbf87aedd4a\"\n",
       "  tags: \"world-bank\"\n",
       "  tags: \"finance\"\n",
       "  tags: \"prosperity\"\n",
       "  converting_pipelines: \"preset/indexing-convert-pdf\"\n",
       "  splitting_pipelines: \"preset/indexing-split-text\"\n",
       "  splitting_pipelines: \"preset/indexing-split-markdown\"\n",
       "  embedding_pipelines: \"preset/indexing-embed\"\n",
       "}"
      ]
     },
     "execution_count": 5,
     "metadata": {},
     "output_type": "execute_result"
    }
   ],
   "source": [
    "artifact.create_catalog(\n",
    "    namespace_id=namespace_id,\n",
    "    name=catalog_id,\n",
    "    description=\"Finance and Prosperity 2024 report by World Bank\",\n",
    "    tags=[\"world-bank\", \"finance\", \"prosperity\"],\n",
    ")"
   ]
  },
  {
   "cell_type": "markdown",
   "metadata": {},
   "source": [
    "We will now obtain and save the report as a PDF document to our working directory."
   ]
  },
  {
   "cell_type": "code",
   "execution_count": 7,
   "metadata": {},
   "outputs": [],
   "source": [
    "report = \"https://openknowledge.worldbank.org/server/api/core/bitstreams/06f02e01-b4d1-4bb5-8a6c-0199d51cf84c/content\"\n",
    "\n",
    "response = requests.get(report)\n",
    "\n",
    "with open(\"F&P2024_Full Report.pdf\", \"wb\") as file:\n",
    "    file.write(response.content)"
   ]
  },
  {
   "cell_type": "markdown",
   "metadata": {},
   "source": [
    "Now we can [upload](https://www.instill.tech/docs/artifact/upload-files) the file to the catalog and [process](https://www.instill.tech/docs/artifact/process-files) it. Under the hood, the file is converted into high-quality Markdown-formatted text, split into smaller chunks, and converted into embedding vectors which are stored in a vector database for efficient search and retrieval."
   ]
  },
  {
   "cell_type": "code",
   "execution_count": 9,
   "metadata": {},
   "outputs": [
    {
     "data": {
      "text/plain": [
       "files {\n",
       "  file_uid: \"1cc5713f-72b3-4c48-975b-a715d3abb628\"\n",
       "  name: \"F&P2024_Full Report.pdf\"\n",
       "  type: FILE_TYPE_PDF\n",
       "  process_status: FILE_PROCESS_STATUS_WAITING\n",
       "  owner_uid: \"a7219ce0-4c6c-4dd5-8ac5-1fbf87aedd4a\"\n",
       "  creator_uid: \"a7219ce0-4c6c-4dd5-8ac5-1fbf87aedd4a\"\n",
       "  catalog_uid: \"b0edc140-9c70-4e22-8b6a-fe9ff68cb1bf\"\n",
       "  create_time {\n",
       "    seconds: 1734006553\n",
       "    nanos: 337544000\n",
       "  }\n",
       "  update_time {\n",
       "    seconds: 1734006553\n",
       "    nanos: 654273000\n",
       "  }\n",
       "}"
      ]
     },
     "execution_count": 9,
     "metadata": {},
     "output_type": "execute_result"
    }
   ],
   "source": [
    "upload_response = artifact.upload_catalog_file(\n",
    "    namespace_id=namespace_id,\n",
    "    catalog_id=catalog_id,\n",
    "    file_path=\"F&P2024_Full Report.pdf\",\n",
    ")\n",
    "\n",
    "artifact.process_catalog_files(file_uids=[upload_response.file.file_uid])"
   ]
  },
  {
   "cell_type": "markdown",
   "metadata": {},
   "source": [
    "We can observe the status of the files processing by checking `process_status` with the [List Files](https://www.instill.tech/docs/artifact/file#list-files-via-api) API:"
   ]
  },
  {
   "cell_type": "code",
   "execution_count": 11,
   "metadata": {},
   "outputs": [
    {
     "data": {
      "text/plain": [
       "files {\n",
       "  file_uid: \"dea4b4d7-1703-4f44-9842-006b2dcc6676\"\n",
       "  name: \"F&P2024_Full Report.pdf\"\n",
       "  type: FILE_TYPE_PDF\n",
       "  process_status: FILE_PROCESS_STATUS_COMPLETED\n",
       "  owner_uid: \"a7219ce0-4c6c-4dd5-8ac5-1fbf87aedd4a\"\n",
       "  creator_uid: \"a7219ce0-4c6c-4dd5-8ac5-1fbf87aedd4a\"\n",
       "  catalog_uid: \"1e0b43ce-703b-4a3a-90a1-438a3087c7ad\"\n",
       "  create_time {\n",
       "    seconds: 1733775979\n",
       "    nanos: 821797000\n",
       "  }\n",
       "  update_time {\n",
       "    seconds: 1733776651\n",
       "    nanos: 666709000\n",
       "  }\n",
       "  size: 5023456\n",
       "  total_chunks: 464\n",
       "  total_tokens: 70729\n",
       "  external_metadata {\n",
       "  }\n",
       "}\n",
       "total_size: 1\n",
       "filter {\n",
       "}"
      ]
     },
     "execution_count": 11,
     "metadata": {},
     "output_type": "execute_result"
    }
   ],
   "source": [
    "artifact.list_catalog_files(namespace_id=namespace_id, catalog_id=catalog_id)"
   ]
  },
  {
   "cell_type": "markdown",
   "metadata": {},
   "source": [
    "Once `process_status` is equal to `FILE_PROCESS_STATUS_COMPLETED`, you can [Retrieve](https://www.instill.tech/docs/artifact/retrieve) from the catalog and perform RAG."
   ]
  },
  {
   "cell_type": "markdown",
   "metadata": {},
   "source": [
    "### Initial RAG Pipeline with LLM-based Evaluations\n",
    "\n",
    "We will now call the initial RAG pipeline - [`auto-evaluative-rag-v0`](https://instill.tech/george_strong/pipelines/auto-evaluative-rag-v0/playground) - with LLM-based evaluations. First, we will define a function to trigger the pipeline and handle the response."
   ]
  },
  {
   "cell_type": "code",
   "execution_count": 4,
   "metadata": {},
   "outputs": [],
   "source": [
    "pipeline = core.pipeline\n",
    "\n",
    "\n",
    "def trigger_rag_pipeline(\n",
    "    namespace_id: str,\n",
    "    pipeline_id: str,\n",
    "    catalog_id: str,\n",
    "    query: str,\n",
    "    top_k: int = 10,\n",
    "    enable_eval: bool = True\n",
    ") -> dict:\n",
    "    return MessageToDict(\n",
    "        pipeline.trigger(\n",
    "            namespace_id=namespace_id,\n",
    "            pipeline_id=pipeline_id,\n",
    "            data=[{\n",
    "                \"catalog-name\": catalog_id,\n",
    "                \"eval\": enable_eval,\n",
    "                \"namespace\": namespace_id,\n",
    "                \"top-k\": top_k,\n",
    "                \"user-query\": query\n",
    "            }]\n",
    "        )\n",
    "    )"
   ]
  },
  {
   "cell_type": "markdown",
   "metadata": {},
   "source": [
    "We can then run the pipeline to get a response as follows:"
   ]
  },
  {
   "cell_type": "code",
   "execution_count": 13,
   "metadata": {},
   "outputs": [],
   "source": [
    "resp = trigger_rag_pipeline(\n",
    "    namespace_id=namespace_id,\n",
    "    pipeline_id=\"auto-evaluative-rag-v0\",\n",
    "    catalog_id=catalog_id,\n",
    "    query=\"What is the financial sector risk outlook in the next 12 months?\",\n",
    "    top_k=5,\n",
    "    enable_eval=True\n",
    ")"
   ]
  },
  {
   "cell_type": "markdown",
   "metadata": {},
   "source": [
    "Along with the response, we also get the evaluation metrics: \n",
    "\n",
    "- `context-precision`: How well the retrieved context aligns with the user query\n",
    "- `answer-relevancy`: How effectively the response addresses the user query\n",
    "- `faithfulness`: How accurately the generated response reflects the retrieved documents\n",
    "\n",
    "As well as a structured JSON object `evaluation-metrics` containing the quantitative scores for each metric."
   ]
  },
  {
   "cell_type": "code",
   "execution_count": 14,
   "metadata": {},
   "outputs": [
    {
     "name": "stdout",
     "output_type": "stream",
     "text": [
      "Response: \n",
      " The financial sector risk outlook for the next 12 months presents a mixed picture, particularly when analyzed through the lens of income levels among emerging market and developing economies (EMDEs). \n",
      "\n",
      "1. **General Overview**: An analysis of 50 EMDEs, which collectively represent 93% of total bank assets in these economies, indicates that approximately 70% of these countries are expected to face low to moderate financial sector risks. However, this stability is not uniform across all income groups.\n",
      "\n",
      "2. **Higher-Income EMDEs**: For higher-income EMDEs, the financial sector risks are generally low to moderate. These countries are better positioned to manage potential financial stresses due to stronger economic fundamentals and more resilient financial systems.\n",
      "\n",
      "3. **Lower-Income EMDEs**: In stark contrast, half of the lower-income and lower-middle-income countries analyzed are facing high financial sector risks. This group, while accounting for only 2.2% of total EMDE banking sector assets, represents about one-quarter of the banking sector assets in the lower-income category. The risks in these countries are exacerbated by a combination of domestic challenges—such as government debt sustainability issues, high sovereign-bank linkages, and deteriorating bank asset quality—and global factors, including shifts in monetary policy and economic growth in advanced economies, as well as ongoing geopolitical conflicts.\n",
      "\n",
      "4. **Regional Vulnerabilities**: Vulnerabilities are particularly pronounced in regions like South Asia and Sub-Saharan Africa, where many countries have been excluded from international debt markets for extended periods, notably throughout 2022 and 2023.\n",
      "\n",
      "5. **Preparedness and Resilience**: Alarmingly, nearly 70% of the countries facing high financial sector risks are not adequately prepared to handle financial stress. This highlights the urgent need for banking authorities in these nations to implement measures to strengthen their financial sectors and enhance resilience.\n",
      "\n",
      "In summary, while the financial sector outlook is relatively stable for higher-income EMDEs, significant risks loom for lower-income countries, necessitating focused attention and action to mitigate potential crises in the coming year. \n",
      "\n",
      "Context Precision: \n",
      " 1. **Chunk 1**  \n",
      "   **Relevance: Relevant**  \n",
      "   **Justification:** This chunk provides a detailed analysis of financial sector risks in emerging market and developing economies (EMDEs) over the next 12 months. It highlights the varying risk levels between higher-income and lower-income countries, which directly addresses the user's query about the financial sector risk outlook.\n",
      "\n",
      "2. **Chunk 2**  \n",
      "   **Relevance: Relevant**  \n",
      "   **Justification:** This chunk also discusses the financial sector risk outlook for EMDEs, emphasizing the moderate risks in higher-income countries and the high risks faced by lower-income countries. It provides specific data and context that align well with the user's request for information on the next 12 months.\n",
      "\n",
      "3. **Chunk 3**  \n",
      "   **Relevance: Relevant**  \n",
      "   **Justification:** This chunk analyzes the financial sector resilience and stability among EMDEs, noting the significant risks faced by lower-income countries. It offers insights into the preparedness of these countries to handle financial stress, which is pertinent to the user's inquiry about the risk outlook.\n",
      "\n",
      "4. **Chunk 4**  \n",
      "   **Relevance: Relevant**  \n",
      "   **Justification:** This executive summary succinctly captures the financial sector risk outlook for EMDEs, highlighting the disparity between income groups. It provides a clear overview of the risks expected in the next 12 months, making it highly relevant to the user's query.\n",
      "\n",
      "5. **Chunk 5**  \n",
      "   **Relevance: Relevant**  \n",
      "   **Justification:** This chunk presents a visual representation of the financial sector risk outlook categorized by income group, along with relevant statistics. It directly addresses the user's query by summarizing the risk levels expected in the next 12 months, thus providing valuable context and data.\n",
      "\n",
      "**Context Precision Calculation:**  \n",
      "Total Number of Chunks: 5  \n",
      "Number of Relevant Chunks: 5  \n",
      "\n",
      "**Context Precision = 5 / 5 = 1.0**  \n",
      "\n",
      "The context precision score is 1.0, indicating that all retrieved chunks are relevant to the user's query. \n",
      "\n",
      "Answer Relevancy: \n",
      " 1. **Query Understanding**: The user's query seeks an assessment of the financial sector risk outlook specifically for the next 12 months. The key concepts include \"financial sector,\" \"risk outlook,\" and the time frame of \"next 12 months.\"\n",
      "\n",
      "2. **Relevancy Criteria**:\n",
      "   - **Directness**: The response directly addresses the user's question by providing an outlook on financial sector risks over the next year.\n",
      "   - **Specificity**: The response includes specific details about different income groups within emerging market and developing economies (EMDEs), which adds depth to the analysis.\n",
      "   - **Completeness**: The response covers various aspects of the financial sector risk outlook, including general trends, distinctions between higher and lower-income EMDEs, regional vulnerabilities, and preparedness levels. This comprehensive approach satisfies the user's query.\n",
      "   - **Clarity**: The response is well-structured and clearly communicates the relevant information, making it easy for the user to understand the financial sector risk outlook.\n",
      "   - **Alignment with Intent**: The response aligns well with the user's intent by focusing on the financial sector risk outlook for the specified time frame.\n",
      "\n",
      "3. **Irrelevancy Indicators**: There are no significant off-topic information or inaccuracies present in the response. All statements are relevant to the user's query.\n",
      "\n",
      "4. **Edge Cases**: The response is fully relevant and does not contain any ambiguous or unclear elements. It effectively addresses the core of the user's question.\n",
      "\n",
      "5. **Final Decision**: The generated response is relevant to the user's query. It provides a thorough analysis of the financial sector risk outlook for the next 12 months, covering various income levels and regional vulnerabilities.\n",
      "\n",
      "6. **Answer Relevancy Calculation**: \n",
      "   - Total number of statements in the generated response: 5 (General Overview, Higher-Income EMDEs, Lower-Income EMDEs, Regional Vulnerabilities, Preparedness and Resilience).\n",
      "   - Number of relevant statements: 5 (all statements are relevant).\n",
      "\n",
      "**Answer Relevancy Score** = 5 / 5 = 1.0\n",
      "\n",
      "The overall answer relevancy score is 1.0, indicating that the response fully addresses the user's question regarding the financial sector risk outlook in the next 12 months. \n",
      "\n",
      "Faithfulness: \n",
      " **Evaluation of Faithfulness:**\n",
      "\n",
      "1. **General Overview**: \n",
      "   - **Generated Response**: \"An analysis of 50 EMDEs, which collectively represent 93% of total bank assets in these economies, indicates that approximately 70% of these countries are expected to face low to moderate financial sector risks.\"\n",
      "   - **Retrieved Chunks**: \"An analysis of 50 EMDEs which represent 93 percent of total bank assets in EMDEs, found that 70 percent of sample countries face low to moderate financial sector risks in the next 12 months.\"\n",
      "   - **Assessment**: Faithful. This statement is directly supported by the retrieved chunks.\n",
      "\n",
      "2. **Higher-Income EMDEs**: \n",
      "   - **Generated Response**: \"For higher-income EMDEs, the financial sector risks are generally low to moderate.\"\n",
      "   - **Retrieved Chunks**: \"While financial sector risks for most higher-income EMDEs are low to moderate...\"\n",
      "   - **Assessment**: Faithful. This statement accurately reflects the information in the retrieved chunks.\n",
      "\n",
      "3. **Lower-Income EMDEs**: \n",
      "   - **Generated Response**: \"In stark contrast, half of the lower-income and lower-middle-income countries analyzed are facing high financial sector risks.\"\n",
      "   - **Retrieved Chunks**: \"half of low-income countries (LICs) and lower-middle income countries (LMICs) face high risks.\"\n",
      "   - **Assessment**: Faithful. This statement is directly supported by the retrieved chunks.\n",
      "\n",
      "4. **Details on Risks**: \n",
      "   - **Generated Response**: \"The risks in these countries are exacerbated by a combination of domestic challenges—such as government debt sustainability issues, high sovereign-bank linkages, and deteriorating bank asset quality—and global factors, including shifts in monetary policy and economic growth in advanced economies, as well as ongoing geopolitical conflicts.\"\n",
      "   - **Retrieved Chunks**: \"In many of these countries global risks related to the monetary policy and economic growth outlook in advanced economies, as well as geopolitical conflicts, compound domestic risks. Domestic risks result from government debt sustainability challenges and a high sovereign-bank nexus, lagged effects of high interest rates on private sector debt-service capacity, and challenges related to bank asset quality.\"\n",
      "   - **Assessment**: Faithful. This statement accurately reflects the details provided in the retrieved chunks.\n",
      "\n",
      "5. **Regional Vulnerabilities**: \n",
      "   - **Generated Response**: \"Vulnerabilities are particularly pronounced in regions like South Asia and Sub-Saharan Africa, where many countries have been excluded from international debt markets for extended periods, notably throughout 2022 and 2023.\"\n",
      "   - **Retrieved Chunks**: \"One striking outcome of this backdrop has been the exclusion of Sub-Saharan African countries from international debt markets for most of 2022 and 2023.\"\n",
      "   - **Assessment**: Partially Faithful. While the statement about Sub-Saharan Africa is supported, the mention of South Asia is not explicitly supported by the retrieved chunks.\n",
      "\n",
      "6. **Preparedness and Resilience**: \n",
      "   - **Generated Response**: \"Alarmingly, nearly 70% of the countries facing high financial sector risks are not adequately prepared to handle financial stress.\"\n",
      "   - **Retrieved Chunks**: \"Nearly 70 percent of countries facing high financial sector risks are currently not adequately prepared to handle financial stress.\"\n",
      "   - **Assessment**: Faithful. This statement is directly supported by the retrieved chunks.\n",
      "\n",
      "7. **Summary Statement**: \n",
      "   - **Generated Response**: \"In summary, while the financial sector outlook is relatively stable for higher-income EMDEs, significant risks loom for lower-income countries, necessitating focused attention and action to mitigate potential crises in the coming year.\"\n",
      "   - **Retrieved Chunks**: \"The financial sector risk outlook for emerging market and developing economies (EMDEs) is largely divided along income lines, with lower-income countries facing much higher risks than higher-income countries.\"\n",
      "   - **Assessment**: Faithful. This summary accurately reflects the overall findings from the retrieved chunks.\n",
      "\n",
      "**Overall Faithfulness Calculation:**\n",
      "- Total Statements: 7\n",
      "- Faithful Statements: 6 (the statement about South Asia is partially faithful)\n",
      "- Faithfulness Score = 6 / 7 = 0.857\n",
      "\n",
      "**Final Decision**: The generated response is largely faithful to the retrieved chunks, with a score of 0.857. The only minor issue is the unsupported mention of South Asia, which does not detract significantly from the overall accuracy of the response. \n",
      "\n",
      "Evaluation Metrics: \n",
      " {'contextPrecision': 1.0, 'answerRelevancy': 1.0, 'faithfulness': 0.857} \n",
      "\n"
     ]
    }
   ],
   "source": [
    "print(\"Response: \\n\", resp['outputs'][0]['response'], \"\\n\")\n",
    "print(\"Context Precision: \\n\", resp['outputs'][0]['context-precision'], \"\\n\")\n",
    "print(\"Answer Relevancy: \\n\", resp['outputs'][0]['answer-relevancy'], \"\\n\")\n",
    "print(\"Faithfulness: \\n\", resp['outputs'][0]['faithfulness'], \"\\n\")\n",
    "print(\"Evaluation Metrics: \\n\", resp['outputs'][0]['evaluation-metrics'], \"\\n\")"
   ]
  },
  {
   "cell_type": "markdown",
   "metadata": {},
   "source": [
    "We can now run a list of test queries, that were synthetically generated using `gpt-4o` with the Finance and Prosperity 2024 report as context, to evaluate the pipeline. Pipeline runs are logged automatically for downstream analysis."
   ]
  },
  {
   "cell_type": "code",
   "execution_count": 6,
   "metadata": {},
   "outputs": [],
   "source": [
    "questions = [\n",
    "    \"What is the financial sector risk outlook in the next 12 months?\",\n",
    "    \"What is the 'sovereign-bank nexus,' and how does it affect financial stability in EMDEs?\",\n",
    "    \"How have lower-income EMDEs been excluded from international debt markets in recent years?\",\n",
    "    \"What percentage of EMDE banks' lending portfolios is typically allocated to climate finance, and what are the implications?\",\n",
    "    \"What are the recommended policy measures for improving financial sector resilience in high-risk EMDEs?\",\n",
    "    \"Describe the stages of a financial crisis in the context of the sovereign-bank nexus as outlined in the report.\",\n",
    "    \"What is the role of digital financial services (DFS) in increasing financial inclusion in EMDEs?\",\n",
    "    \"According to the report, why is climate adaptation finance particularly challenging for EMDEs?\",\n",
    "    \"How does geopolitical conflict influence financial conditions in regions like South Asia and Sub-Saharan Africa?\",\n",
    "    \"Explain the impact of high nonperforming loan (NPL) ratios in EMDE banking systems.\",\n",
    "    \"What are the main sources of climate finance in EMDEs, excluding China?\",\n",
    "    \"What are some common methods used to conduct stress tests on banking systems?\",\n",
    "    \"Explain how digital financial services can drive financial inclusion globally.\",\n",
    "    \"What is the significance of having adequate capital buffers in a banking system?\",\n",
    "    \"How do central banks influence economic stability during global crises?\",\n",
    "    \"Discuss the role of green bonds in promoting climate finance.\",\n",
    "    \"What is the average global percentage of renewable energy investments in developing countries?\",\n",
    "    \"Explain the concept of blockchain technology and its potential use in banking.\",\n",
    "    \"How does artificial intelligence enhance fraud detection in the financial sector?\",\n",
    "    \"What are the economic impacts of natural disasters on GDP growth in developing countries?\",\n",
    "    \"How do trade policies between advanced economies affect low-income countries?\",\n",
    "    \"What role do state-owned banks play in the sovereign-bank nexus in lower-income countries?\",\n",
    "    \"How does the concentration of banking assets in a few institutions affect financial sector competition in EMDEs?\",\n",
    "    \"What measures have banking authorities adopted to address climate risks in financial sectors of EMDEs?\",\n",
    "    \"Explain the challenges faced by EMDEs in mobilizing private climate finance.\",\n",
    "    \"What are the implications of high government debt exposure for the banking systems in EMDEs?\",\n",
    "    \"Describe how fiscal and monetary policies in advanced economies influence EMDE financial stability.\",\n",
    "    \"What trends in financial inclusion have been observed in EMDEs over the last decade?\",\n",
    "    \"Why is there a high reliance on public sources for climate adaptation finance in EMDEs?\",\n",
    "    \"How do geopolitical tensions contribute to inflationary pressures in EMDE financial markets?\",\n",
    "    \"What factors contribute to the exclusion of Sub-Saharan African countries from international debt markets?\",\n",
    "    \"What are the main differences between advanced economies and EMDEs in terms of financial system resilience?\",\n",
    "    \"How does financial literacy influence the adoption of digital financial services in developing countries?\",\n",
    "    \"Discuss the role of microfinance institutions in supporting small and medium enterprises (SMEs) in developing economies.\",\n",
    "    \"What are the potential consequences of prolonged high inflation on financial sectors in emerging markets?\",\n",
    "    \"How can international organizations like the World Bank support EMDEs in mitigating sovereign debt risks?\",\n",
    "    \"Explain the significance of Basel regulatory standards for global financial stability.\",\n",
    "    \"What is the impact of foreign direct investment on financial sector development in low-income countries?\",\n",
    "    \"Describe the importance of diversifying funding sources for EMDE governments.\",\n",
    "    \"How do remittances contribute to financial stability in developing economies?\",\n",
    "    \"Discuss the role of credit rating agencies in influencing access to international capital for EMDEs.\",\n",
    "    \"What is the significance of digital currencies in reducing cross-border transaction costs?\",\n",
    "    \"How does artificial intelligence influence customer engagement in retail banking?\",\n",
    "    \"What is the potential of carbon credit trading in reducing global emissions?\",\n",
    "    \"How do interest rate hikes in the U.S. Federal Reserve impact global commodity markets?\",\n",
    "    \"Explain the differences between sovereign debt and corporate debt restructuring.\",\n",
    "    \"What are the long-term economic implications of demographic shifts in aging populations globally?\",\n",
    "    \"How do renewable energy investments affect energy security in developing countries?\",\n",
    "    \"What role does cybersecurity play in ensuring financial stability for global institutions?\",\n",
    "    \"How can developing economies enhance disaster risk financing mechanisms?\",\n",
    "    \"What are the environmental and economic benefits of transitioning to a circular economy model?\",\n",
    "    \"How does quantum computing impact data encryption in the banking sector?\",\n",
    "    \"What are the ethical considerations in deploying AI for hiring processes?\",\n",
    "    \"How do coral reef ecosystems contribute to global biodiversity?\",\n",
    "    \"What are the key differences between classical and operant conditioning in psychology?\",\n",
    "    \"Explain the process of nuclear fusion and its potential for energy production.\",\n",
    "    \"What are the health benefits of adopting a Mediterranean diet?\",\n",
    "    \"How does the International Space Station contribute to scientific research?\",\n",
    "    \"What are the primary causes of deforestation in the Amazon rainforest?\",\n",
    "    \"How does the Doppler effect explain the change in pitch of a passing siren?\",\n",
    "    \"What strategies are used to combat antibiotic resistance in healthcare?\",\n",
    "    \"How does 5G technology enhance mobile communication networks?\",\n",
    "    \"What are the main principles of sustainable urban planning?\",\n",
    "    \"How do cryptocurrencies function without a centralized banking system?\",\n",
    "    \"What is the role of the United Nations in mediating global conflicts?\",\n",
    "    \"Explain the significance of the Kyoto Protocol in combating climate change.\",\n",
    "    \"How does photosynthesis contribute to the global carbon cycle?\",\n",
    "    \"What are the main differences between renewable and nonrenewable energy sources?\",\n",
    "    \"How does the Internet of Things (IoT) enable smart city technologies?\",\n",
    "    \"What are the psychological effects of prolonged social isolation?\",\n",
    "    \"How has drone technology transformed agricultural practices?\"\n",
    "]"
   ]
  },
  {
   "cell_type": "markdown",
   "metadata": {},
   "source": [
    "Let's call the pipeline concurrently using a ThreadPoolExecutor to speed up the process ⚡"
   ]
  },
  {
   "cell_type": "code",
   "execution_count": 16,
   "metadata": {},
   "outputs": [],
   "source": [
    "def process_all_questions(\n",
    "    questions, \n",
    "    pipeline_id: str,\n",
    "    top_k: int = 10,\n",
    "    max_workers: int = 15\n",
    "):\n",
    "    results = []\n",
    "    with ThreadPoolExecutor(max_workers=max_workers) as executor:\n",
    "        # Submit all questions to the executor\n",
    "        future_to_question = {\n",
    "            executor.submit(\n",
    "                trigger_rag_pipeline,\n",
    "                namespace_id=namespace_id,\n",
    "                pipeline_id=pipeline_id,\n",
    "                catalog_id=catalog_id,\n",
    "                query=question,\n",
    "                top_k=top_k\n",
    "            ): question for question in questions\n",
    "        }\n",
    "        \n",
    "        # Collect results as they complete\n",
    "        with tqdm(total=len(questions), desc=\"Processing questions\") as pbar:\n",
    "            for future in as_completed(future_to_question):\n",
    "                question = future_to_question[future]\n",
    "                try:\n",
    "                    result = future.result()\n",
    "                    results.append({\n",
    "                        'question': question,\n",
    "                        'response': result['outputs'][0]['response']\n",
    "                    })\n",
    "                except Exception as e:\n",
    "                    print(f'Question \"{question}\" generated an exception: {e}')\n",
    "                pbar.update(1)\n",
    "    \n",
    "    return results"
   ]
  },
  {
   "cell_type": "code",
   "execution_count": 17,
   "metadata": {},
   "outputs": [
    {
     "name": "stderr",
     "output_type": "stream",
     "text": [
      "WARNING: All log messages before absl::InitializeLog() is called are written to STDERR\n",
      "I0000 00:00:1734010952.251868 66727183 fork_posix.cc:77] Other threads are currently calling into gRPC, skipping fork() handlers\n",
      "Processing questions: 100%|██████████| 71/71 [04:05<00:00,  3.46s/it]\n"
     ]
    }
   ],
   "source": [
    "top_k = 8\n",
    "results_v0 = process_all_questions(\n",
    "    questions,\n",
    "    pipeline_id=\"auto-evaluative-rag-v0\",\n",
    "    top_k=top_k\n",
    ")"
   ]
  },
  {
   "cell_type": "markdown",
   "metadata": {},
   "source": [
    "### Extract and Analyze the LLM-based Evaluation 📈\n",
    "\n",
    "We can now extract the evaluation metrics from the pipeline run logs and analyze them."
   ]
  },
  {
   "cell_type": "code",
   "execution_count": 7,
   "metadata": {},
   "outputs": [],
   "source": [
    "runs_v0 = MessageToDict(\n",
    "    pipeline.list_pipeline_runs(\n",
    "        namespace_id=namespace_id,\n",
    "        pipeline_id=\"auto-evaluative-rag-v0\",\n",
    "        total_size=len(questions)\n",
    "    )\n",
    ")['pipelineRuns']"
   ]
  },
  {
   "cell_type": "code",
   "execution_count": 8,
   "metadata": {},
   "outputs": [],
   "source": [
    "# Extract metrics from all runs\n",
    "metrics_v0 = []\n",
    "for run in runs_v0:\n",
    "    metrics = run['outputs'][0]['evaluation-metrics']\n",
    "    metrics_v0.append({\n",
    "        'context_precision': metrics['contextPrecision'],\n",
    "        'answer_relevancy': metrics['answerRelevancy'],\n",
    "        'faithfulness': metrics['faithfulness']\n",
    "    })\n",
    "\n",
    "# Convert to DataFrame for easier analysis\n",
    "df_v0 = pd.DataFrame(metrics_v0)"
   ]
  },
  {
   "cell_type": "markdown",
   "metadata": {},
   "source": [
    "Now that we have a metrics in a tabular format, we can perform some basic analysis."
   ]
  },
  {
   "cell_type": "code",
   "execution_count": 9,
   "metadata": {},
   "outputs": [
    {
     "name": "stdout",
     "output_type": "stream",
     "text": [
      "Metrics Statistics:\n",
      "       context_precision  answer_relevancy  faithfulness\n",
      "count          71.000000         71.000000     71.000000\n",
      "mean            0.460024          0.985915      0.618021\n",
      "std             0.407371          0.118678      0.446390\n",
      "min             0.000000          0.000000      0.000000\n",
      "25%             0.000000          1.000000      0.000000\n",
      "50%             0.500000          1.000000      0.875000\n",
      "75%             0.875000          1.000000      1.000000\n",
      "max             1.000000          1.000000      1.000000\n"
     ]
    }
   ],
   "source": [
    "# Basic statistics\n",
    "print(\"Metrics Statistics:\")\n",
    "print(df_v0.describe())"
   ]
  },
  {
   "cell_type": "markdown",
   "metadata": {},
   "source": [
    "Answer relevancy is suspiciously high, whilst faithfulness seems pretty low. Let's plot the metrics against each other to get a better understanding as to what is going on!"
   ]
  },
  {
   "cell_type": "code",
   "execution_count": 10,
   "metadata": {},
   "outputs": [
    {
     "data": {
      "image/png": "[encoded data removed]",
      "text/plain": [
       "<Figure size 400x400 with 3 Axes>"
      ]
     },
     "metadata": {},
     "output_type": "display_data"
    }
   ],
   "source": [
    "bins = np.linspace(0, 1, 9)\n",
    "ticks = np.arange(0, 1.1, 0.25)\n",
    "\n",
    "sns.jointplot(\n",
    "    data=df_v0,\n",
    "    x='faithfulness',\n",
    "    y='context_precision',\n",
    "    kind='hex',\n",
    "    joint_kws={'gridsize': 7,\n",
    "            'vmin': 0,\n",
    "            'vmax': 20,\n",
    "            'extent': [0, 1, 0, 1]},\n",
    "    marginal_kws={'bins': bins},\n",
    "    height=4,\n",
    "    color=\"#4CB391\"\n",
    ")\n",
    "plt.xlim(-0.1, 1.1)\n",
    "plt.ylim(-0.1, 1.1)\n",
    "plt.xticks(ticks)\n",
    "plt.yticks(ticks)\n",
    "plt.xlabel(\"Faithfulness\")\n",
    "plt.ylabel(\"Context Precision\")\n",
    "plt.show()"
   ]
  },
  {
   "cell_type": "markdown",
   "metadata": {},
   "source": [
    "This plot shows a very high-density dark region where context precision and faithfulness are both ~0. In other words, this is where the pipeline is unable to retrieve relevant information from the document, so it hallucinates responses."
   ]
  },
  {
   "cell_type": "code",
   "execution_count": 11,
   "metadata": {},
   "outputs": [
    {
     "data": {
      "image/png": "[encoded data removed]",
      "text/plain": [
       "<Figure size 400x400 with 3 Axes>"
      ]
     },
     "metadata": {},
     "output_type": "display_data"
    }
   ],
   "source": [
    "sns.jointplot(\n",
    "    data=df_v0,\n",
    "    x='answer_relevancy',\n",
    "    y='context_precision',\n",
    "    kind='hex',\n",
    "    joint_kws={'gridsize': 7,\n",
    "            'vmin': 0,\n",
    "            'vmax': 20,\n",
    "            'extent': [0, 1, 0, 1]},\n",
    "    marginal_kws={'bins': bins},\n",
    "    height=4,\n",
    "    color=\"#4CB391\"\n",
    ")\n",
    "plt.xlim(-0.1, 1.1)\n",
    "plt.ylim(-0.1, 1.1)\n",
    "plt.xticks(ticks)\n",
    "plt.yticks(ticks)\n",
    "plt.xlabel(\"Answer Relevancy\")\n",
    "plt.ylabel(\"Context Precision\")\n",
    "plt.show()"
   ]
  },
  {
   "cell_type": "markdown",
   "metadata": {},
   "source": [
    "This plot paints a similar picture, demonstrating that answer relevancy and context precision are almost entirely uncorrelated. This means that the system delivers highly relevant answers, even when the retrieved context is not relevant. This is a bad sign, as it again indicates that the system is hallucinating in its responses.\n",
    "\n",
    "Based on these findings, even in the absence of any ground truth labels, we can see that the pipeline is hallucinating in its responses when it is unable to retrieve relevant information from the document.\n"
   ]
  },
  {
   "cell_type": "markdown",
   "metadata": {},
   "source": [
    "### Optimized RAG Pipeline 🚀\n",
    "\n",
    "To improve the pipeline, we took the following steps:\n",
    "\n",
    "1. **Query Revisor**: We created a custom component that revises the user query into a more suitable search query to retrieve relevant information from the document.    \n",
    "2. **Prompt Optimization**: The prompt and system prompt for the LLM that generates the response were updated with much more explicit instructions to be faithful to the retrieved context.\n",
    "\n",
    "To give you a sense of the structure of the pipeline, take a look at the pipeline preview below:"
   ]
  },
  {
   "cell_type": "code",
   "execution_count": 27,
   "metadata": {},
   "outputs": [
    {
     "data": {
      "text/html": [
       "\n",
       "        <iframe\n",
       "            width=\"1000\"\n",
       "            height=\"900\"\n",
       "            src=\"https://instill.tech/george_strong/pipelines/auto-evaluative-rag/preview\"\n",
       "            frameborder=\"0\"\n",
       "            allowfullscreen\n",
       "            \n",
       "        ></iframe>\n",
       "        "
      ],
      "text/plain": [
       "<IPython.lib.display.IFrame at 0x3042cc350>"
      ]
     },
     "execution_count": 27,
     "metadata": {},
     "output_type": "execute_result"
    }
   ],
   "source": [
    "from IPython.display import IFrame\n",
    "IFrame('https://instill.tech/george_strong/pipelines/auto-evaluative-rag/preview', width=1000, height=900)"
   ]
  },
  {
   "cell_type": "markdown",
   "metadata": {},
   "source": [
    "Let's now repeat the same process of calling the new pipeline on the same set of questions and extracting the evaluation metrics."
   ]
  },
  {
   "cell_type": "code",
   "execution_count": 28,
   "metadata": {},
   "outputs": [
    {
     "name": "stderr",
     "output_type": "stream",
     "text": [
      "Processing questions: 100%|██████████| 71/71 [03:35<00:00,  3.03s/it]\n"
     ]
    }
   ],
   "source": [
    "results_v1 = process_all_questions(\n",
    "    questions,\n",
    "    pipeline_id=\"auto-evaluative-rag\",\n",
    "    top_k=top_k\n",
    ")"
   ]
  },
  {
   "cell_type": "markdown",
   "metadata": {},
   "source": [
    "As before, we can extract the evaluation metrics from the pipeline run logs and generate simple statistics and plots to analyze its performance."
   ]
  },
  {
   "cell_type": "code",
   "execution_count": 12,
   "metadata": {},
   "outputs": [],
   "source": [
    "runs_v1 = MessageToDict(\n",
    "    pipeline.list_pipeline_runs(\n",
    "        namespace_id=namespace_id,\n",
    "        pipeline_id=\"auto-evaluative-rag\",\n",
    "        total_size=len(questions)\n",
    "    )\n",
    ")['pipelineRuns']"
   ]
  },
  {
   "cell_type": "code",
   "execution_count": 13,
   "metadata": {},
   "outputs": [
    {
     "name": "stdout",
     "output_type": "stream",
     "text": [
      "Metrics Statistics:\n",
      "       context_precision  answer_relevancy  faithfulness\n",
      "count          71.000000         71.000000     71.000000\n",
      "mean            0.457485          0.750047      0.817398\n",
      "std             0.395614          0.409936      0.289929\n",
      "min             0.000000          0.000000      0.000000\n",
      "25%             0.000000          0.500000      0.668333\n",
      "50%             0.500000          1.000000      1.000000\n",
      "75%             0.857000          1.000000      1.000000\n",
      "max             1.000000          1.000000      1.000000\n"
     ]
    }
   ],
   "source": [
    "# Extract metrics from all runs\n",
    "metrics_v1 = []\n",
    "for run in runs_v1:\n",
    "    metrics = run['outputs'][0]['evaluation-metrics']\n",
    "    metrics_v1.append({\n",
    "        'context_precision': metrics['contextPrecision'],\n",
    "        'answer_relevancy': metrics['answerRelevancy'],\n",
    "        'faithfulness': metrics['faithfulness']\n",
    "    })\n",
    "\n",
    "# Convert to DataFrame for easier analysis\n",
    "df_v1 = pd.DataFrame(metrics_v1)\n",
    "\n",
    "# Basic statistics\n",
    "print(\"Metrics Statistics:\")\n",
    "print(df_v1.describe())"
   ]
  },
  {
   "cell_type": "markdown",
   "metadata": {},
   "source": [
    "While mean answer relevancy has decreased, mean faithfulness has increased, indicating that the number of hallucinations has been reduced 🎉!"
   ]
  },
  {
   "cell_type": "code",
   "execution_count": 14,
   "metadata": {},
   "outputs": [
    {
     "data": {
      "image/png": "[encoded data removed]",
      "text/plain": [
       "<Figure size 400x400 with 3 Axes>"
      ]
     },
     "metadata": {},
     "output_type": "display_data"
    }
   ],
   "source": [
    "sns.jointplot(\n",
    "    data=df_v1,\n",
    "    x='faithfulness',\n",
    "    y='context_precision',\n",
    "    kind='hex',\n",
    "    joint_kws={'gridsize': 7,\n",
    "            'vmin': 0,\n",
    "            'vmax': 20,\n",
    "            'extent': [0, 1, 0, 1]},\n",
    "    marginal_kws={'bins': bins},\n",
    "    height=4,\n",
    "    color=\"#4CB391\"\n",
    ")\n",
    "plt.xlim(-0.1, 1.1)\n",
    "plt.ylim(-0.1, 1.1)\n",
    "plt.xticks(ticks)\n",
    "plt.yticks(ticks)\n",
    "plt.xlabel(\"Faithfulness\")\n",
    "plt.ylabel(\"Context Precision\")\n",
    "plt.show()"
   ]
  },
  {
   "cell_type": "markdown",
   "metadata": {},
   "source": [
    "The high-density region where context precision and faithfulness were both ~0 has been eradicated. While context precision is roughly the same, this suggests that the pipeline response is now much more faithful to the retrieved context."
   ]
  },
  {
   "cell_type": "code",
   "execution_count": 15,
   "metadata": {},
   "outputs": [
    {
     "data": {
      "image/png": "[encoded data removed]",
      "text/plain": [
       "<Figure size 400x400 with 3 Axes>"
      ]
     },
     "metadata": {},
     "output_type": "display_data"
    }
   ],
   "source": [
    "sns.jointplot(\n",
    "    data=df_v1,\n",
    "    x='answer_relevancy',\n",
    "    y='context_precision',\n",
    "    kind='hex',\n",
    "    joint_kws={'gridsize': 7,\n",
    "            'vmin': 0,\n",
    "            'vmax': 20,\n",
    "            'extent': [0, 1, 0, 1]},\n",
    "    marginal_kws={'bins': bins},\n",
    "    height=4,\n",
    "    color=\"#4CB391\"\n",
    ")\n",
    "plt.xlim(-0.1, 1.1)\n",
    "plt.ylim(-0.1, 1.1)\n",
    "plt.xticks(ticks)\n",
    "plt.yticks(ticks)\n",
    "plt.xlabel(\"Answer Relevancy\")\n",
    "plt.ylabel(\"Context Precision\")\n",
    "plt.show()"
   ]
  },
  {
   "cell_type": "markdown",
   "metadata": {},
   "source": [
    "This plot now shows a clear relationship between answer relevancy and context precision. We can observe two distinct high-density regions:\n",
    "   - The top-right region where both answer relevancy and context precision are high: relevant information can be retrieved and so a highly relevant answer is given.\n",
    "   - The bottom-left region where both answer relevancy and context precision are low: relevant information cannot be retrieved (probably because the query is out of scope) and so a less relevant answer is given.\n",
    "\n",
    "This suggests that the pipeline is now able to retrieve relevant information from the document and deliver highly relevant answers.\n",
    "\n",
    "By leveraging LLM-based evaluations, we enhanced the RAG system's ability to produce trustworthy and actionable insights, demonstrating how these metrics can significantly improve system outcomes."
   ]
  },
  {
   "cell_type": "code",
   "execution_count": 16,
   "metadata": {},
   "outputs": [],
   "source": [
    "pipeline.close()\n",
    "artifact.close()"
   ]
  },
  {
   "cell_type": "markdown",
   "metadata": {},
   "source": [
    "Hope you enjoyed this cookbook on RAG with LLM-based Evaluations!\n",
    "\n",
    "Checkout our [blog](https://www.instill.tech/blog) for more tutorials and AI-related insights, and stay tuned for more notebooks coming soon! 🚀"
   ]
  }
 ],
 "metadata": {
  "kernelspec": {
   "display_name": "instill",
   "language": "python",
   "name": "python3"
  },
  "language_info": {
   "codemirror_mode": {
    "name": "ipython",
    "version": 3
   },
   "file_extension": ".py",
   "mimetype": "text/x-python",
   "name": "python",
   "nbconvert_exporter": "python",
   "pygments_lexer": "ipython3",
   "version": "3.11.9"
  }
 },
 "nbformat": 4,
 "nbformat_minor": 2
}
